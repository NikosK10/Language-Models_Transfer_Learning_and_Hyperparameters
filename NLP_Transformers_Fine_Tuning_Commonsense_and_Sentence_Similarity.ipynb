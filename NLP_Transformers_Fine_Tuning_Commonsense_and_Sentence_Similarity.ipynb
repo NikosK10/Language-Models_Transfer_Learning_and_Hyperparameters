{
  "cells": [
    {
      "cell_type": "code",
      "execution_count": null,
      "metadata": {
        "colab": {
          "base_uri": "https://localhost:8080/"
        },
        "collapsed": true,
        "executionInfo": {
          "elapsed": 127462,
          "status": "ok",
          "timestamp": 1744461474868,
          "user": {
            "displayName": "\u039d\u03af\u03ba\u03bf\u03c2 \u039a\u03b1\u03c4\u03c3\u03b1\u03ca\u03b4\u03ce\u03bd\u03b7\u03c2",
            "userId": "13489937806515013970"
          },
          "user_tz": -180
        },
        "id": "Rdxpox811Zjx",
        "outputId": "d122f081-81d0-4428-94ed-6295bc62ca17"
      },
      "outputs": [],
      "source": [
        "! pip install transformers datasets\n",
        "! pip install evaluate\n",
        "! pip install sentence-transformers"
      ]
    },
    {
      "cell_type": "markdown",
      "metadata": {
        "id": "Cc_H7oqS1Zjz"
      },
      "source": [
        "# Part A: Fine-tune a Pretrained Model\n",
        "\n",
        "Language models are typically trained in two main stages:\n",
        "\n",
        "1. **Pre-training on large unlabelled datasets**:\n",
        "\n",
        "   Pre-training is extremely computationally expensive, and thus in practice we rarely perform it ourselves when applying a model to a new dataset. We can think of pre-training as the process where a model learns the general structure and rules of language. This foundational knowledge can then be transferred to a variety of downstream tasks.\n",
        "\n",
        "2. **Fine-tuning on smaller labelled datasets**:\n",
        "\n",
        "   Fine-tuning leverages the principles of transfer learning to adapt the knowledge encoded during pre-training to a specific task. Each task is supported by a targeted dataset. For example, some datasets are designed for classifying text into categories (text classification), others involve answering questions (question answering), and so on.\n",
        "\n",
        "Some common natural language processing (NLP) tasks include:\n",
        "- Text classification\n",
        "- Question answering\n",
        "- Natural language inference\n",
        "- Fill-mask prediction\n",
        "- Semantic similarity\n",
        "\n",
        "For more information on these tasks and related models, you can refer to the NLP domain on Hugging Face: https://huggingface.co/models\n",
        "\n",
        "In the first part of this lab exercise, we will apply the pre-training + fine-tuning paradigm to classify user reviews.\n"
      ]
    },
    {
      "cell_type": "markdown",
      "metadata": {
        "id": "4-KvTKunnp0v"
      },
      "source": [
        "## Pipelines\n",
        "\n",
        "Using the **text-classification pipeline**, we can run pretrained language models on classification-related NLP tasks.\n",
        "\n",
        "One such task is **Natural Language Inference (NLI)**, where the goal is to classify the relationship between two sentences. For example, the model `roberta-large-mnli` predicts one of the three categories:\n",
        "\n",
        "- **entailment** \u2192 The hypothesis logically follows from the premise.\n",
        "- **neutral** \u2192 The hypothesis might be true, but it is not guaranteed by the premise.\n",
        "- **contradiction** \u2192 The hypothesis is in conflict with the premise.\n",
        "\n",
        "We provide two inputs:\n",
        "- **Premise**: the original statement\n",
        "- **Hypothesis**: the statement we want to verify against the premise\n",
        "\n",
        "Example:\n",
        "\n",
        "```python\n",
        "from transformers import pipeline\n",
        "\n",
        "classifier = pipeline(\"text-classification\", model=\"roberta-large-mnli\")\n",
        "classifier(\"A soccer game with multiple males playing. Some men are playing a sport.\")\n",
        "# [{'label': 'ENTAILMENT', 'score': 0.98}]\n"
      ]
    },
    {
      "cell_type": "markdown",
      "metadata": {
        "id": "y2UxEv7x1Zj1"
      },
      "source": [
        "## Yelp polarity"
      ]
    },
    {
      "cell_type": "markdown",
      "metadata": {
        "id": "nTNsahTl1Zj2"
      },
      "source": [
        "We download the [Yelp Polarity](https://huggingface.co/datasets/yelp_polarity) dataset, which contains customer reviews expressing sentiment about restaurants.\n",
        "\n",
        "In this dataset, Yelp reviews are categorized based on the original star ratings:\n",
        "- Reviews with 1 or 2 stars are considered **negative** (labeled as class `1`)\n",
        "- Reviews with 3 or 4 stars are considered **positive** (labeled as class `2`)\n",
        "\n",
        "These reviews are thus split into two sentiment categories.  \n",
        "Our objective is to train a model that can accurately classify new, unseen reviews into the correct sentiment class.\n"
      ]
    },
    {
      "cell_type": "code",
      "execution_count": null,
      "metadata": {
        "colab": {
          "base_uri": "https://localhost:8080/",
          "height": 362
        },
        "collapsed": true,
        "executionInfo": {
          "elapsed": 14601,
          "status": "ok",
          "timestamp": 1744461507011,
          "user": {
            "displayName": "\u039d\u03af\u03ba\u03bf\u03c2 \u039a\u03b1\u03c4\u03c3\u03b1\u03ca\u03b4\u03ce\u03bd\u03b7\u03c2",
            "userId": "13489937806515013970"
          },
          "user_tz": -180
        },
        "id": "uS3fgJzzNBQL",
        "outputId": "715a0883-0376-437f-9783-71ab45da072a"
      },
      "outputs": [],
      "source": [
        "from datasets import load_dataset\n",
        "\n",
        "# insert your code here\n",
        "\n",
        "dataset = load_dataset(\"fancyzhx/yelp_polarity\")\n",
        "\n"
      ]
    },
    {
      "cell_type": "markdown",
      "metadata": {
        "id": "pD7YKaZ1rsSu"
      },
      "source": [
        "# Exploring the dataset"
      ]
    },
    {
      "cell_type": "code",
      "execution_count": null,
      "metadata": {
        "colab": {
          "base_uri": "https://localhost:8080/",
          "height": 218
        },
        "executionInfo": {
          "elapsed": 5,
          "status": "ok",
          "timestamp": 1744287952258,
          "user": {
            "displayName": "\u039d\u03af\u03ba\u03bf\u03c2 \u039a\u03b1\u03c4\u03c3\u03b1\u03ca\u03b4\u03ce\u03bd\u03b7\u03c2",
            "userId": "13489937806515013970"
          },
          "user_tz": -180
        },
        "id": "OxD8-OXRykCf",
        "outputId": "82f020cb-e9b3-4e35-99c3-99670b6c5d54"
      },
      "outputs": [
        {
          "name": "stdout",
          "output_type": "stream",
          "text": [
            "DatasetDict({\n",
            "    train: Dataset({\n",
            "        features: ['text', 'label'],\n",
            "        num_rows: 560000\n",
            "    })\n",
            "    test: Dataset({\n",
            "        features: ['text', 'label'],\n",
            "        num_rows: 38000\n",
            "    })\n",
            "})\n"
          ]
        },
        {
          "data": {
            "application/vnd.google.colaboratory.intrinsic+json": {
              "type": "string"
            },
            "text/plain": [
              "'\\nreturns a dictionary of dictionaries\\n\\n'"
            ]
          },
          "execution_count": 4,
          "metadata": {},
          "output_type": "execute_result"
        }
      ],
      "source": [
        "print(dataset)\n",
        "\"\"\"\n",
        "returns a dictionary of dictionaries\n",
        "\n",
        "\"\"\""
      ]
    },
    {
      "cell_type": "code",
      "execution_count": null,
      "metadata": {
        "id": "pcLF72ZOxWbJ"
      },
      "outputs": [],
      "source": [
        "train_dataset = dataset[\"train\"]\n",
        "test_dataset = dataset[\"test\"]\n"
      ]
    },
    {
      "cell_type": "markdown",
      "metadata": {
        "id": "tVqvXbDH2slN"
      },
      "source": [
        "**Understanding the data:**"
      ]
    },
    {
      "cell_type": "code",
      "execution_count": null,
      "metadata": {
        "colab": {
          "base_uri": "https://localhost:8080/"
        },
        "executionInfo": {
          "elapsed": 14,
          "status": "ok",
          "timestamp": 1744287955884,
          "user": {
            "displayName": "\u039d\u03af\u03ba\u03bf\u03c2 \u039a\u03b1\u03c4\u03c3\u03b1\u03ca\u03b4\u03ce\u03bd\u03b7\u03c2",
            "userId": "13489937806515013970"
          },
          "user_tz": -180
        },
        "id": "ISSVfCjA06fH",
        "outputId": "823c5d8a-ec07-4803-b236-bcdb07c88dd8"
      },
      "outputs": [
        {
          "name": "stdout",
          "output_type": "stream",
          "text": [
            "{'text': Value(dtype='string', id=None), 'label': ClassLabel(names=['1', '2'], id=None)}\n"
          ]
        }
      ],
      "source": [
        "print(train_dataset.features)"
      ]
    },
    {
      "cell_type": "code",
      "execution_count": null,
      "metadata": {
        "colab": {
          "base_uri": "https://localhost:8080/"
        },
        "executionInfo": {
          "elapsed": 16,
          "status": "ok",
          "timestamp": 1744287957151,
          "user": {
            "displayName": "\u039d\u03af\u03ba\u03bf\u03c2 \u039a\u03b1\u03c4\u03c3\u03b1\u03ca\u03b4\u03ce\u03bd\u03b7\u03c2",
            "userId": "13489937806515013970"
          },
          "user_tz": -180
        },
        "id": "cyQmsCLG1k76",
        "outputId": "8e947b7a-d1a3-4dea-d5ba-d1e85c60d066"
      },
      "outputs": [
        {
          "name": "stdout",
          "output_type": "stream",
          "text": [
            "['1', '2']\n"
          ]
        }
      ],
      "source": [
        "print(dataset[\"train\"].features[\"label\"].names)"
      ]
    },
    {
      "cell_type": "code",
      "execution_count": null,
      "metadata": {
        "colab": {
          "base_uri": "https://localhost:8080/"
        },
        "executionInfo": {
          "elapsed": 3953,
          "status": "ok",
          "timestamp": 1744287962717,
          "user": {
            "displayName": "\u039d\u03af\u03ba\u03bf\u03c2 \u039a\u03b1\u03c4\u03c3\u03b1\u03ca\u03b4\u03ce\u03bd\u03b7\u03c2",
            "userId": "13489937806515013970"
          },
          "user_tz": -180
        },
        "id": "fjuoLHeM2ODf",
        "outputId": "697f6006-84c5-41f0-ed0a-5213df1066d7"
      },
      "outputs": [
        {
          "name": "stdout",
          "output_type": "stream",
          "text": [
            "Example 1: Unfortunately, the frustration of being Dr. Goldberg's patient is a repeat of the experience I've had with so many other doctors in NYC -- good doctor, terrible staff.  It seems that his staff simply never answers the phone.  It usually takes 2 hours of repeated calling to get an answer.  Who has time for that or wants to deal with it?  I have run into this problem with many other doctors and I just don't get it.  You have office workers, you have patients with medical needs, why isn't anyone answering the phone?  It's incomprehensible and not work the aggravation.  It's with regret that I feel that I have to give Dr. Goldberg 2 stars.\n",
            "Label: 0\n",
            "\n",
            "Example 1: Been going to Dr. Goldberg for over 10 years. I think I was one of his 1st patients when he started at MHMG. He's been great over the years and is really all about the big picture. It is because of him, not my now former gyn Dr. Markoff, that I found out I have fibroids. He explores all options with you and is very patient and understanding. He doesn't judge and asks all the right questions. Very thorough and wants to be kept in the loop on every aspect of your medical health and your life.\n",
            "Label: 1\n",
            "\n"
          ]
        }
      ],
      "source": [
        "#Printing some examples\n",
        "print(f\"Example 1: { train_dataset['text'][0] }\")\n",
        "print(f\"Label: {train_dataset['label'][0] }\\n\")\n",
        "\n",
        "print(f\"Example 1: { train_dataset['text'][1] }\")\n",
        "print(f\"Label: {train_dataset['label'][1] }\\n\")\n",
        "\n"
      ]
    },
    {
      "cell_type": "code",
      "execution_count": null,
      "metadata": {
        "colab": {
          "base_uri": "https://localhost:8080/",
          "height": 181
        },
        "executionInfo": {
          "elapsed": 9734,
          "status": "ok",
          "timestamp": 1744461536993,
          "user": {
            "displayName": "\u039d\u03af\u03ba\u03bf\u03c2 \u039a\u03b1\u03c4\u03c3\u03b1\u03ca\u03b4\u03ce\u03bd\u03b7\u03c2",
            "userId": "13489937806515013970"
          },
          "user_tz": -180
        },
        "id": "2P5p8q4P6SvX",
        "outputId": "c4566932-6be2-4318-cb7c-247f6d341656"
      },
      "outputs": [],
      "source": [
        "from datasets import Dataset\n",
        "\n",
        "\n",
        "#We will create a subset of train and test sets with 500 samples, 250 for each label class\n",
        "\n",
        "#filter the sets\n",
        "#train\n",
        "train_subset_class_0 = train_dataset.filter(lambda x: x['label'] == 0)\n",
        "train_subset_class_1 = train_dataset.filter(lambda x: x['label'] == 1)\n",
        "#test\n",
        "test_subset_class_0 = test_dataset.filter(lambda x: x['label'] == 0)\n",
        "test_subset_class_1 = test_dataset.filter(lambda x: x['label'] == 1)\n",
        "\n",
        "\n",
        "\n",
        "# Take 250 samples from each class\n",
        "train_subset_class_0 = train_subset_class_0.shuffle(seed=42).select(range(250))\n",
        "train_subset_class_1 = train_subset_class_1.shuffle(seed=42).select(range(250))\n",
        "test_subset_class_0 = test_subset_class_0.shuffle(seed=42).select(range(250))\n",
        "test_subset_class_1 = test_subset_class_1.shuffle(seed=42).select(range(250))\n",
        "\n",
        "\n",
        "\n",
        "#concatenate the subsets of each class\n",
        "train_subset = Dataset.from_dict({\n",
        "    'text': train_subset_class_0['text'] + train_subset_class_1['text'],\n",
        "    'label': train_subset_class_0['label'] + train_subset_class_1['label']})\n",
        "\n",
        "test_subset = Dataset.from_dict({\n",
        "    'text': test_subset_class_0['text'] + test_subset_class_1['text'],\n",
        "    'label': test_subset_class_0['label'] + test_subset_class_1['label']})\n",
        "\n",
        "\n",
        "#shuffle to have the samples in mixed classes\n",
        "train_subset = train_subset.shuffle(seed=42)\n",
        "test_subset = test_subset.shuffle(seed=42)\n",
        "\n",
        "\n",
        "# \u0388\u03bb\u03b5\u03b3\u03be\u03b5 \u03c4\u03bf \u03bc\u03ad\u03b3\u03b5\u03b8\u03bf\u03c2 \u03c4\u03bf\u03c5 \u03bd\u03ad\u03bf\u03c5 subset\n",
        "print(f\"Train subset size: {len(train_subset)}\")\n",
        "print(f\"Train subset size: {len(test_subset)}\")\n",
        "\n",
        "\n"
      ]
    },
    {
      "cell_type": "code",
      "execution_count": null,
      "metadata": {
        "id": "5S6o9CsKA5pX"
      },
      "outputs": [],
      "source": [
        "#renaming the sets\n",
        "train_set = train_subset\n",
        "test_set = test_subset"
      ]
    },
    {
      "cell_type": "markdown",
      "metadata": {
        "id": "3N0xadZjXiIF"
      },
      "source": [
        "# Language Models\n",
        "\n",
        "Before feeding text into a language model, it must first be preprocessed.\n",
        "\n",
        "This preprocessing is handled by **Tokenizers**, which convert input tokens into vocabulary IDs based on the model\u2019s pretrained vocabulary. In other words, they transform raw text into a numerical format that can be processed by Transformer models. The Hugging Face library provides easy-to-use, high-level tokenization tools, which we recommend using throughout this exercise.\n",
        "\n",
        "Specifically, **we initialize tokenization using `AutoTokenizer`**. By calling the **`from_pretrained`** method, we load a tokenizer that matches the architecture of the model we intend to use, ensuring compatibility.\n",
        "\n",
        "You can find more details about AutoTokenizer here:  \n",
        "\ud83d\udd17 https://huggingface.co/docs/transformers/model_doc/auto\n",
        "\n",
        "For example, when using the BERT model, tokenization and model initialization can be done as follows:\n",
        "\n",
        "```python\n",
        "from transformers import AutoTokenizer, BertModel\n",
        "\n",
        "tokenizer = AutoTokenizer.from_pretrained(\"bert-base-uncased\")\n",
        "model = BertModel.from_pretrained(\"bert-base-uncased\")\n"
      ]
    },
    {
      "cell_type": "code",
      "execution_count": null,
      "metadata": {
        "colab": {
          "base_uri": "https://localhost:8080/",
          "height": 270
        },
        "executionInfo": {
          "elapsed": 23879,
          "status": "ok",
          "timestamp": 1744461569653,
          "user": {
            "displayName": "\u039d\u03af\u03ba\u03bf\u03c2 \u039a\u03b1\u03c4\u03c3\u03b1\u03ca\u03b4\u03ce\u03bd\u03b7\u03c2",
            "userId": "13489937806515013970"
          },
          "user_tz": -180
        },
        "id": "_lnywJkqyL64",
        "outputId": "e6c5f162-e16b-41ae-d6e3-c7b972ca25f7"
      },
      "outputs": [],
      "source": [
        "from transformers import AutoTokenizer, AutoModelForSequenceClassification\n",
        "\n",
        "############### WE CHOSE MODEL DistilBERT #########################3\n",
        "\n",
        "\n",
        "# AutoTokenizer automatically takes the tokenizer of the model (each model has different tokenizer)\n",
        "tokenizer = AutoTokenizer.from_pretrained(\"distilbert-base-uncased\")\n",
        "\n",
        "#we stack a classification layer to the model\n",
        "model = AutoModelForSequenceClassification.from_pretrained(\"distilbert-base-uncased\")"
      ]
    },
    {
      "cell_type": "code",
      "execution_count": null,
      "metadata": {
        "colab": {
          "base_uri": "https://localhost:8080/"
        },
        "executionInfo": {
          "elapsed": 43,
          "status": "ok",
          "timestamp": 1744288000772,
          "user": {
            "displayName": "\u039d\u03af\u03ba\u03bf\u03c2 \u039a\u03b1\u03c4\u03c3\u03b1\u03ca\u03b4\u03ce\u03bd\u03b7\u03c2",
            "userId": "13489937806515013970"
          },
          "user_tz": -180
        },
        "id": "6hwCIdA3GC-w",
        "outputId": "319075ec-8c70-4ae3-ff1f-41b53a83c707"
      },
      "outputs": [
        {
          "data": {
            "text/plain": [
              "{'input_ids': [101, 7592, 1010, 1045, 1005, 1049, 1037, 10733, 7089, 999, 102], 'attention_mask': [1, 1, 1, 1, 1, 1, 1, 1, 1, 1, 1]}"
            ]
          },
          "execution_count": 12,
          "metadata": {},
          "output_type": "execute_result"
        }
      ],
      "source": [
        "#Example to see what tokenizer does\n",
        "tokenizer(\"Hello, I'm a pizza lover!\")"
      ]
    },
    {
      "cell_type": "markdown",
      "metadata": {
        "id": "0viUsWjXGRE5"
      },
      "source": [
        "**As we can see, the sentence has less number of words than the number of tokens so the tokenizer do not just split each word to a token but maybe it splits between letters too.**"
      ]
    },
    {
      "cell_type": "code",
      "execution_count": null,
      "metadata": {
        "colab": {
          "base_uri": "https://localhost:8080/",
          "height": 81
        },
        "executionInfo": {
          "elapsed": 962,
          "status": "ok",
          "timestamp": 1744461580556,
          "user": {
            "displayName": "\u039d\u03af\u03ba\u03bf\u03c2 \u039a\u03b1\u03c4\u03c3\u03b1\u03ca\u03b4\u03ce\u03bd\u03b7\u03c2",
            "userId": "13489937806515013970"
          },
          "user_tz": -180
        },
        "id": "-1AkZ0rLPq2d",
        "outputId": "57e7e355-3f3a-4b08-86b2-3984d1059366"
      },
      "outputs": [
        {
          "data": {
            "application/vnd.jupyter.widget-view+json": {
              "model_id": "389a3a1680b2485da4ba972de76ff622",
              "version_major": 2,
              "version_minor": 0
            },
            "text/plain": [
              "Map:   0%|          | 0/500 [00:00<?, ? examples/s]"
            ]
          },
          "metadata": {},
          "output_type": "display_data"
        },
        {
          "data": {
            "application/vnd.jupyter.widget-view+json": {
              "model_id": "3a2fa00191564c55be6b24fd8d52ef34",
              "version_major": 2,
              "version_minor": 0
            },
            "text/plain": [
              "Map:   0%|          | 0/500 [00:00<?, ? examples/s]"
            ]
          },
          "metadata": {},
          "output_type": "display_data"
        }
      ],
      "source": [
        "def tokenize_function(examples):\n",
        "    return tokenizer(examples[\"text\"], padding=\"max_length\", truncation=True) #padding because the samples do not have same length\n",
        "\n",
        "#map() applies the function to every sample of the data set\n",
        "tokenized_train_set = train_set.map(tokenize_function, batched=True)\n",
        "tokenized_test_set = test_set.map(tokenize_function, batched=True)\n"
      ]
    },
    {
      "cell_type": "code",
      "execution_count": null,
      "metadata": {
        "colab": {
          "base_uri": "https://localhost:8080/"
        },
        "executionInfo": {
          "elapsed": 15,
          "status": "ok",
          "timestamp": 1744288007546,
          "user": {
            "displayName": "\u039d\u03af\u03ba\u03bf\u03c2 \u039a\u03b1\u03c4\u03c3\u03b1\u03ca\u03b4\u03ce\u03bd\u03b7\u03c2",
            "userId": "13489937806515013970"
          },
          "user_tz": -180
        },
        "id": "lR0MVs8UIXQ3",
        "outputId": "780a211a-a79d-4dff-94c2-1613a910d375"
      },
      "outputs": [
        {
          "name": "stdout",
          "output_type": "stream",
          "text": [
            "512\n"
          ]
        }
      ],
      "source": [
        "max_length = model.config.max_position_embeddings\n",
        "print(max_length)"
      ]
    },
    {
      "cell_type": "code",
      "execution_count": null,
      "metadata": {
        "colab": {
          "base_uri": "https://localhost:8080/"
        },
        "executionInfo": {
          "elapsed": 15,
          "status": "ok",
          "timestamp": 1744288011049,
          "user": {
            "displayName": "\u039d\u03af\u03ba\u03bf\u03c2 \u039a\u03b1\u03c4\u03c3\u03b1\u03ca\u03b4\u03ce\u03bd\u03b7\u03c2",
            "userId": "13489937806515013970"
          },
          "user_tz": -180
        },
        "id": "mKJrCtNtLOEG",
        "outputId": "f7f97194-2a08-4743-ce01-43d6b309933a"
      },
      "outputs": [
        {
          "data": {
            "text/plain": [
              "Dataset({\n",
              "    features: ['text', 'label', 'input_ids', 'attention_mask'],\n",
              "    num_rows: 500\n",
              "})"
            ]
          },
          "execution_count": 15,
          "metadata": {},
          "output_type": "execute_result"
        }
      ],
      "source": [
        "tokenized_train_set"
      ]
    },
    {
      "cell_type": "code",
      "execution_count": null,
      "metadata": {
        "colab": {
          "base_uri": "https://localhost:8080/"
        },
        "executionInfo": {
          "elapsed": 14,
          "status": "ok",
          "timestamp": 1744288014297,
          "user": {
            "displayName": "\u039d\u03af\u03ba\u03bf\u03c2 \u039a\u03b1\u03c4\u03c3\u03b1\u03ca\u03b4\u03ce\u03bd\u03b7\u03c2",
            "userId": "13489937806515013970"
          },
          "user_tz": -180
        },
        "id": "IWFzP_7SQVOm",
        "outputId": "532e37ab-95f3-44e0-aca0-f5140f1d0c3b"
      },
      "outputs": [
        {
          "name": "stdout",
          "output_type": "stream",
          "text": [
            "\n",
            "Tokenized example: I've had a few problems with them before, however every time ((the lead male groomer)) corrects it by apologizing and taking $10 off. They are always friendly an considerate with my dog. The only thing I don't like is waiting for my dog but I'm just impatient. \\n\\nTl:dr; \\nThey are pretty good.\n",
            "input_ids: 1\n",
            "input_ids: [101, 1045, 1005, 2310, 2018, 1037, 2261, 3471, 2007, 2068, 2077, 1010, 2174, 2296, 2051, 1006, 1006, 1996, 2599, 3287, 18087, 2121, 1007, 1007, 6149, 2015, 2009, 2011, 9706, 12898, 28660, 1998, 2635, 1002, 2184, 2125, 1012, 2027, 2024, 2467, 5379, 2019, 5136, 3686, 2007, 2026, 3899, 1012, 1996, 2069, 2518, 1045, 2123, 1005, 1056, 2066, 2003, 3403, 2005, 2026, 3899, 2021, 1045, 1005, 1049, 2074, 17380, 1012, 1032, 1050, 1032, 23961, 2140, 1024, 2852, 1025, 1032, 23961, 14844, 2024, 3492, 2204, 1012, 102, 0, 0, 0, 0, 0, 0, 0, 0, 0, 0, 0, 0, 0, 0, 0, 0, 0, 0, 0, 0, 0, 0, 0, 0, 0, 0, 0, 0, 0, 0, 0, 0, 0, 0, 0, 0, 0, 0, 0, 0, 0, 0, 0, 0, 0, 0, 0, 0, 0, 0, 0, 0, 0, 0, 0, 0, 0, 0, 0, 0, 0, 0, 0, 0, 0, 0, 0, 0, 0, 0, 0, 0, 0, 0, 0, 0, 0, 0, 0, 0, 0, 0, 0, 0, 0, 0, 0, 0, 0, 0, 0, 0, 0, 0, 0, 0, 0, 0, 0, 0, 0, 0, 0, 0, 0, 0, 0, 0, 0, 0, 0, 0, 0, 0, 0, 0, 0, 0, 0, 0, 0, 0, 0, 0, 0, 0, 0, 0, 0, 0, 0, 0, 0, 0, 0, 0, 0, 0, 0, 0, 0, 0, 0, 0, 0, 0, 0, 0, 0, 0, 0, 0, 0, 0, 0, 0, 0, 0, 0, 0, 0, 0, 0, 0, 0, 0, 0, 0, 0, 0, 0, 0, 0, 0, 0, 0, 0, 0, 0, 0, 0, 0, 0, 0, 0, 0, 0, 0, 0, 0, 0, 0, 0, 0, 0, 0, 0, 0, 0, 0, 0, 0, 0, 0, 0, 0, 0, 0, 0, 0, 0, 0, 0, 0, 0, 0, 0, 0, 0, 0, 0, 0, 0, 0, 0, 0, 0, 0, 0, 0, 0, 0, 0, 0, 0, 0, 0, 0, 0, 0, 0, 0, 0, 0, 0, 0, 0, 0, 0, 0, 0, 0, 0, 0, 0, 0, 0, 0, 0, 0, 0, 0, 0, 0, 0, 0, 0, 0, 0, 0, 0, 0, 0, 0, 0, 0, 0, 0, 0, 0, 0, 0, 0, 0, 0, 0, 0, 0, 0, 0, 0, 0, 0, 0, 0, 0, 0, 0, 0, 0, 0, 0, 0, 0, 0, 0, 0, 0, 0, 0, 0, 0, 0, 0, 0, 0, 0, 0, 0, 0, 0, 0, 0, 0, 0, 0, 0, 0, 0, 0, 0, 0, 0, 0, 0, 0, 0, 0, 0, 0, 0, 0, 0, 0, 0, 0, 0, 0, 0, 0, 0, 0, 0, 0, 0, 0, 0, 0, 0, 0, 0, 0, 0, 0, 0, 0, 0, 0, 0, 0, 0, 0, 0, 0, 0, 0, 0, 0, 0, 0, 0, 0, 0, 0, 0, 0, 0, 0, 0, 0, 0, 0, 0, 0, 0, 0, 0, 0, 0, 0, 0, 0, 0, 0, 0, 0, 0, 0, 0, 0, 0, 0, 0, 0, 0, 0, 0, 0, 0, 0, 0, 0, 0, 0, 0, 0, 0, 0]\n",
            "attention_mask: [1, 1, 1, 1, 1, 1, 1, 1, 1, 1, 1, 1, 1, 1, 1, 1, 1, 1, 1, 1, 1, 1, 1, 1, 1, 1, 1, 1, 1, 1, 1, 1, 1, 1, 1, 1, 1, 1, 1, 1, 1, 1, 1, 1, 1, 1, 1, 1, 1, 1, 1, 1, 1, 1, 1, 1, 1, 1, 1, 1, 1, 1, 1, 1, 1, 1, 1, 1, 1, 1, 1, 1, 1, 1, 1, 1, 1, 1, 1, 1, 1, 1, 1, 1, 0, 0, 0, 0, 0, 0, 0, 0, 0, 0, 0, 0, 0, 0, 0, 0, 0, 0, 0, 0, 0, 0, 0, 0, 0, 0, 0, 0, 0, 0, 0, 0, 0, 0, 0, 0, 0, 0, 0, 0, 0, 0, 0, 0, 0, 0, 0, 0, 0, 0, 0, 0, 0, 0, 0, 0, 0, 0, 0, 0, 0, 0, 0, 0, 0, 0, 0, 0, 0, 0, 0, 0, 0, 0, 0, 0, 0, 0, 0, 0, 0, 0, 0, 0, 0, 0, 0, 0, 0, 0, 0, 0, 0, 0, 0, 0, 0, 0, 0, 0, 0, 0, 0, 0, 0, 0, 0, 0, 0, 0, 0, 0, 0, 0, 0, 0, 0, 0, 0, 0, 0, 0, 0, 0, 0, 0, 0, 0, 0, 0, 0, 0, 0, 0, 0, 0, 0, 0, 0, 0, 0, 0, 0, 0, 0, 0, 0, 0, 0, 0, 0, 0, 0, 0, 0, 0, 0, 0, 0, 0, 0, 0, 0, 0, 0, 0, 0, 0, 0, 0, 0, 0, 0, 0, 0, 0, 0, 0, 0, 0, 0, 0, 0, 0, 0, 0, 0, 0, 0, 0, 0, 0, 0, 0, 0, 0, 0, 0, 0, 0, 0, 0, 0, 0, 0, 0, 0, 0, 0, 0, 0, 0, 0, 0, 0, 0, 0, 0, 0, 0, 0, 0, 0, 0, 0, 0, 0, 0, 0, 0, 0, 0, 0, 0, 0, 0, 0, 0, 0, 0, 0, 0, 0, 0, 0, 0, 0, 0, 0, 0, 0, 0, 0, 0, 0, 0, 0, 0, 0, 0, 0, 0, 0, 0, 0, 0, 0, 0, 0, 0, 0, 0, 0, 0, 0, 0, 0, 0, 0, 0, 0, 0, 0, 0, 0, 0, 0, 0, 0, 0, 0, 0, 0, 0, 0, 0, 0, 0, 0, 0, 0, 0, 0, 0, 0, 0, 0, 0, 0, 0, 0, 0, 0, 0, 0, 0, 0, 0, 0, 0, 0, 0, 0, 0, 0, 0, 0, 0, 0, 0, 0, 0, 0, 0, 0, 0, 0, 0, 0, 0, 0, 0, 0, 0, 0, 0, 0, 0, 0, 0, 0, 0, 0, 0, 0, 0, 0, 0, 0, 0, 0, 0, 0, 0, 0, 0, 0, 0, 0, 0, 0, 0, 0, 0, 0, 0, 0, 0, 0, 0, 0, 0, 0, 0, 0, 0, 0, 0, 0, 0, 0, 0, 0, 0, 0, 0, 0, 0, 0, 0, 0, 0, 0, 0, 0, 0, 0, 0, 0, 0, 0, 0, 0, 0, 0, 0, 0, 0, 0, 0, 0, 0, 0, 0, 0, 0, 0, 0]\n"
          ]
        }
      ],
      "source": [
        "#printing an example\n",
        "\n",
        "print(f\"\\nTokenized example: {tokenized_train_set[0]['text']}\")\n",
        "print(f\"input_ids: {tokenized_train_set[0]['label']}\")\n",
        "print(f\"input_ids: {tokenized_train_set[0]['input_ids']}\")\n",
        "print(f\"attention_mask: {tokenized_train_set[0]['attention_mask']}\")"
      ]
    },
    {
      "cell_type": "markdown",
      "metadata": {
        "id": "GIFmCKWS1Zj6"
      },
      "source": [
        "## Using the PyTorch `Trainer` for Fine-Tuning\n",
        "\n",
        "The [`Trainer`](https://huggingface.co/docs/transformers/main/en/main_classes/trainer#transformers.Trainer) class has been carefully optimized by the Hugging Face team to handle most of the \u201cboilerplate\u201d involved in training, saving you from writing a custom training loop.\n",
        "\n",
        "We recommend adopting `Trainer` as an alternative to coding your own loop from scratch.  \n",
        "Because `Trainer` does **not** evaluate model performance automatically during training, we provide a helper function that measures **accuracy** at the end of each epoch so you can monitor progress.\n"
      ]
    },
    {
      "cell_type": "code",
      "execution_count": null,
      "metadata": {
        "colab": {
          "base_uri": "https://localhost:8080/",
          "height": 49
        },
        "executionInfo": {
          "elapsed": 2766,
          "status": "ok",
          "timestamp": 1744461594450,
          "user": {
            "displayName": "\u039d\u03af\u03ba\u03bf\u03c2 \u039a\u03b1\u03c4\u03c3\u03b1\u03ca\u03b4\u03ce\u03bd\u03b7\u03c2",
            "userId": "13489937806515013970"
          },
          "user_tz": -180
        },
        "id": "0MPHrmRL1Zj7",
        "outputId": "9293424e-f208-4edc-9a4e-2644367b21f2"
      },
      "outputs": [
        {
          "data": {
            "application/vnd.jupyter.widget-view+json": {
              "model_id": "6699700f754549f1ae915361937de869",
              "version_major": 2,
              "version_minor": 0
            },
            "text/plain": [
              "Downloading builder script:   0%|          | 0.00/4.20k [00:00<?, ?B/s]"
            ]
          },
          "metadata": {},
          "output_type": "display_data"
        }
      ],
      "source": [
        "import numpy as np\n",
        "import evaluate\n",
        "import torch\n",
        "from tqdm import tqdm\n",
        "from transformers import pipeline\n",
        "\n",
        "metric = evaluate.load(\"accuracy\")\n",
        "\n",
        "def compute_metrics(eval_pred):\n",
        "    logits, labels = eval_pred\n",
        "    predictions = np.argmax(logits, axis=-1) #axis=-1 to compute for each sample\n",
        "    return metric.compute(predictions=predictions, references=labels)"
      ]
    },
    {
      "cell_type": "markdown",
      "metadata": {
        "id": "31RdBzz01Zj7"
      },
      "source": [
        "## Hyperparameter Tuning with `TrainingArguments`\n",
        "\n",
        "The [`TrainingArguments`](https://huggingface.co/docs/transformers/main/en/main_classes/trainer#transformers.TrainingArguments) class defines all the key hyperparameters that you can experiment with during fine-tuning.\n",
        "\n",
        "You are encouraged to experiment with different hyperparameters such as:\n",
        "- `learning_rate`\n",
        "- `batch_size`\n",
        "- `weight_decay`\n",
        "- `num_train_epochs`\n",
        "- `optimizer` and `lr_scheduler_type`\n",
        "\n",
        "Since the model is already pretrained, it is recommended to perform fine-tuning for a small number of epochs (typically 2\u20134).\n",
        "\n"
      ]
    },
    {
      "cell_type": "code",
      "execution_count": null,
      "metadata": {
        "colab": {
          "base_uri": "https://localhost:8080/"
        },
        "executionInfo": {
          "elapsed": 27101,
          "status": "ok",
          "timestamp": 1744461625801,
          "user": {
            "displayName": "\u039d\u03af\u03ba\u03bf\u03c2 \u039a\u03b1\u03c4\u03c3\u03b1\u03ca\u03b4\u03ce\u03bd\u03b7\u03c2",
            "userId": "13489937806515013970"
          },
          "user_tz": -180
        },
        "id": "5LVWFerHc3Md",
        "outputId": "c8bf71c2-f3fd-4e0f-debf-8f07e212b4b6"
      },
      "outputs": [
        {
          "name": "stdout",
          "output_type": "stream",
          "text": [
            "Mounted at /content/drive\n"
          ]
        }
      ],
      "source": [
        "from google.colab import drive\n",
        "drive.mount('/content/drive')"
      ]
    },
    {
      "cell_type": "code",
      "execution_count": null,
      "metadata": {
        "id": "CWgp7MtBun3I"
      },
      "outputs": [],
      "source": [
        "from transformers import TrainingArguments, Trainer\n",
        "from torch.optim import AdamW\n",
        "from transformers import get_scheduler"
      ]
    },
    {
      "cell_type": "markdown",
      "metadata": {
        "id": "tLOBJLyRSjNw"
      },
      "source": [
        "# Hyperparameters\n",
        "\n",
        "* **Learning Rate:** This hyperparameter controls how much the weights are updated each time gradient descent is calculated. A **high learning rate** means abrupt changes to the weights, which often leads to getting stuck in local minima. A **low learning rate** results in slow training.\n",
        "\n",
        "* **Optimizer:** This is the algorithm used to adjust the weights. It uses the gradients computed from the loss function to update the weights in a way that minimizes the loss.\n",
        "\n",
        "Examples: adam, gradient descent.\n",
        "\n",
        "* **Scheduler:** Responsible for adjusting the learning rate during training. Instead of keeping the learning rate constant throughout, the scheduler allows it to change as training progresses.\n",
        "\n",
        "Examples: linear, cosine.\n",
        "\n",
        "* **Batch size:** The logic behind mini-batches is that we process data in \u201cgroups\u201d instead of one-by-one. This improves performance and training time, especially when using a GPU that supports parallel computation. Additionally, weights\u2014updated per mini-batch\u2014are now adjusted based on a group of data points rather than a single one at a time. This helps the model learn from more data before updating weights prematurely and computing gradients for each individual sample.\n",
        "\n",
        "Based on this:\n",
        "- Smaller mini-batches lead to noisier weight updates, since they are based on fewer data points. They may help the model escape local minima.\n",
        "- Larger mini-batches result in more stable gradients, but may make it easier to get stuck in local minima.\n",
        "\n",
        "* **Weight decay (regularization):** Weight decay adds a penalty to the loss function to discourage the model from assigning excessively large values to its weights. It attempts to keep weights small to avoid overfitting.\n",
        "\n",
        "Smaller weights \u2192 simpler models.  \n",
        "Simpler models \u2192 better generalization.  \n",
        "This reduces overfitting.\n"
      ]
    },
    {
      "cell_type": "markdown",
      "metadata": {
        "id": "yjMCjik0tfNY"
      },
      "source": [
        "# Hyperparameters\n",
        "\n",
        "* **learning rate = 5e-5**\n",
        "\n",
        "* **epochs = 5**\n",
        "\n",
        "* **batch size = 16**\n",
        "\n",
        "* **optimizer = Adam**\n",
        "\n",
        "* **scheduler = linear**\n",
        "\n",
        "* **weigth decay = 0.01**"
      ]
    },
    {
      "cell_type": "code",
      "execution_count": null,
      "metadata": {
        "colab": {
          "base_uri": "https://localhost:8080/"
        },
        "executionInfo": {
          "elapsed": 1419,
          "status": "ok",
          "timestamp": 1744288051501,
          "user": {
            "displayName": "\u039d\u03af\u03ba\u03bf\u03c2 \u039a\u03b1\u03c4\u03c3\u03b1\u03ca\u03b4\u03ce\u03bd\u03b7\u03c2",
            "userId": "13489937806515013970"
          },
          "user_tz": -180
        },
        "id": "Ga0fADv91Zj7",
        "outputId": "01e0d304-1720-40df-c0bd-9273c00a8c9a"
      },
      "outputs": [
        {
          "name": "stderr",
          "output_type": "stream",
          "text": [
            "/usr/local/lib/python3.11/dist-packages/transformers/training_args.py:1611: FutureWarning: `evaluation_strategy` is deprecated and will be removed in version 4.46 of \ud83e\udd17 Transformers. Use `eval_strategy` instead\n",
            "  warnings.warn(\n"
          ]
        }
      ],
      "source": [
        "\n",
        "learning_rate = 5e-5\n",
        "num_train_epochs = 5\n",
        "batch_size = 16\n",
        "weight_decay = 0.01 #penalty to prevent overfitting\n",
        "\n",
        "\n",
        "\n",
        "#optimizer\n",
        "optimizer = AdamW(model.parameters(), lr=learning_rate)\n",
        "\n",
        "\n",
        "#scheduler\n",
        "lr_scheduler = get_scheduler(\n",
        "    \"linear\",\n",
        "    optimizer=optimizer,\n",
        "    num_warmup_steps=0,\n",
        "    num_training_steps=len(train_set) * num_train_epochs,  \n",
        ")\n",
        "\n",
        "\n",
        "\n",
        "\n",
        "args = TrainingArguments(\n",
        "                         output_dir = \"/content/drive/MyDrive/Deep_Learning_Lab2/trained_model1\",\n",
        "                         evaluation_strategy=\"epoch\",\n",
        "                         per_device_train_batch_size=batch_size,\n",
        "                         per_device_eval_batch_size=64,\n",
        "                         num_train_epochs=num_train_epochs,\n",
        "                         weight_decay=weight_decay,\n",
        "                         logging_steps=10,\n",
        "                         )\n",
        "\n"
      ]
    },
    {
      "cell_type": "code",
      "execution_count": null,
      "metadata": {
        "id": "nHWYlDW21Zj8"
      },
      "outputs": [],
      "source": [
        "trainer = Trainer(\n",
        "    model=model,\n",
        "    args=args,\n",
        "    train_dataset=tokenized_train_set,\n",
        "    eval_dataset=tokenized_test_set,\n",
        "    compute_metrics=compute_metrics,\n",
        "    optimizers=(optimizer, lr_scheduler)\n",
        ")\n",
        "\n"
      ]
    },
    {
      "cell_type": "markdown",
      "metadata": {
        "id": "u1I4coXA1Zj8"
      },
      "source": [
        "\u03a3\u03c4\u03b7 \u03c3\u03c5\u03bd\u03ad\u03c7\u03b5\u03b9\u03b1, \u03c1\u03c5\u03b8\u03bc\u03af\u03c3\u03c4\u03b5 (fine-tune) \u03c4\u03bf \u03bc\u03bf\u03bd\u03c4\u03ad\u03bb\u03bf \u03c3\u03b1\u03c2 \u03ba\u03b1\u03bb\u03ce\u03bd\u03c4\u03b1\u03c2 \u03c4\u03bf [train()](https://huggingface.co/docs/transformers/main/en/main_classes/trainer#transformers.Trainer.train):"
      ]
    },
    {
      "cell_type": "code",
      "execution_count": null,
      "metadata": {
        "colab": {
          "base_uri": "https://localhost:8080/",
          "height": 539
        },
        "executionInfo": {
          "elapsed": 277362,
          "status": "ok",
          "timestamp": 1744288344918,
          "user": {
            "displayName": "\u039d\u03af\u03ba\u03bf\u03c2 \u039a\u03b1\u03c4\u03c3\u03b1\u03ca\u03b4\u03ce\u03bd\u03b7\u03c2",
            "userId": "13489937806515013970"
          },
          "user_tz": -180
        },
        "id": "PvY7bzp01Zj8",
        "outputId": "17a0931e-1657-4548-ca67-ba643c39d703"
      },
      "outputs": [],
      "source": [
        "import os\n",
        "os.environ[\"WANDB_DISABLED\"] = \"true\"\n",
        "\n",
        "\n",
        "trained_model=trainer.train()"
      ]
    },
    {
      "cell_type": "markdown",
      "metadata": {
        "id": "-JBqNf3xPues"
      },
      "source": [
        "# Experimenting with epochs"
      ]
    },
    {
      "cell_type": "markdown",
      "metadata": {
        "id": "gAwFHOU1woCP"
      },
      "source": [
        "**We increase epochs to 10:**"
      ]
    },
    {
      "cell_type": "code",
      "execution_count": null,
      "metadata": {
        "colab": {
          "base_uri": "https://localhost:8080/"
        },
        "executionInfo": {
          "elapsed": 26,
          "status": "ok",
          "timestamp": 1744290098927,
          "user": {
            "displayName": "\u039d\u03af\u03ba\u03bf\u03c2 \u039a\u03b1\u03c4\u03c3\u03b1\u03ca\u03b4\u03ce\u03bd\u03b7\u03c2",
            "userId": "13489937806515013970"
          },
          "user_tz": -180
        },
        "id": "j4efSttNwdk2",
        "outputId": "bd319b49-d765-45dc-b092-a4c5d4591e01"
      },
      "outputs": [
        {
          "name": "stderr",
          "output_type": "stream",
          "text": [
            "/usr/local/lib/python3.11/dist-packages/transformers/training_args.py:1611: FutureWarning: `evaluation_strategy` is deprecated and will be removed in version 4.46 of \ud83e\udd17 Transformers. Use `eval_strategy` instead\n",
            "  warnings.warn(\n",
            "Using the `WANDB_DISABLED` environment variable is deprecated and will be removed in v5. Use the --report_to flag to control the integrations used for logging result (for instance --report_to none).\n"
          ]
        }
      ],
      "source": [
        "# insert your code here\n",
        "\n",
        "learning_rate = 5e-5\n",
        "num_train_epochs = 10\n",
        "batch_size = 16\n",
        "weight_decay = 0.01 #penalty to prevent overfitting\n",
        "\n",
        "\n",
        "\n",
        "#optimizer\n",
        "optimizer = AdamW(model.parameters(), lr=learning_rate)\n",
        "\n",
        "\n",
        "#scheduler\n",
        "lr_scheduler = get_scheduler(\n",
        "    \"linear\",\n",
        "    optimizer=optimizer,\n",
        "    num_warmup_steps=0,\n",
        "    num_training_steps=len(train_set) * num_train_epochs,  \n",
        ")\n",
        "\n",
        "\n",
        "\n",
        "\n",
        "args = TrainingArguments(\n",
        "                         output_dir = \"/content/drive/MyDrive/Deep_Learning_Lab2/trained_model2\",\n",
        "                         evaluation_strategy=\"epoch\",\n",
        "                         per_device_train_batch_size=batch_size,\n",
        "                         per_device_eval_batch_size=64,\n",
        "                         num_train_epochs=num_train_epochs,\n",
        "                         weight_decay=weight_decay,\n",
        "                         logging_steps=10,\n",
        "                         )\n",
        "\n"
      ]
    },
    {
      "cell_type": "code",
      "execution_count": null,
      "metadata": {
        "id": "XlvA_fH0wgDx"
      },
      "outputs": [],
      "source": [
        "trainer = Trainer(\n",
        "    model=model,\n",
        "    args=args,\n",
        "    train_dataset=tokenized_train_set,\n",
        "    eval_dataset=tokenized_test_set,\n",
        "    compute_metrics=compute_metrics,\n",
        "    optimizers=(optimizer, lr_scheduler)\n",
        ")\n",
        "\n"
      ]
    },
    {
      "cell_type": "code",
      "execution_count": null,
      "metadata": {
        "colab": {
          "base_uri": "https://localhost:8080/",
          "height": 389
        },
        "executionInfo": {
          "elapsed": 309169,
          "status": "ok",
          "timestamp": 1744290416028,
          "user": {
            "displayName": "\u039d\u03af\u03ba\u03bf\u03c2 \u039a\u03b1\u03c4\u03c3\u03b1\u03ca\u03b4\u03ce\u03bd\u03b7\u03c2",
            "userId": "13489937806515013970"
          },
          "user_tz": -180
        },
        "id": "8tIWebA9wiJr",
        "outputId": "ddde566f-5310-484e-c468-f83416f9b6df"
      },
      "outputs": [
        {
          "data": {
            "text/html": [
              "\n",
              "    <div>\n",
              "      \n",
              "      <progress value='320' max='320' style='width:300px; height:20px; vertical-align: middle;'></progress>\n",
              "      [320/320 05:08, Epoch 10/10]\n",
              "    </div>\n",
              "    <table border=\"1\" class=\"dataframe\">\n",
              "  <thead>\n",
              " <tr style=\"text-align: left;\">\n",
              "      <th>Epoch</th>\n",
              "      <th>Training Loss</th>\n",
              "      <th>Validation Loss</th>\n",
              "      <th>Accuracy</th>\n",
              "    </tr>\n",
              "  </thead>\n",
              "  <tbody>\n",
              "    <tr>\n",
              "      <td>1</td>\n",
              "      <td>0.050500</td>\n",
              "      <td>0.589148</td>\n",
              "      <td>0.922000</td>\n",
              "    </tr>\n",
              "    <tr>\n",
              "      <td>2</td>\n",
              "      <td>0.046400</td>\n",
              "      <td>0.648174</td>\n",
              "      <td>0.916000</td>\n",
              "    </tr>\n",
              "    <tr>\n",
              "      <td>3</td>\n",
              "      <td>0.036800</td>\n",
              "      <td>0.856359</td>\n",
              "      <td>0.886000</td>\n",
              "    </tr>\n",
              "    <tr>\n",
              "      <td>4</td>\n",
              "      <td>0.001700</td>\n",
              "      <td>0.636735</td>\n",
              "      <td>0.908000</td>\n",
              "    </tr>\n",
              "    <tr>\n",
              "      <td>5</td>\n",
              "      <td>0.069900</td>\n",
              "      <td>0.830303</td>\n",
              "      <td>0.900000</td>\n",
              "    </tr>\n",
              "    <tr>\n",
              "      <td>6</td>\n",
              "      <td>0.000600</td>\n",
              "      <td>0.562232</td>\n",
              "      <td>0.904000</td>\n",
              "    </tr>\n",
              "    <tr>\n",
              "      <td>7</td>\n",
              "      <td>0.010300</td>\n",
              "      <td>1.427112</td>\n",
              "      <td>0.832000</td>\n",
              "    </tr>\n",
              "    <tr>\n",
              "      <td>8</td>\n",
              "      <td>0.106900</td>\n",
              "      <td>0.699152</td>\n",
              "      <td>0.898000</td>\n",
              "    </tr>\n",
              "    <tr>\n",
              "      <td>9</td>\n",
              "      <td>0.000100</td>\n",
              "      <td>0.648310</td>\n",
              "      <td>0.906000</td>\n",
              "    </tr>\n",
              "    <tr>\n",
              "      <td>10</td>\n",
              "      <td>0.000000</td>\n",
              "      <td>0.626076</td>\n",
              "      <td>0.918000</td>\n",
              "    </tr>\n",
              "  </tbody>\n",
              "</table><p>"
            ],
            "text/plain": [
              "<IPython.core.display.HTML object>"
            ]
          },
          "metadata": {},
          "output_type": "display_data"
        }
      ],
      "source": [
        "import os\n",
        "os.environ[\"WANDB_DISABLED\"] = \"true\"\n",
        "\n",
        "\n",
        "trained_model=trainer.train()"
      ]
    },
    {
      "cell_type": "markdown",
      "metadata": {
        "id": "K_Reugq0BRvD"
      },
      "source": [
        "**We observe a decrease in accuracy when increasing the number of epochs to 10 (overfitting).**\n"
      ]
    },
    {
      "cell_type": "markdown",
      "metadata": {
        "id": "NoMYQ4vR1jl6"
      },
      "source": [
        "**We increase epochs to 15:**"
      ]
    },
    {
      "cell_type": "code",
      "execution_count": null,
      "metadata": {
        "colab": {
          "base_uri": "https://localhost:8080/"
        },
        "executionInfo": {
          "elapsed": 33,
          "status": "ok",
          "timestamp": 1744291106595,
          "user": {
            "displayName": "\u039d\u03af\u03ba\u03bf\u03c2 \u039a\u03b1\u03c4\u03c3\u03b1\u03ca\u03b4\u03ce\u03bd\u03b7\u03c2",
            "userId": "13489937806515013970"
          },
          "user_tz": -180
        },
        "id": "w9Xw67oX1buP",
        "outputId": "644238a6-aa32-4df4-be16-b213efed695d"
      },
      "outputs": [
        {
          "name": "stderr",
          "output_type": "stream",
          "text": [
            "/usr/local/lib/python3.11/dist-packages/transformers/training_args.py:1611: FutureWarning: `evaluation_strategy` is deprecated and will be removed in version 4.46 of \ud83e\udd17 Transformers. Use `eval_strategy` instead\n",
            "  warnings.warn(\n",
            "Using the `WANDB_DISABLED` environment variable is deprecated and will be removed in v5. Use the --report_to flag to control the integrations used for logging result (for instance --report_to none).\n"
          ]
        }
      ],
      "source": [
        "# insert your code here\n",
        "\n",
        "learning_rate = 5e-5\n",
        "num_train_epochs = 15\n",
        "batch_size = 16\n",
        "weight_decay = 0.01 #penalty to prevent overfitting\n",
        "\n",
        "\n",
        "\n",
        "#optimizer\n",
        "optimizer = AdamW(model.parameters(), lr=learning_rate)\n",
        "\n",
        "\n",
        "#scheduler\n",
        "lr_scheduler = get_scheduler(\n",
        "    \"linear\",\n",
        "    optimizer=optimizer,\n",
        "    num_warmup_steps=0,\n",
        "    num_training_steps=len(train_set) * num_train_epochs,  # \u03a3\u03c5\u03bd\u03bf\u03bb\u03b9\u03ba\u03cc\u03c2 \u03b1\u03c1\u03b9\u03b8\u03bc\u03cc\u03c2 \u03b2\u03b7\u03bc\u03ac\u03c4\u03c9\u03bd \u03b5\u03ba\u03c0\u03b1\u03af\u03b4\u03b5\u03c5\u03c3\u03b7\u03c2\n",
        ")\n",
        "\n",
        "\n",
        "\n",
        "\n",
        "args = TrainingArguments(output_dir = \"/content/drive/MyDrive/Deep_Learning_Lab2/trained_model3\",\n",
        "                         evaluation_strategy=\"epoch\",\n",
        "                         per_device_train_batch_size=batch_size,\n",
        "                         per_device_eval_batch_size=64,\n",
        "                         num_train_epochs=num_train_epochs,\n",
        "                         weight_decay=weight_decay,\n",
        "                         logging_steps=10,\n",
        "                         )\n",
        "\n"
      ]
    },
    {
      "cell_type": "code",
      "execution_count": null,
      "metadata": {
        "id": "dJvOf4fE1fA0"
      },
      "outputs": [],
      "source": [
        "trainer = Trainer(\n",
        "    model=model,\n",
        "    args=args,\n",
        "    train_dataset=tokenized_train_set,\n",
        "    eval_dataset=tokenized_test_set,\n",
        "    compute_metrics=compute_metrics,\n",
        "    optimizers=(optimizer, lr_scheduler)\n",
        ")\n",
        "\n"
      ]
    },
    {
      "cell_type": "code",
      "execution_count": null,
      "metadata": {
        "colab": {
          "base_uri": "https://localhost:8080/",
          "height": 545
        },
        "executionInfo": {
          "elapsed": 472561,
          "status": "ok",
          "timestamp": 1744291586696,
          "user": {
            "displayName": "\u039d\u03af\u03ba\u03bf\u03c2 \u039a\u03b1\u03c4\u03c3\u03b1\u03ca\u03b4\u03ce\u03bd\u03b7\u03c2",
            "userId": "13489937806515013970"
          },
          "user_tz": -180
        },
        "id": "d8lsMfub1hNw",
        "outputId": "d20eb470-1e3f-49f2-aa92-3444f07c79f7"
      },
      "outputs": [
        {
          "data": {
            "text/html": [
              "\n",
              "    <div>\n",
              "      \n",
              "      <progress value='480' max='480' style='width:300px; height:20px; vertical-align: middle;'></progress>\n",
              "      [480/480 07:51, Epoch 15/15]\n",
              "    </div>\n",
              "    <table border=\"1\" class=\"dataframe\">\n",
              "  <thead>\n",
              " <tr style=\"text-align: left;\">\n",
              "      <th>Epoch</th>\n",
              "      <th>Training Loss</th>\n",
              "      <th>Validation Loss</th>\n",
              "      <th>Accuracy</th>\n",
              "    </tr>\n",
              "  </thead>\n",
              "  <tbody>\n",
              "    <tr>\n",
              "      <td>1</td>\n",
              "      <td>0.000000</td>\n",
              "      <td>1.744906</td>\n",
              "      <td>0.870000</td>\n",
              "    </tr>\n",
              "    <tr>\n",
              "      <td>2</td>\n",
              "      <td>0.006700</td>\n",
              "      <td>1.078307</td>\n",
              "      <td>0.872000</td>\n",
              "    </tr>\n",
              "    <tr>\n",
              "      <td>3</td>\n",
              "      <td>0.000400</td>\n",
              "      <td>0.835268</td>\n",
              "      <td>0.916000</td>\n",
              "    </tr>\n",
              "    <tr>\n",
              "      <td>4</td>\n",
              "      <td>0.000000</td>\n",
              "      <td>1.057811</td>\n",
              "      <td>0.886000</td>\n",
              "    </tr>\n",
              "    <tr>\n",
              "      <td>5</td>\n",
              "      <td>0.000000</td>\n",
              "      <td>0.576386</td>\n",
              "      <td>0.928000</td>\n",
              "    </tr>\n",
              "    <tr>\n",
              "      <td>6</td>\n",
              "      <td>0.000000</td>\n",
              "      <td>0.601138</td>\n",
              "      <td>0.928000</td>\n",
              "    </tr>\n",
              "    <tr>\n",
              "      <td>7</td>\n",
              "      <td>0.000000</td>\n",
              "      <td>0.616973</td>\n",
              "      <td>0.928000</td>\n",
              "    </tr>\n",
              "    <tr>\n",
              "      <td>8</td>\n",
              "      <td>0.000000</td>\n",
              "      <td>0.630900</td>\n",
              "      <td>0.930000</td>\n",
              "    </tr>\n",
              "    <tr>\n",
              "      <td>9</td>\n",
              "      <td>0.000000</td>\n",
              "      <td>0.642544</td>\n",
              "      <td>0.930000</td>\n",
              "    </tr>\n",
              "    <tr>\n",
              "      <td>10</td>\n",
              "      <td>0.000000</td>\n",
              "      <td>0.652715</td>\n",
              "      <td>0.930000</td>\n",
              "    </tr>\n",
              "    <tr>\n",
              "      <td>11</td>\n",
              "      <td>0.000000</td>\n",
              "      <td>0.664395</td>\n",
              "      <td>0.930000</td>\n",
              "    </tr>\n",
              "    <tr>\n",
              "      <td>12</td>\n",
              "      <td>0.000000</td>\n",
              "      <td>0.675271</td>\n",
              "      <td>0.930000</td>\n",
              "    </tr>\n",
              "    <tr>\n",
              "      <td>13</td>\n",
              "      <td>0.000000</td>\n",
              "      <td>0.684801</td>\n",
              "      <td>0.930000</td>\n",
              "    </tr>\n",
              "    <tr>\n",
              "      <td>14</td>\n",
              "      <td>0.000000</td>\n",
              "      <td>0.694087</td>\n",
              "      <td>0.930000</td>\n",
              "    </tr>\n",
              "    <tr>\n",
              "      <td>15</td>\n",
              "      <td>0.000000</td>\n",
              "      <td>0.702671</td>\n",
              "      <td>0.930000</td>\n",
              "    </tr>\n",
              "  </tbody>\n",
              "</table><p>"
            ],
            "text/plain": [
              "<IPython.core.display.HTML object>"
            ]
          },
          "metadata": {},
          "output_type": "display_data"
        }
      ],
      "source": [
        "import os\n",
        "os.environ[\"WANDB_DISABLED\"] = \"true\"\n",
        "\n",
        "\n",
        "trained_model=trainer.train()"
      ]
    },
    {
      "cell_type": "markdown",
      "metadata": {
        "id": "Dv4Ki27EP2-F"
      },
      "source": [
        "# Learining rate\n"
      ]
    },
    {
      "cell_type": "markdown",
      "metadata": {
        "id": "LKD_RWFNEc36"
      },
      "source": [
        "**We will take the number of epochs = 10, where we observed the worst-performing model, and experiment by reducing the learning rate. We estimate that the poor accuracy at 10 epochs may improve by lowering the learning rate.**\n"
      ]
    },
    {
      "cell_type": "code",
      "execution_count": null,
      "metadata": {
        "colab": {
          "base_uri": "https://localhost:8080/"
        },
        "executionInfo": {
          "elapsed": 67,
          "status": "ok",
          "timestamp": 1744462154901,
          "user": {
            "displayName": "\u039d\u03af\u03ba\u03bf\u03c2 \u039a\u03b1\u03c4\u03c3\u03b1\u03ca\u03b4\u03ce\u03bd\u03b7\u03c2",
            "userId": "13489937806515013970"
          },
          "user_tz": -180
        },
        "id": "4IRWx_7yCzrO",
        "outputId": "c0275f41-36be-451e-f0fe-b3e65923a675"
      },
      "outputs": [
        {
          "name": "stderr",
          "output_type": "stream",
          "text": [
            "/usr/local/lib/python3.11/dist-packages/transformers/training_args.py:1611: FutureWarning: `evaluation_strategy` is deprecated and will be removed in version 4.46 of \ud83e\udd17 Transformers. Use `eval_strategy` instead\n",
            "  warnings.warn(\n",
            "Using the `WANDB_DISABLED` environment variable is deprecated and will be removed in v5. Use the --report_to flag to control the integrations used for logging result (for instance --report_to none).\n"
          ]
        }
      ],
      "source": [
        "# insert your code here\n",
        "\n",
        "learning_rate = 5e-6\n",
        "num_train_epochs = 10\n",
        "batch_size = 16\n",
        "weight_decay = 0.01 #penalty to prevent overfitting\n",
        "\n",
        "\n",
        "\n",
        "#optimizer\n",
        "optimizer = AdamW(model.parameters(), lr=learning_rate)\n",
        "\n",
        "\n",
        "#scheduler\n",
        "lr_scheduler = get_scheduler(\n",
        "    \"linear\",\n",
        "    optimizer=optimizer,\n",
        "    num_warmup_steps=0,\n",
        "    num_training_steps=len(train_set) * num_train_epochs,  \n",
        ")\n",
        "\n",
        "\n",
        "\n",
        "\n",
        "args = TrainingArguments(\n",
        "                         output_dir = \"/content/drive/MyDrive/Deep_Learning_Lab2/trained_model2\",\n",
        "                         evaluation_strategy=\"epoch\",\n",
        "                         per_device_train_batch_size=batch_size,\n",
        "                         per_device_eval_batch_size=64,\n",
        "                         num_train_epochs=num_train_epochs,\n",
        "                         weight_decay=weight_decay,\n",
        "                         logging_steps=10,\n",
        "                         )\n",
        "\n"
      ]
    },
    {
      "cell_type": "code",
      "execution_count": null,
      "metadata": {
        "id": "hbTmG0TJDDAv"
      },
      "outputs": [],
      "source": [
        "trainer = Trainer(\n",
        "    model=model,\n",
        "    args=args,\n",
        "    train_dataset=tokenized_train_set,\n",
        "    eval_dataset=tokenized_test_set,\n",
        "    compute_metrics=compute_metrics,\n",
        "    optimizers=(optimizer, lr_scheduler)\n",
        ")\n",
        "\n"
      ]
    },
    {
      "cell_type": "code",
      "execution_count": null,
      "metadata": {
        "colab": {
          "base_uri": "https://localhost:8080/",
          "height": 389
        },
        "executionInfo": {
          "elapsed": 312917,
          "status": "ok",
          "timestamp": 1744462489927,
          "user": {
            "displayName": "\u039d\u03af\u03ba\u03bf\u03c2 \u039a\u03b1\u03c4\u03c3\u03b1\u03ca\u03b4\u03ce\u03bd\u03b7\u03c2",
            "userId": "13489937806515013970"
          },
          "user_tz": -180
        },
        "id": "MLrHtsQlDFmc",
        "outputId": "5b39d447-2196-4534-8e48-3781b675d15b"
      },
      "outputs": [
        {
          "data": {
            "text/html": [
              "\n",
              "    <div>\n",
              "      \n",
              "      <progress value='320' max='320' style='width:300px; height:20px; vertical-align: middle;'></progress>\n",
              "      [320/320 05:11, Epoch 10/10]\n",
              "    </div>\n",
              "    <table border=\"1\" class=\"dataframe\">\n",
              "  <thead>\n",
              " <tr style=\"text-align: left;\">\n",
              "      <th>Epoch</th>\n",
              "      <th>Training Loss</th>\n",
              "      <th>Validation Loss</th>\n",
              "      <th>Accuracy</th>\n",
              "    </tr>\n",
              "  </thead>\n",
              "  <tbody>\n",
              "    <tr>\n",
              "      <td>1</td>\n",
              "      <td>0.121400</td>\n",
              "      <td>0.210020</td>\n",
              "      <td>0.928000</td>\n",
              "    </tr>\n",
              "    <tr>\n",
              "      <td>2</td>\n",
              "      <td>0.055700</td>\n",
              "      <td>0.208677</td>\n",
              "      <td>0.932000</td>\n",
              "    </tr>\n",
              "    <tr>\n",
              "      <td>3</td>\n",
              "      <td>0.040500</td>\n",
              "      <td>0.217059</td>\n",
              "      <td>0.934000</td>\n",
              "    </tr>\n",
              "    <tr>\n",
              "      <td>4</td>\n",
              "      <td>0.045100</td>\n",
              "      <td>0.238479</td>\n",
              "      <td>0.934000</td>\n",
              "    </tr>\n",
              "    <tr>\n",
              "      <td>5</td>\n",
              "      <td>0.039400</td>\n",
              "      <td>0.251433</td>\n",
              "      <td>0.932000</td>\n",
              "    </tr>\n",
              "    <tr>\n",
              "      <td>6</td>\n",
              "      <td>0.037300</td>\n",
              "      <td>0.262909</td>\n",
              "      <td>0.934000</td>\n",
              "    </tr>\n",
              "    <tr>\n",
              "      <td>7</td>\n",
              "      <td>0.007100</td>\n",
              "      <td>0.270510</td>\n",
              "      <td>0.934000</td>\n",
              "    </tr>\n",
              "    <tr>\n",
              "      <td>8</td>\n",
              "      <td>0.005900</td>\n",
              "      <td>0.278470</td>\n",
              "      <td>0.936000</td>\n",
              "    </tr>\n",
              "    <tr>\n",
              "      <td>9</td>\n",
              "      <td>0.005300</td>\n",
              "      <td>0.280622</td>\n",
              "      <td>0.940000</td>\n",
              "    </tr>\n",
              "    <tr>\n",
              "      <td>10</td>\n",
              "      <td>0.034000</td>\n",
              "      <td>0.279264</td>\n",
              "      <td>0.938000</td>\n",
              "    </tr>\n",
              "  </tbody>\n",
              "</table><p>"
            ],
            "text/plain": [
              "<IPython.core.display.HTML object>"
            ]
          },
          "metadata": {},
          "output_type": "display_data"
        }
      ],
      "source": [
        "import os\n",
        "os.environ[\"WANDB_DISABLED\"] = \"true\"\n",
        "\n",
        "\n",
        "trained_model=trainer.train()"
      ]
    },
    {
      "cell_type": "markdown",
      "metadata": {
        "id": "O9OVYMenQQV1"
      },
      "source": [
        "A slight improvement is observed.\n"
      ]
    },
    {
      "cell_type": "markdown",
      "metadata": {
        "id": "ENxdrNSCFIF0"
      },
      "source": [
        "**Even smaller lr=4e-6 :**"
      ]
    },
    {
      "cell_type": "code",
      "execution_count": null,
      "metadata": {
        "colab": {
          "base_uri": "https://localhost:8080/"
        },
        "executionInfo": {
          "elapsed": 37,
          "status": "ok",
          "timestamp": 1744462683642,
          "user": {
            "displayName": "\u039d\u03af\u03ba\u03bf\u03c2 \u039a\u03b1\u03c4\u03c3\u03b1\u03ca\u03b4\u03ce\u03bd\u03b7\u03c2",
            "userId": "13489937806515013970"
          },
          "user_tz": -180
        },
        "id": "KJhlz5OrEbnc",
        "outputId": "4c0e0042-fefd-4dde-ab47-a3b368321b29"
      },
      "outputs": [
        {
          "name": "stderr",
          "output_type": "stream",
          "text": [
            "/usr/local/lib/python3.11/dist-packages/transformers/training_args.py:1611: FutureWarning: `evaluation_strategy` is deprecated and will be removed in version 4.46 of \ud83e\udd17 Transformers. Use `eval_strategy` instead\n",
            "  warnings.warn(\n",
            "Using the `WANDB_DISABLED` environment variable is deprecated and will be removed in v5. Use the --report_to flag to control the integrations used for logging result (for instance --report_to none).\n"
          ]
        }
      ],
      "source": [
        "# insert your code here\n",
        "\n",
        "learning_rate = 4e-6\n",
        "num_train_epochs = 10\n",
        "batch_size = 16\n",
        "weight_decay = 0.01 #penalty to prevent overfitting\n",
        "\n",
        "\n",
        "\n",
        "#optimizer\n",
        "optimizer = AdamW(model.parameters(), lr=learning_rate)\n",
        "\n",
        "\n",
        "#scheduler\n",
        "lr_scheduler = get_scheduler(\n",
        "    \"linear\",\n",
        "    optimizer=optimizer,\n",
        "    num_warmup_steps=0,\n",
        "    num_training_steps=len(train_set) * num_train_epochs,  # \u03a3\u03c5\u03bd\u03bf\u03bb\u03b9\u03ba\u03cc\u03c2 \u03b1\u03c1\u03b9\u03b8\u03bc\u03cc\u03c2 \u03b2\u03b7\u03bc\u03ac\u03c4\u03c9\u03bd \u03b5\u03ba\u03c0\u03b1\u03af\u03b4\u03b5\u03c5\u03c3\u03b7\u03c2\n",
        ")\n",
        "\n",
        "\n",
        "\n",
        "\n",
        "args = TrainingArguments(\n",
        "                         output_dir = \"/content/drive/MyDrive/Deep_Learning_Lab2/trained_model2\",\n",
        "                         evaluation_strategy=\"epoch\",\n",
        "                         per_device_train_batch_size=batch_size,\n",
        "                         per_device_eval_batch_size=64,\n",
        "                         num_train_epochs=num_train_epochs,\n",
        "                         weight_decay=weight_decay,\n",
        "                         logging_steps=10,\n",
        "                         )\n",
        "\n"
      ]
    },
    {
      "cell_type": "code",
      "execution_count": null,
      "metadata": {
        "id": "YBcicM0cFDqX"
      },
      "outputs": [],
      "source": [
        "trainer = Trainer(\n",
        "    model=model,\n",
        "    args=args,\n",
        "    train_dataset=tokenized_train_set,\n",
        "    eval_dataset=tokenized_test_set,\n",
        "    compute_metrics=compute_metrics,\n",
        "    optimizers=(optimizer, lr_scheduler)\n",
        ")\n",
        "\n"
      ]
    },
    {
      "cell_type": "code",
      "execution_count": null,
      "metadata": {
        "colab": {
          "base_uri": "https://localhost:8080/",
          "height": 389
        },
        "executionInfo": {
          "elapsed": 307739,
          "status": "ok",
          "timestamp": 1744463010321,
          "user": {
            "displayName": "\u039d\u03af\u03ba\u03bf\u03c2 \u039a\u03b1\u03c4\u03c3\u03b1\u03ca\u03b4\u03ce\u03bd\u03b7\u03c2",
            "userId": "13489937806515013970"
          },
          "user_tz": -180
        },
        "id": "0G0ZMk_KFFtw",
        "outputId": "c42f36a4-cf27-46b2-e7d1-0b2fddf7dfba"
      },
      "outputs": [
        {
          "data": {
            "text/html": [
              "\n",
              "    <div>\n",
              "      \n",
              "      <progress value='320' max='320' style='width:300px; height:20px; vertical-align: middle;'></progress>\n",
              "      [320/320 05:06, Epoch 10/10]\n",
              "    </div>\n",
              "    <table border=\"1\" class=\"dataframe\">\n",
              "  <thead>\n",
              " <tr style=\"text-align: left;\">\n",
              "      <th>Epoch</th>\n",
              "      <th>Training Loss</th>\n",
              "      <th>Validation Loss</th>\n",
              "      <th>Accuracy</th>\n",
              "    </tr>\n",
              "  </thead>\n",
              "  <tbody>\n",
              "    <tr>\n",
              "      <td>1</td>\n",
              "      <td>0.003200</td>\n",
              "      <td>0.331787</td>\n",
              "      <td>0.922000</td>\n",
              "    </tr>\n",
              "    <tr>\n",
              "      <td>2</td>\n",
              "      <td>0.002100</td>\n",
              "      <td>0.302170</td>\n",
              "      <td>0.938000</td>\n",
              "    </tr>\n",
              "    <tr>\n",
              "      <td>3</td>\n",
              "      <td>0.001900</td>\n",
              "      <td>0.313252</td>\n",
              "      <td>0.938000</td>\n",
              "    </tr>\n",
              "    <tr>\n",
              "      <td>4</td>\n",
              "      <td>0.007500</td>\n",
              "      <td>0.337621</td>\n",
              "      <td>0.930000</td>\n",
              "    </tr>\n",
              "    <tr>\n",
              "      <td>5</td>\n",
              "      <td>0.001200</td>\n",
              "      <td>0.324686</td>\n",
              "      <td>0.940000</td>\n",
              "    </tr>\n",
              "    <tr>\n",
              "      <td>6</td>\n",
              "      <td>0.000900</td>\n",
              "      <td>0.327553</td>\n",
              "      <td>0.940000</td>\n",
              "    </tr>\n",
              "    <tr>\n",
              "      <td>7</td>\n",
              "      <td>0.000800</td>\n",
              "      <td>0.332938</td>\n",
              "      <td>0.942000</td>\n",
              "    </tr>\n",
              "    <tr>\n",
              "      <td>8</td>\n",
              "      <td>0.000700</td>\n",
              "      <td>0.342320</td>\n",
              "      <td>0.940000</td>\n",
              "    </tr>\n",
              "    <tr>\n",
              "      <td>9</td>\n",
              "      <td>0.000600</td>\n",
              "      <td>0.350462</td>\n",
              "      <td>0.942000</td>\n",
              "    </tr>\n",
              "    <tr>\n",
              "      <td>10</td>\n",
              "      <td>0.000500</td>\n",
              "      <td>0.357981</td>\n",
              "      <td>0.938000</td>\n",
              "    </tr>\n",
              "  </tbody>\n",
              "</table><p>"
            ],
            "text/plain": [
              "<IPython.core.display.HTML object>"
            ]
          },
          "metadata": {},
          "output_type": "display_data"
        }
      ],
      "source": [
        "import os\n",
        "os.environ[\"WANDB_DISABLED\"] = \"true\"\n",
        "\n",
        "\n",
        "trained_model=trainer.train()"
      ]
    },
    {
      "cell_type": "markdown",
      "metadata": {
        "id": "XkzO5YJiKJMI"
      },
      "source": [
        "**lr=3e-6 :**"
      ]
    },
    {
      "cell_type": "code",
      "execution_count": null,
      "metadata": {
        "colab": {
          "base_uri": "https://localhost:8080/"
        },
        "executionInfo": {
          "elapsed": 48,
          "status": "ok",
          "timestamp": 1744463953781,
          "user": {
            "displayName": "\u039d\u03af\u03ba\u03bf\u03c2 \u039a\u03b1\u03c4\u03c3\u03b1\u03ca\u03b4\u03ce\u03bd\u03b7\u03c2",
            "userId": "13489937806515013970"
          },
          "user_tz": -180
        },
        "id": "gn_lKZ4JJu5r",
        "outputId": "2f447e9a-8ee8-4c4c-a6ee-b264f7ac06a1"
      },
      "outputs": [
        {
          "name": "stderr",
          "output_type": "stream",
          "text": [
            "/usr/local/lib/python3.11/dist-packages/transformers/training_args.py:1611: FutureWarning: `evaluation_strategy` is deprecated and will be removed in version 4.46 of \ud83e\udd17 Transformers. Use `eval_strategy` instead\n",
            "  warnings.warn(\n",
            "Using the `WANDB_DISABLED` environment variable is deprecated and will be removed in v5. Use the --report_to flag to control the integrations used for logging result (for instance --report_to none).\n"
          ]
        }
      ],
      "source": [
        "# insert your code here\n",
        "\n",
        "learning_rate = 3e-6\n",
        "num_train_epochs = 10\n",
        "batch_size = 16\n",
        "weight_decay = 0.01 #penalty to prevent overfitting\n",
        "\n",
        "\n",
        "\n",
        "#optimizer\n",
        "optimizer = AdamW(model.parameters(), lr=learning_rate)\n",
        "\n",
        "\n",
        "#scheduler\n",
        "lr_scheduler = get_scheduler(\n",
        "    \"linear\",\n",
        "    optimizer=optimizer,\n",
        "    num_warmup_steps=0,\n",
        "    num_training_steps=len(train_set) * num_train_epochs,  # \u03a3\u03c5\u03bd\u03bf\u03bb\u03b9\u03ba\u03cc\u03c2 \u03b1\u03c1\u03b9\u03b8\u03bc\u03cc\u03c2 \u03b2\u03b7\u03bc\u03ac\u03c4\u03c9\u03bd \u03b5\u03ba\u03c0\u03b1\u03af\u03b4\u03b5\u03c5\u03c3\u03b7\u03c2\n",
        ")\n",
        "\n",
        "\n",
        "\n",
        "\n",
        "args = TrainingArguments(\n",
        "                         output_dir = \"/content/drive/MyDrive/Deep_Learning_Lab2/trained_model2\",\n",
        "                         evaluation_strategy=\"epoch\",\n",
        "                         per_device_train_batch_size=batch_size,\n",
        "                         per_device_eval_batch_size=64,\n",
        "                         num_train_epochs=num_train_epochs,\n",
        "                         weight_decay=weight_decay,\n",
        "                         logging_steps=10,\n",
        "                         )\n",
        "\n"
      ]
    },
    {
      "cell_type": "code",
      "execution_count": null,
      "metadata": {
        "id": "whu7GIdCJ9wn"
      },
      "outputs": [],
      "source": [
        "trainer = Trainer(\n",
        "    model=model,\n",
        "    args=args,\n",
        "    train_dataset=tokenized_train_set,\n",
        "    eval_dataset=tokenized_test_set,\n",
        "    compute_metrics=compute_metrics,\n",
        "    optimizers=(optimizer, lr_scheduler)\n",
        ")\n",
        "\n"
      ]
    },
    {
      "cell_type": "code",
      "execution_count": null,
      "metadata": {
        "colab": {
          "base_uri": "https://localhost:8080/",
          "height": 389
        },
        "executionInfo": {
          "elapsed": 303048,
          "status": "ok",
          "timestamp": 1744464295300,
          "user": {
            "displayName": "\u039d\u03af\u03ba\u03bf\u03c2 \u039a\u03b1\u03c4\u03c3\u03b1\u03ca\u03b4\u03ce\u03bd\u03b7\u03c2",
            "userId": "13489937806515013970"
          },
          "user_tz": -180
        },
        "id": "J9vv9EyZKAbc",
        "outputId": "757a8b87-4313-4937-96af-c4ed1eef6408"
      },
      "outputs": [
        {
          "data": {
            "text/html": [
              "\n",
              "    <div>\n",
              "      \n",
              "      <progress value='320' max='320' style='width:300px; height:20px; vertical-align: middle;'></progress>\n",
              "      [320/320 05:01, Epoch 10/10]\n",
              "    </div>\n",
              "    <table border=\"1\" class=\"dataframe\">\n",
              "  <thead>\n",
              " <tr style=\"text-align: left;\">\n",
              "      <th>Epoch</th>\n",
              "      <th>Training Loss</th>\n",
              "      <th>Validation Loss</th>\n",
              "      <th>Accuracy</th>\n",
              "    </tr>\n",
              "  </thead>\n",
              "  <tbody>\n",
              "    <tr>\n",
              "      <td>1</td>\n",
              "      <td>0.000300</td>\n",
              "      <td>0.401980</td>\n",
              "      <td>0.934000</td>\n",
              "    </tr>\n",
              "    <tr>\n",
              "      <td>2</td>\n",
              "      <td>0.000200</td>\n",
              "      <td>0.413587</td>\n",
              "      <td>0.938000</td>\n",
              "    </tr>\n",
              "    <tr>\n",
              "      <td>3</td>\n",
              "      <td>0.000200</td>\n",
              "      <td>0.445529</td>\n",
              "      <td>0.930000</td>\n",
              "    </tr>\n",
              "    <tr>\n",
              "      <td>4</td>\n",
              "      <td>0.000100</td>\n",
              "      <td>0.446599</td>\n",
              "      <td>0.940000</td>\n",
              "    </tr>\n",
              "    <tr>\n",
              "      <td>5</td>\n",
              "      <td>0.000100</td>\n",
              "      <td>0.472032</td>\n",
              "      <td>0.938000</td>\n",
              "    </tr>\n",
              "    <tr>\n",
              "      <td>6</td>\n",
              "      <td>0.000100</td>\n",
              "      <td>0.473069</td>\n",
              "      <td>0.940000</td>\n",
              "    </tr>\n",
              "    <tr>\n",
              "      <td>7</td>\n",
              "      <td>0.000100</td>\n",
              "      <td>0.488725</td>\n",
              "      <td>0.938000</td>\n",
              "    </tr>\n",
              "    <tr>\n",
              "      <td>8</td>\n",
              "      <td>0.000100</td>\n",
              "      <td>0.484996</td>\n",
              "      <td>0.940000</td>\n",
              "    </tr>\n",
              "    <tr>\n",
              "      <td>9</td>\n",
              "      <td>0.000100</td>\n",
              "      <td>0.498588</td>\n",
              "      <td>0.940000</td>\n",
              "    </tr>\n",
              "    <tr>\n",
              "      <td>10</td>\n",
              "      <td>0.000000</td>\n",
              "      <td>0.501824</td>\n",
              "      <td>0.940000</td>\n",
              "    </tr>\n",
              "  </tbody>\n",
              "</table><p>"
            ],
            "text/plain": [
              "<IPython.core.display.HTML object>"
            ]
          },
          "metadata": {},
          "output_type": "display_data"
        }
      ],
      "source": [
        "import os\n",
        "os.environ[\"WANDB_DISABLED\"] = \"true\"\n",
        "\n",
        "\n",
        "trained_model=trainer.train()"
      ]
    },
    {
      "cell_type": "markdown",
      "metadata": {
        "id": "_GyL4ZBlQYG1"
      },
      "source": [
        "Even more improvement."
      ]
    },
    {
      "cell_type": "markdown",
      "metadata": {
        "id": "byeHGSwQPQ8p"
      },
      "source": [
        "**lr=3e-7 :**"
      ]
    },
    {
      "cell_type": "code",
      "execution_count": null,
      "metadata": {
        "colab": {
          "base_uri": "https://localhost:8080/"
        },
        "executionInfo": {
          "elapsed": 43,
          "status": "ok",
          "timestamp": 1744464741339,
          "user": {
            "displayName": "\u039d\u03af\u03ba\u03bf\u03c2 \u039a\u03b1\u03c4\u03c3\u03b1\u03ca\u03b4\u03ce\u03bd\u03b7\u03c2",
            "userId": "13489937806515013970"
          },
          "user_tz": -180
        },
        "id": "-IUK0rh5LrAW",
        "outputId": "21c61ba9-1ae6-4a7c-8bbc-e5f6b92e3c56"
      },
      "outputs": [
        {
          "name": "stderr",
          "output_type": "stream",
          "text": [
            "/usr/local/lib/python3.11/dist-packages/transformers/training_args.py:1611: FutureWarning: `evaluation_strategy` is deprecated and will be removed in version 4.46 of \ud83e\udd17 Transformers. Use `eval_strategy` instead\n",
            "  warnings.warn(\n",
            "Using the `WANDB_DISABLED` environment variable is deprecated and will be removed in v5. Use the --report_to flag to control the integrations used for logging result (for instance --report_to none).\n"
          ]
        }
      ],
      "source": [
        "# insert your code here\n",
        "\n",
        "learning_rate = 3e-7\n",
        "num_train_epochs = 10\n",
        "batch_size = 16\n",
        "weight_decay = 0.01 #penalty to prevent overfitting\n",
        "\n",
        "\n",
        "\n",
        "#optimizer\n",
        "optimizer = AdamW(model.parameters(), lr=learning_rate)\n",
        "\n",
        "\n",
        "#scheduler\n",
        "lr_scheduler = get_scheduler(\n",
        "    \"linear\",\n",
        "    optimizer=optimizer,\n",
        "    num_warmup_steps=0,\n",
        "    num_training_steps=len(train_set) * num_train_epochs,  # \u03a3\u03c5\u03bd\u03bf\u03bb\u03b9\u03ba\u03cc\u03c2 \u03b1\u03c1\u03b9\u03b8\u03bc\u03cc\u03c2 \u03b2\u03b7\u03bc\u03ac\u03c4\u03c9\u03bd \u03b5\u03ba\u03c0\u03b1\u03af\u03b4\u03b5\u03c5\u03c3\u03b7\u03c2\n",
        ")\n",
        "\n",
        "\n",
        "\n",
        "\n",
        "args = TrainingArguments(\n",
        "                         output_dir = \"/content/drive/MyDrive/Deep_Learning_Lab2/trained_model2\",\n",
        "                         evaluation_strategy=\"epoch\",\n",
        "                         per_device_train_batch_size=batch_size,\n",
        "                         per_device_eval_batch_size=64,\n",
        "                         num_train_epochs=num_train_epochs,\n",
        "                         weight_decay=weight_decay,\n",
        "                         logging_steps=10,\n",
        "                         )\n",
        "\n"
      ]
    },
    {
      "cell_type": "code",
      "execution_count": null,
      "metadata": {
        "id": "sZOaeMhKLsuY"
      },
      "outputs": [],
      "source": [
        "trainer = Trainer(\n",
        "    model=model,\n",
        "    args=args,\n",
        "    train_dataset=tokenized_train_set,\n",
        "    eval_dataset=tokenized_test_set,\n",
        "    compute_metrics=compute_metrics,\n",
        "    optimizers=(optimizer, lr_scheduler)\n",
        ")\n",
        "\n"
      ]
    },
    {
      "cell_type": "code",
      "execution_count": null,
      "metadata": {
        "colab": {
          "base_uri": "https://localhost:8080/",
          "height": 389
        },
        "executionInfo": {
          "elapsed": 306415,
          "status": "ok",
          "timestamp": 1744465053562,
          "user": {
            "displayName": "\u039d\u03af\u03ba\u03bf\u03c2 \u039a\u03b1\u03c4\u03c3\u03b1\u03ca\u03b4\u03ce\u03bd\u03b7\u03c2",
            "userId": "13489937806515013970"
          },
          "user_tz": -180
        },
        "id": "OR4wuTMNLuo1",
        "outputId": "1a9fc832-44fd-407a-9591-35aaf1241340"
      },
      "outputs": [
        {
          "data": {
            "text/html": [
              "\n",
              "    <div>\n",
              "      \n",
              "      <progress value='320' max='320' style='width:300px; height:20px; vertical-align: middle;'></progress>\n",
              "      [320/320 05:04, Epoch 10/10]\n",
              "    </div>\n",
              "    <table border=\"1\" class=\"dataframe\">\n",
              "  <thead>\n",
              " <tr style=\"text-align: left;\">\n",
              "      <th>Epoch</th>\n",
              "      <th>Training Loss</th>\n",
              "      <th>Validation Loss</th>\n",
              "      <th>Accuracy</th>\n",
              "    </tr>\n",
              "  </thead>\n",
              "  <tbody>\n",
              "    <tr>\n",
              "      <td>1</td>\n",
              "      <td>0.000000</td>\n",
              "      <td>0.506462</td>\n",
              "      <td>0.938000</td>\n",
              "    </tr>\n",
              "    <tr>\n",
              "      <td>2</td>\n",
              "      <td>0.000000</td>\n",
              "      <td>0.508878</td>\n",
              "      <td>0.938000</td>\n",
              "    </tr>\n",
              "    <tr>\n",
              "      <td>3</td>\n",
              "      <td>0.000000</td>\n",
              "      <td>0.515185</td>\n",
              "      <td>0.936000</td>\n",
              "    </tr>\n",
              "    <tr>\n",
              "      <td>4</td>\n",
              "      <td>0.000000</td>\n",
              "      <td>0.517304</td>\n",
              "      <td>0.936000</td>\n",
              "    </tr>\n",
              "    <tr>\n",
              "      <td>5</td>\n",
              "      <td>0.000000</td>\n",
              "      <td>0.516780</td>\n",
              "      <td>0.938000</td>\n",
              "    </tr>\n",
              "    <tr>\n",
              "      <td>6</td>\n",
              "      <td>0.000000</td>\n",
              "      <td>0.526096</td>\n",
              "      <td>0.936000</td>\n",
              "    </tr>\n",
              "    <tr>\n",
              "      <td>7</td>\n",
              "      <td>0.000000</td>\n",
              "      <td>0.520658</td>\n",
              "      <td>0.936000</td>\n",
              "    </tr>\n",
              "    <tr>\n",
              "      <td>8</td>\n",
              "      <td>0.000000</td>\n",
              "      <td>0.522039</td>\n",
              "      <td>0.936000</td>\n",
              "    </tr>\n",
              "    <tr>\n",
              "      <td>9</td>\n",
              "      <td>0.000000</td>\n",
              "      <td>0.519051</td>\n",
              "      <td>0.940000</td>\n",
              "    </tr>\n",
              "    <tr>\n",
              "      <td>10</td>\n",
              "      <td>0.000000</td>\n",
              "      <td>0.525058</td>\n",
              "      <td>0.936000</td>\n",
              "    </tr>\n",
              "  </tbody>\n",
              "</table><p>"
            ],
            "text/plain": [
              "<IPython.core.display.HTML object>"
            ]
          },
          "metadata": {},
          "output_type": "display_data"
        }
      ],
      "source": [
        "import os\n",
        "os.environ[\"WANDB_DISABLED\"] = \"true\"\n",
        "\n",
        "\n",
        "trained_model=trainer.train()"
      ]
    },
    {
      "cell_type": "markdown",
      "metadata": {
        "id": "qvmotOarQh5A"
      },
      "source": [
        "With further reduction of the learning rate, we observe a drop in accuracy again.\n"
      ]
    },
    {
      "cell_type": "markdown",
      "metadata": {
        "id": "ben2wYaCPTnA"
      },
      "source": [
        "**lr=3e-9 :**"
      ]
    },
    {
      "cell_type": "code",
      "execution_count": null,
      "metadata": {
        "colab": {
          "base_uri": "https://localhost:8080/"
        },
        "executionInfo": {
          "elapsed": 53,
          "status": "ok",
          "timestamp": 1744465688757,
          "user": {
            "displayName": "\u039d\u03af\u03ba\u03bf\u03c2 \u039a\u03b1\u03c4\u03c3\u03b1\u03ca\u03b4\u03ce\u03bd\u03b7\u03c2",
            "userId": "13489937806515013970"
          },
          "user_tz": -180
        },
        "id": "XXl5rsdwOibr",
        "outputId": "82a8007d-0a3b-4ad8-a20c-f31913fc3d8a"
      },
      "outputs": [
        {
          "name": "stderr",
          "output_type": "stream",
          "text": [
            "/usr/local/lib/python3.11/dist-packages/transformers/training_args.py:1611: FutureWarning: `evaluation_strategy` is deprecated and will be removed in version 4.46 of \ud83e\udd17 Transformers. Use `eval_strategy` instead\n",
            "  warnings.warn(\n",
            "Using the `WANDB_DISABLED` environment variable is deprecated and will be removed in v5. Use the --report_to flag to control the integrations used for logging result (for instance --report_to none).\n"
          ]
        }
      ],
      "source": [
        "# insert your code here\n",
        "\n",
        "learning_rate = 3e-9\n",
        "num_train_epochs = 10\n",
        "batch_size = 16\n",
        "weight_decay = 0.01 #penalty to prevent overfitting\n",
        "\n",
        "\n",
        "\n",
        "#optimizer\n",
        "optimizer = AdamW(model.parameters(), lr=learning_rate)\n",
        "\n",
        "\n",
        "#scheduler\n",
        "lr_scheduler = get_scheduler(\n",
        "    \"linear\",\n",
        "    optimizer=optimizer,\n",
        "    num_warmup_steps=0,\n",
        "    num_training_steps=len(train_set) * num_train_epochs,  # \u03a3\u03c5\u03bd\u03bf\u03bb\u03b9\u03ba\u03cc\u03c2 \u03b1\u03c1\u03b9\u03b8\u03bc\u03cc\u03c2 \u03b2\u03b7\u03bc\u03ac\u03c4\u03c9\u03bd \u03b5\u03ba\u03c0\u03b1\u03af\u03b4\u03b5\u03c5\u03c3\u03b7\u03c2\n",
        ")\n",
        "\n",
        "\n",
        "\n",
        "\n",
        "args = TrainingArguments(\n",
        "                         output_dir = \"/content/drive/MyDrive/Deep_Learning_Lab2/trained_model2\",\n",
        "                         evaluation_strategy=\"epoch\",\n",
        "                         per_device_train_batch_size=batch_size,\n",
        "                         per_device_eval_batch_size=64,\n",
        "                         num_train_epochs=num_train_epochs,\n",
        "                         weight_decay=weight_decay,\n",
        "                         logging_steps=10,\n",
        "                         )\n",
        "\n"
      ]
    },
    {
      "cell_type": "code",
      "execution_count": null,
      "metadata": {
        "id": "2ETJpWU6Ol-j"
      },
      "outputs": [],
      "source": [
        "trainer = Trainer(\n",
        "    model=model,\n",
        "    args=args,\n",
        "    train_dataset=tokenized_train_set,\n",
        "    eval_dataset=tokenized_test_set,\n",
        "    compute_metrics=compute_metrics,\n",
        "    optimizers=(optimizer, lr_scheduler)\n",
        ")\n",
        "\n"
      ]
    },
    {
      "cell_type": "code",
      "execution_count": null,
      "metadata": {
        "colab": {
          "base_uri": "https://localhost:8080/",
          "height": 389
        },
        "executionInfo": {
          "elapsed": 306976,
          "status": "ok",
          "timestamp": 1744465999942,
          "user": {
            "displayName": "\u039d\u03af\u03ba\u03bf\u03c2 \u039a\u03b1\u03c4\u03c3\u03b1\u03ca\u03b4\u03ce\u03bd\u03b7\u03c2",
            "userId": "13489937806515013970"
          },
          "user_tz": -180
        },
        "id": "9_gThG_sOn83",
        "outputId": "6cdcacc4-cb0e-4f4f-ebeb-d5cff5178cce"
      },
      "outputs": [
        {
          "data": {
            "text/html": [
              "\n",
              "    <div>\n",
              "      \n",
              "      <progress value='320' max='320' style='width:300px; height:20px; vertical-align: middle;'></progress>\n",
              "      [320/320 05:05, Epoch 10/10]\n",
              "    </div>\n",
              "    <table border=\"1\" class=\"dataframe\">\n",
              "  <thead>\n",
              " <tr style=\"text-align: left;\">\n",
              "      <th>Epoch</th>\n",
              "      <th>Training Loss</th>\n",
              "      <th>Validation Loss</th>\n",
              "      <th>Accuracy</th>\n",
              "    </tr>\n",
              "  </thead>\n",
              "  <tbody>\n",
              "    <tr>\n",
              "      <td>1</td>\n",
              "      <td>0.000000</td>\n",
              "      <td>0.527859</td>\n",
              "      <td>0.936000</td>\n",
              "    </tr>\n",
              "    <tr>\n",
              "      <td>2</td>\n",
              "      <td>0.000000</td>\n",
              "      <td>0.527880</td>\n",
              "      <td>0.936000</td>\n",
              "    </tr>\n",
              "    <tr>\n",
              "      <td>3</td>\n",
              "      <td>0.000000</td>\n",
              "      <td>0.527924</td>\n",
              "      <td>0.936000</td>\n",
              "    </tr>\n",
              "    <tr>\n",
              "      <td>4</td>\n",
              "      <td>0.000000</td>\n",
              "      <td>0.528008</td>\n",
              "      <td>0.936000</td>\n",
              "    </tr>\n",
              "    <tr>\n",
              "      <td>5</td>\n",
              "      <td>0.000000</td>\n",
              "      <td>0.528046</td>\n",
              "      <td>0.936000</td>\n",
              "    </tr>\n",
              "    <tr>\n",
              "      <td>6</td>\n",
              "      <td>0.000000</td>\n",
              "      <td>0.528130</td>\n",
              "      <td>0.936000</td>\n",
              "    </tr>\n",
              "    <tr>\n",
              "      <td>7</td>\n",
              "      <td>0.000000</td>\n",
              "      <td>0.528148</td>\n",
              "      <td>0.936000</td>\n",
              "    </tr>\n",
              "    <tr>\n",
              "      <td>8</td>\n",
              "      <td>0.000000</td>\n",
              "      <td>0.528193</td>\n",
              "      <td>0.936000</td>\n",
              "    </tr>\n",
              "    <tr>\n",
              "      <td>9</td>\n",
              "      <td>0.000000</td>\n",
              "      <td>0.528141</td>\n",
              "      <td>0.936000</td>\n",
              "    </tr>\n",
              "    <tr>\n",
              "      <td>10</td>\n",
              "      <td>0.000000</td>\n",
              "      <td>0.528143</td>\n",
              "      <td>0.936000</td>\n",
              "    </tr>\n",
              "  </tbody>\n",
              "</table><p>"
            ],
            "text/plain": [
              "<IPython.core.display.HTML object>"
            ]
          },
          "metadata": {},
          "output_type": "display_data"
        }
      ],
      "source": [
        "import os\n",
        "os.environ[\"WANDB_DISABLED\"] = \"true\"\n",
        "\n",
        "\n",
        "trained_model=trainer.train()"
      ]
    },
    {
      "cell_type": "markdown",
      "metadata": {
        "id": "wM2DKtshgEOd"
      },
      "source": [
        "# Weight decay."
      ]
    },
    {
      "cell_type": "markdown",
      "metadata": {
        "id": "SBP-2Ub2abh5"
      },
      "source": [
        "Keeping the best model (**accuracy = 94%**) from the above:\n",
        "\n",
        "* **learning rate = 3e-6**\n",
        "* **epochs = 10**\n",
        "* **batch size = 16**\n",
        "* **optimizer = Adam**\n",
        "* **scheduler = linear**\n",
        "* **weight decay = 0.01**\n",
        "\n",
        "we will increase the weight decay (weight penalty).\n"
      ]
    },
    {
      "cell_type": "markdown",
      "metadata": {
        "id": "292oD_sCalpu"
      },
      "source": [
        "We increase weight decay to 0.03:"
      ]
    },
    {
      "cell_type": "code",
      "execution_count": null,
      "metadata": {
        "colab": {
          "base_uri": "https://localhost:8080/"
        },
        "executionInfo": {
          "elapsed": 33,
          "status": "ok",
          "timestamp": 1744466959062,
          "user": {
            "displayName": "\u039d\u03af\u03ba\u03bf\u03c2 \u039a\u03b1\u03c4\u03c3\u03b1\u03ca\u03b4\u03ce\u03bd\u03b7\u03c2",
            "userId": "13489937806515013970"
          },
          "user_tz": -180
        },
        "id": "eFE9v5M6VTbE",
        "outputId": "f4cee61d-ad5f-417e-bfd5-62ece33b3e37"
      },
      "outputs": [
        {
          "name": "stderr",
          "output_type": "stream",
          "text": [
            "/usr/local/lib/python3.11/dist-packages/transformers/training_args.py:1611: FutureWarning: `evaluation_strategy` is deprecated and will be removed in version 4.46 of \ud83e\udd17 Transformers. Use `eval_strategy` instead\n",
            "  warnings.warn(\n",
            "Using the `WANDB_DISABLED` environment variable is deprecated and will be removed in v5. Use the --report_to flag to control the integrations used for logging result (for instance --report_to none).\n"
          ]
        }
      ],
      "source": [
        "# insert your code here\n",
        "\n",
        "learning_rate = 3e-6\n",
        "num_train_epochs = 10\n",
        "batch_size = 16\n",
        "weight_decay = 0.03 #penalty to prevent overfitting\n",
        "\n",
        "\n",
        "\n",
        "#optimizer\n",
        "optimizer = AdamW(model.parameters(), lr=learning_rate)\n",
        "\n",
        "\n",
        "#scheduler\n",
        "lr_scheduler = get_scheduler(\n",
        "    \"linear\",\n",
        "    optimizer=optimizer,\n",
        "    num_warmup_steps=0,\n",
        "    num_training_steps=len(train_set) * num_train_epochs,  # \u03a3\u03c5\u03bd\u03bf\u03bb\u03b9\u03ba\u03cc\u03c2 \u03b1\u03c1\u03b9\u03b8\u03bc\u03cc\u03c2 \u03b2\u03b7\u03bc\u03ac\u03c4\u03c9\u03bd \u03b5\u03ba\u03c0\u03b1\u03af\u03b4\u03b5\u03c5\u03c3\u03b7\u03c2\n",
        ")\n",
        "\n",
        "\n",
        "\n",
        "\n",
        "args = TrainingArguments(\n",
        "                         output_dir = \"/content/drive/MyDrive/Deep_Learning_Lab2/trained_model2\",\n",
        "                         evaluation_strategy=\"epoch\",\n",
        "                         per_device_train_batch_size=batch_size,\n",
        "                         per_device_eval_batch_size=64,\n",
        "                         num_train_epochs=num_train_epochs,\n",
        "                         weight_decay=weight_decay,\n",
        "                         logging_steps=10,\n",
        "                         )\n",
        "\n"
      ]
    },
    {
      "cell_type": "code",
      "execution_count": null,
      "metadata": {
        "id": "3Jxa0MFyVZFw"
      },
      "outputs": [],
      "source": [
        "trainer = Trainer(\n",
        "    model=model,\n",
        "    args=args,\n",
        "    train_dataset=tokenized_train_set,\n",
        "    eval_dataset=tokenized_test_set,\n",
        "    compute_metrics=compute_metrics,\n",
        "    optimizers=(optimizer, lr_scheduler)\n",
        ")\n",
        "\n"
      ]
    },
    {
      "cell_type": "code",
      "execution_count": null,
      "metadata": {
        "colab": {
          "base_uri": "https://localhost:8080/",
          "height": 389
        },
        "executionInfo": {
          "elapsed": 309744,
          "status": "ok",
          "timestamp": 1744467293065,
          "user": {
            "displayName": "\u039d\u03af\u03ba\u03bf\u03c2 \u039a\u03b1\u03c4\u03c3\u03b1\u03ca\u03b4\u03ce\u03bd\u03b7\u03c2",
            "userId": "13489937806515013970"
          },
          "user_tz": -180
        },
        "id": "_jDqZf6AVbEC",
        "outputId": "a3b58317-6e78-4f6e-f31c-be67218f3436"
      },
      "outputs": [
        {
          "data": {
            "text/html": [
              "\n",
              "    <div>\n",
              "      \n",
              "      <progress value='320' max='320' style='width:300px; height:20px; vertical-align: middle;'></progress>\n",
              "      [320/320 05:08, Epoch 10/10]\n",
              "    </div>\n",
              "    <table border=\"1\" class=\"dataframe\">\n",
              "  <thead>\n",
              " <tr style=\"text-align: left;\">\n",
              "      <th>Epoch</th>\n",
              "      <th>Training Loss</th>\n",
              "      <th>Validation Loss</th>\n",
              "      <th>Accuracy</th>\n",
              "    </tr>\n",
              "  </thead>\n",
              "  <tbody>\n",
              "    <tr>\n",
              "      <td>1</td>\n",
              "      <td>0.000000</td>\n",
              "      <td>0.799321</td>\n",
              "      <td>0.934000</td>\n",
              "    </tr>\n",
              "    <tr>\n",
              "      <td>2</td>\n",
              "      <td>0.000000</td>\n",
              "      <td>0.804998</td>\n",
              "      <td>0.934000</td>\n",
              "    </tr>\n",
              "    <tr>\n",
              "      <td>3</td>\n",
              "      <td>0.000000</td>\n",
              "      <td>0.812151</td>\n",
              "      <td>0.934000</td>\n",
              "    </tr>\n",
              "    <tr>\n",
              "      <td>4</td>\n",
              "      <td>0.000000</td>\n",
              "      <td>0.819633</td>\n",
              "      <td>0.936000</td>\n",
              "    </tr>\n",
              "    <tr>\n",
              "      <td>5</td>\n",
              "      <td>0.000000</td>\n",
              "      <td>0.823571</td>\n",
              "      <td>0.934000</td>\n",
              "    </tr>\n",
              "    <tr>\n",
              "      <td>6</td>\n",
              "      <td>0.000000</td>\n",
              "      <td>0.832220</td>\n",
              "      <td>0.936000</td>\n",
              "    </tr>\n",
              "    <tr>\n",
              "      <td>7</td>\n",
              "      <td>0.000000</td>\n",
              "      <td>0.833779</td>\n",
              "      <td>0.934000</td>\n",
              "    </tr>\n",
              "    <tr>\n",
              "      <td>8</td>\n",
              "      <td>0.000000</td>\n",
              "      <td>0.839476</td>\n",
              "      <td>0.934000</td>\n",
              "    </tr>\n",
              "    <tr>\n",
              "      <td>9</td>\n",
              "      <td>0.000000</td>\n",
              "      <td>0.839813</td>\n",
              "      <td>0.930000</td>\n",
              "    </tr>\n",
              "    <tr>\n",
              "      <td>10</td>\n",
              "      <td>0.000000</td>\n",
              "      <td>0.843061</td>\n",
              "      <td>0.928000</td>\n",
              "    </tr>\n",
              "  </tbody>\n",
              "</table><p>"
            ],
            "text/plain": [
              "<IPython.core.display.HTML object>"
            ]
          },
          "metadata": {},
          "output_type": "display_data"
        }
      ],
      "source": [
        "import os\n",
        "os.environ[\"WANDB_DISABLED\"] = \"true\"\n",
        "\n",
        "\n",
        "trained_model=trainer.train()"
      ]
    },
    {
      "cell_type": "markdown",
      "metadata": {
        "id": "aiqlMxLvaq1A"
      },
      "source": [
        "We increase weight decay to 0.05:"
      ]
    },
    {
      "cell_type": "code",
      "execution_count": null,
      "metadata": {
        "colab": {
          "base_uri": "https://localhost:8080/"
        },
        "executionInfo": {
          "elapsed": 27,
          "status": "ok",
          "timestamp": 1744466575405,
          "user": {
            "displayName": "\u039d\u03af\u03ba\u03bf\u03c2 \u039a\u03b1\u03c4\u03c3\u03b1\u03ca\u03b4\u03ce\u03bd\u03b7\u03c2",
            "userId": "13489937806515013970"
          },
          "user_tz": -180
        },
        "id": "pHzphkkGTM-E",
        "outputId": "db20afa3-faa4-4512-e99b-6926c00e3cda"
      },
      "outputs": [
        {
          "name": "stderr",
          "output_type": "stream",
          "text": [
            "/usr/local/lib/python3.11/dist-packages/transformers/training_args.py:1611: FutureWarning: `evaluation_strategy` is deprecated and will be removed in version 4.46 of \ud83e\udd17 Transformers. Use `eval_strategy` instead\n",
            "  warnings.warn(\n",
            "Using the `WANDB_DISABLED` environment variable is deprecated and will be removed in v5. Use the --report_to flag to control the integrations used for logging result (for instance --report_to none).\n"
          ]
        }
      ],
      "source": [
        "# insert your code here\n",
        "\n",
        "learning_rate = 3e-6\n",
        "num_train_epochs = 10\n",
        "batch_size = 16\n",
        "weight_decay = 0.05 #penalty to prevent overfitting\n",
        "\n",
        "\n",
        "\n",
        "#optimizer\n",
        "optimizer = AdamW(model.parameters(), lr=learning_rate)\n",
        "\n",
        "\n",
        "#scheduler\n",
        "lr_scheduler = get_scheduler(\n",
        "    \"linear\",\n",
        "    optimizer=optimizer,\n",
        "    num_warmup_steps=0,\n",
        "    num_training_steps=len(train_set) * num_train_epochs,  # \u03a3\u03c5\u03bd\u03bf\u03bb\u03b9\u03ba\u03cc\u03c2 \u03b1\u03c1\u03b9\u03b8\u03bc\u03cc\u03c2 \u03b2\u03b7\u03bc\u03ac\u03c4\u03c9\u03bd \u03b5\u03ba\u03c0\u03b1\u03af\u03b4\u03b5\u03c5\u03c3\u03b7\u03c2\n",
        ")\n",
        "\n",
        "\n",
        "\n",
        "\n",
        "args = TrainingArguments(\n",
        "                         output_dir = \"/content/drive/MyDrive/Deep_Learning_Lab2/trained_model2\",\n",
        "                         evaluation_strategy=\"epoch\",\n",
        "                         per_device_train_batch_size=batch_size,\n",
        "                         per_device_eval_batch_size=64,\n",
        "                         num_train_epochs=num_train_epochs,\n",
        "                         weight_decay=weight_decay,\n",
        "                         logging_steps=10,\n",
        "                         )\n",
        "\n"
      ]
    },
    {
      "cell_type": "code",
      "execution_count": null,
      "metadata": {
        "id": "3CsFjhcZTWZ3"
      },
      "outputs": [],
      "source": [
        "trainer = Trainer(\n",
        "    model=model,\n",
        "    args=args,\n",
        "    train_dataset=tokenized_train_set,\n",
        "    eval_dataset=tokenized_test_set,\n",
        "    compute_metrics=compute_metrics,\n",
        "    optimizers=(optimizer, lr_scheduler)\n",
        ")\n",
        "\n"
      ]
    },
    {
      "cell_type": "code",
      "execution_count": null,
      "metadata": {
        "colab": {
          "base_uri": "https://localhost:8080/",
          "height": 389
        },
        "executionInfo": {
          "elapsed": 310106,
          "status": "ok",
          "timestamp": 1744466895971,
          "user": {
            "displayName": "\u039d\u03af\u03ba\u03bf\u03c2 \u039a\u03b1\u03c4\u03c3\u03b1\u03ca\u03b4\u03ce\u03bd\u03b7\u03c2",
            "userId": "13489937806515013970"
          },
          "user_tz": -180
        },
        "id": "cfQCS89oTYC2",
        "outputId": "8432a9a6-008c-498b-96fb-9bec20ac7321"
      },
      "outputs": [
        {
          "data": {
            "text/html": [
              "\n",
              "    <div>\n",
              "      \n",
              "      <progress value='320' max='320' style='width:300px; height:20px; vertical-align: middle;'></progress>\n",
              "      [320/320 05:08, Epoch 10/10]\n",
              "    </div>\n",
              "    <table border=\"1\" class=\"dataframe\">\n",
              "  <thead>\n",
              " <tr style=\"text-align: left;\">\n",
              "      <th>Epoch</th>\n",
              "      <th>Training Loss</th>\n",
              "      <th>Validation Loss</th>\n",
              "      <th>Accuracy</th>\n",
              "    </tr>\n",
              "  </thead>\n",
              "  <tbody>\n",
              "    <tr>\n",
              "      <td>1</td>\n",
              "      <td>0.000000</td>\n",
              "      <td>0.723913</td>\n",
              "      <td>0.936000</td>\n",
              "    </tr>\n",
              "    <tr>\n",
              "      <td>2</td>\n",
              "      <td>0.000000</td>\n",
              "      <td>0.734784</td>\n",
              "      <td>0.936000</td>\n",
              "    </tr>\n",
              "    <tr>\n",
              "      <td>3</td>\n",
              "      <td>0.000000</td>\n",
              "      <td>0.750448</td>\n",
              "      <td>0.936000</td>\n",
              "    </tr>\n",
              "    <tr>\n",
              "      <td>4</td>\n",
              "      <td>0.000000</td>\n",
              "      <td>0.758035</td>\n",
              "      <td>0.936000</td>\n",
              "    </tr>\n",
              "    <tr>\n",
              "      <td>5</td>\n",
              "      <td>0.000000</td>\n",
              "      <td>0.760790</td>\n",
              "      <td>0.934000</td>\n",
              "    </tr>\n",
              "    <tr>\n",
              "      <td>6</td>\n",
              "      <td>0.000000</td>\n",
              "      <td>0.777906</td>\n",
              "      <td>0.936000</td>\n",
              "    </tr>\n",
              "    <tr>\n",
              "      <td>7</td>\n",
              "      <td>0.000000</td>\n",
              "      <td>0.774828</td>\n",
              "      <td>0.934000</td>\n",
              "    </tr>\n",
              "    <tr>\n",
              "      <td>8</td>\n",
              "      <td>0.000000</td>\n",
              "      <td>0.782485</td>\n",
              "      <td>0.936000</td>\n",
              "    </tr>\n",
              "    <tr>\n",
              "      <td>9</td>\n",
              "      <td>0.000000</td>\n",
              "      <td>0.782371</td>\n",
              "      <td>0.928000</td>\n",
              "    </tr>\n",
              "    <tr>\n",
              "      <td>10</td>\n",
              "      <td>0.000000</td>\n",
              "      <td>0.788170</td>\n",
              "      <td>0.928000</td>\n",
              "    </tr>\n",
              "  </tbody>\n",
              "</table><p>"
            ],
            "text/plain": [
              "<IPython.core.display.HTML object>"
            ]
          },
          "metadata": {},
          "output_type": "display_data"
        }
      ],
      "source": [
        "import os\n",
        "os.environ[\"WANDB_DISABLED\"] = \"true\"\n",
        "\n",
        "\n",
        "trained_model=trainer.train()"
      ]
    },
    {
      "cell_type": "markdown",
      "metadata": {
        "id": "TfJzWvQPavNR"
      },
      "source": [
        "\u0391\u03c5We increase weight decay to 0.5:"
      ]
    },
    {
      "cell_type": "code",
      "execution_count": null,
      "metadata": {
        "colab": {
          "base_uri": "https://localhost:8080/"
        },
        "executionInfo": {
          "elapsed": 35,
          "status": "ok",
          "timestamp": 1744468152754,
          "user": {
            "displayName": "\u039d\u03af\u03ba\u03bf\u03c2 \u039a\u03b1\u03c4\u03c3\u03b1\u03ca\u03b4\u03ce\u03bd\u03b7\u03c2",
            "userId": "13489937806515013970"
          },
          "user_tz": -180
        },
        "id": "vGz_ZCWyWx1V",
        "outputId": "04a79372-dab5-4560-ab03-5157efc8b837"
      },
      "outputs": [
        {
          "name": "stderr",
          "output_type": "stream",
          "text": [
            "/usr/local/lib/python3.11/dist-packages/transformers/training_args.py:1611: FutureWarning: `evaluation_strategy` is deprecated and will be removed in version 4.46 of \ud83e\udd17 Transformers. Use `eval_strategy` instead\n",
            "  warnings.warn(\n",
            "Using the `WANDB_DISABLED` environment variable is deprecated and will be removed in v5. Use the --report_to flag to control the integrations used for logging result (for instance --report_to none).\n"
          ]
        }
      ],
      "source": [
        "# insert your code here\n",
        "\n",
        "learning_rate = 3e-6\n",
        "num_train_epochs = 10\n",
        "batch_size = 16\n",
        "weight_decay = 0.5 #penalty to prevent overfitting\n",
        "\n",
        "\n",
        "\n",
        "#optimizer\n",
        "optimizer = AdamW(model.parameters(), lr=learning_rate)\n",
        "\n",
        "\n",
        "#scheduler\n",
        "lr_scheduler = get_scheduler(\n",
        "    \"linear\",\n",
        "    optimizer=optimizer,\n",
        "    num_warmup_steps=0,\n",
        "    num_training_steps=len(train_set) * num_train_epochs,  # \u03a3\u03c5\u03bd\u03bf\u03bb\u03b9\u03ba\u03cc\u03c2 \u03b1\u03c1\u03b9\u03b8\u03bc\u03cc\u03c2 \u03b2\u03b7\u03bc\u03ac\u03c4\u03c9\u03bd \u03b5\u03ba\u03c0\u03b1\u03af\u03b4\u03b5\u03c5\u03c3\u03b7\u03c2\n",
        ")\n",
        "\n",
        "\n",
        "\n",
        "\n",
        "args = TrainingArguments(\n",
        "                         output_dir = \"/content/drive/MyDrive/Deep_Learning_Lab2/trained_model2\",\n",
        "                         evaluation_strategy=\"epoch\",\n",
        "                         per_device_train_batch_size=batch_size,\n",
        "                         per_device_eval_batch_size=64,\n",
        "                         num_train_epochs=num_train_epochs,\n",
        "                         weight_decay=weight_decay,\n",
        "                         logging_steps=10,\n",
        "                         )\n",
        "\n"
      ]
    },
    {
      "cell_type": "code",
      "execution_count": null,
      "metadata": {
        "id": "R-Xacbb9W0Vm"
      },
      "outputs": [],
      "source": [
        "trainer = Trainer(\n",
        "    model=model,\n",
        "    args=args,\n",
        "    train_dataset=tokenized_train_set,\n",
        "    eval_dataset=tokenized_test_set,\n",
        "    compute_metrics=compute_metrics,\n",
        "    optimizers=(optimizer, lr_scheduler)\n",
        ")\n",
        "\n"
      ]
    },
    {
      "cell_type": "code",
      "execution_count": null,
      "metadata": {
        "colab": {
          "base_uri": "https://localhost:8080/",
          "height": 389
        },
        "executionInfo": {
          "elapsed": 316746,
          "status": "ok",
          "timestamp": 1744468473186,
          "user": {
            "displayName": "\u039d\u03af\u03ba\u03bf\u03c2 \u039a\u03b1\u03c4\u03c3\u03b1\u03ca\u03b4\u03ce\u03bd\u03b7\u03c2",
            "userId": "13489937806515013970"
          },
          "user_tz": -180
        },
        "id": "IuAkwWArW3gU",
        "outputId": "891268da-933b-43a9-d1e4-628e18693c94"
      },
      "outputs": [
        {
          "data": {
            "text/html": [
              "\n",
              "    <div>\n",
              "      \n",
              "      <progress value='320' max='320' style='width:300px; height:20px; vertical-align: middle;'></progress>\n",
              "      [320/320 05:15, Epoch 10/10]\n",
              "    </div>\n",
              "    <table border=\"1\" class=\"dataframe\">\n",
              "  <thead>\n",
              " <tr style=\"text-align: left;\">\n",
              "      <th>Epoch</th>\n",
              "      <th>Training Loss</th>\n",
              "      <th>Validation Loss</th>\n",
              "      <th>Accuracy</th>\n",
              "    </tr>\n",
              "  </thead>\n",
              "  <tbody>\n",
              "    <tr>\n",
              "      <td>1</td>\n",
              "      <td>0.000000</td>\n",
              "      <td>0.905340</td>\n",
              "      <td>0.932000</td>\n",
              "    </tr>\n",
              "    <tr>\n",
              "      <td>2</td>\n",
              "      <td>0.000000</td>\n",
              "      <td>0.907104</td>\n",
              "      <td>0.932000</td>\n",
              "    </tr>\n",
              "    <tr>\n",
              "      <td>3</td>\n",
              "      <td>0.000000</td>\n",
              "      <td>0.908925</td>\n",
              "      <td>0.932000</td>\n",
              "    </tr>\n",
              "    <tr>\n",
              "      <td>4</td>\n",
              "      <td>0.000000</td>\n",
              "      <td>0.910750</td>\n",
              "      <td>0.932000</td>\n",
              "    </tr>\n",
              "    <tr>\n",
              "      <td>5</td>\n",
              "      <td>0.000000</td>\n",
              "      <td>0.912560</td>\n",
              "      <td>0.932000</td>\n",
              "    </tr>\n",
              "    <tr>\n",
              "      <td>6</td>\n",
              "      <td>0.000000</td>\n",
              "      <td>0.914764</td>\n",
              "      <td>0.934000</td>\n",
              "    </tr>\n",
              "    <tr>\n",
              "      <td>7</td>\n",
              "      <td>0.000000</td>\n",
              "      <td>0.916265</td>\n",
              "      <td>0.932000</td>\n",
              "    </tr>\n",
              "    <tr>\n",
              "      <td>8</td>\n",
              "      <td>0.000000</td>\n",
              "      <td>0.917584</td>\n",
              "      <td>0.932000</td>\n",
              "    </tr>\n",
              "    <tr>\n",
              "      <td>9</td>\n",
              "      <td>0.000000</td>\n",
              "      <td>0.918149</td>\n",
              "      <td>0.932000</td>\n",
              "    </tr>\n",
              "    <tr>\n",
              "      <td>10</td>\n",
              "      <td>0.000000</td>\n",
              "      <td>0.918965</td>\n",
              "      <td>0.932000</td>\n",
              "    </tr>\n",
              "  </tbody>\n",
              "</table><p>"
            ],
            "text/plain": [
              "<IPython.core.display.HTML object>"
            ]
          },
          "metadata": {},
          "output_type": "display_data"
        }
      ],
      "source": [
        "import os\n",
        "os.environ[\"WANDB_DISABLED\"] = \"true\"\n",
        "\n",
        "\n",
        "trained_model=trainer.train()"
      ]
    },
    {
      "cell_type": "markdown",
      "metadata": {
        "id": "G7a1L-Pja16V"
      },
      "source": [
        "It seems that the conservative penalty of 0.01 is the most effective.\n"
      ]
    },
    {
      "cell_type": "markdown",
      "metadata": {
        "id": "dPhOed0SDrvN"
      },
      "source": [
        "# **Batch size.**"
      ]
    },
    {
      "cell_type": "markdown",
      "metadata": {
        "id": "nR_5TmhsTZxA"
      },
      "source": [
        "Keeping the best model (**accuracy = 94%**) from the above:\n",
        "\n",
        "* **learning rate = 3e-6**\n",
        "* **epochs = 10**\n",
        "* **batch size = 16**\n",
        "* **optimizer = Adam**\n",
        "* **scheduler = linear**\n",
        "* **weight decay = 0.01**\n",
        "\n",
        "we will increase the batch size and observe the results.\n"
      ]
    },
    {
      "cell_type": "markdown",
      "metadata": {
        "id": "aEKiprDSZJ5S"
      },
      "source": [
        "We increase batch size to 32:\n",
        "\n"
      ]
    },
    {
      "cell_type": "code",
      "execution_count": null,
      "metadata": {
        "colab": {
          "base_uri": "https://localhost:8080/"
        },
        "executionInfo": {
          "elapsed": 35,
          "status": "ok",
          "timestamp": 1744468523118,
          "user": {
            "displayName": "\u039d\u03af\u03ba\u03bf\u03c2 \u039a\u03b1\u03c4\u03c3\u03b1\u03ca\u03b4\u03ce\u03bd\u03b7\u03c2",
            "userId": "13489937806515013970"
          },
          "user_tz": -180
        },
        "id": "g0Q4acqYDqqM",
        "outputId": "16df5c8b-f6d9-481f-9c5d-068747048111"
      },
      "outputs": [
        {
          "name": "stderr",
          "output_type": "stream",
          "text": [
            "/usr/local/lib/python3.11/dist-packages/transformers/training_args.py:1611: FutureWarning: `evaluation_strategy` is deprecated and will be removed in version 4.46 of \ud83e\udd17 Transformers. Use `eval_strategy` instead\n",
            "  warnings.warn(\n",
            "Using the `WANDB_DISABLED` environment variable is deprecated and will be removed in v5. Use the --report_to flag to control the integrations used for logging result (for instance --report_to none).\n"
          ]
        }
      ],
      "source": [
        "# insert your code here\n",
        "\n",
        "learning_rate = 3e-6\n",
        "num_train_epochs = 10\n",
        "batch_size = 32\n",
        "weight_decay = 0.01 #penalty to prevent overfitting\n",
        "\n",
        "\n",
        "\n",
        "#optimizer\n",
        "optimizer = AdamW(model.parameters(), lr=learning_rate)\n",
        "\n",
        "\n",
        "#scheduler\n",
        "lr_scheduler = get_scheduler(\n",
        "    \"linear\",\n",
        "    optimizer=optimizer,\n",
        "    num_warmup_steps=0,\n",
        "    num_training_steps=len(train_set) * num_train_epochs,  # \u03a3\u03c5\u03bd\u03bf\u03bb\u03b9\u03ba\u03cc\u03c2 \u03b1\u03c1\u03b9\u03b8\u03bc\u03cc\u03c2 \u03b2\u03b7\u03bc\u03ac\u03c4\u03c9\u03bd \u03b5\u03ba\u03c0\u03b1\u03af\u03b4\u03b5\u03c5\u03c3\u03b7\u03c2\n",
        ")\n",
        "\n",
        "\n",
        "\n",
        "\n",
        "args = TrainingArguments(\n",
        "                         output_dir = \"/content/drive/MyDrive/Deep_Learning_Lab2/trained_model2\",\n",
        "                         evaluation_strategy=\"epoch\",\n",
        "                         per_device_train_batch_size=batch_size,\n",
        "                         per_device_eval_batch_size=64,\n",
        "                         num_train_epochs=num_train_epochs,\n",
        "                         weight_decay=weight_decay,\n",
        "                         logging_steps=10,\n",
        "                         )\n",
        "\n"
      ]
    },
    {
      "cell_type": "code",
      "execution_count": null,
      "metadata": {
        "id": "ZF4H2TGlECWk"
      },
      "outputs": [],
      "source": [
        "trainer = Trainer(\n",
        "    model=model,\n",
        "    args=args,\n",
        "    train_dataset=tokenized_train_set,\n",
        "    eval_dataset=tokenized_test_set,\n",
        "    compute_metrics=compute_metrics,\n",
        "    optimizers=(optimizer, lr_scheduler)\n",
        ")\n",
        "\n"
      ]
    },
    {
      "cell_type": "code",
      "execution_count": null,
      "metadata": {
        "colab": {
          "base_uri": "https://localhost:8080/",
          "height": 389
        },
        "executionInfo": {
          "elapsed": 306046,
          "status": "ok",
          "timestamp": 1744468852328,
          "user": {
            "displayName": "\u039d\u03af\u03ba\u03bf\u03c2 \u039a\u03b1\u03c4\u03c3\u03b1\u03ca\u03b4\u03ce\u03bd\u03b7\u03c2",
            "userId": "13489937806515013970"
          },
          "user_tz": -180
        },
        "id": "8mNimjChZQN4",
        "outputId": "918250e6-814a-4ab5-94ff-ffb5dd00bb0f"
      },
      "outputs": [
        {
          "data": {
            "text/html": [
              "\n",
              "    <div>\n",
              "      \n",
              "      <progress value='160' max='160' style='width:300px; height:20px; vertical-align: middle;'></progress>\n",
              "      [160/160 05:03, Epoch 10/10]\n",
              "    </div>\n",
              "    <table border=\"1\" class=\"dataframe\">\n",
              "  <thead>\n",
              " <tr style=\"text-align: left;\">\n",
              "      <th>Epoch</th>\n",
              "      <th>Training Loss</th>\n",
              "      <th>Validation Loss</th>\n",
              "      <th>Accuracy</th>\n",
              "    </tr>\n",
              "  </thead>\n",
              "  <tbody>\n",
              "    <tr>\n",
              "      <td>1</td>\n",
              "      <td>0.000000</td>\n",
              "      <td>0.919081</td>\n",
              "      <td>0.932000</td>\n",
              "    </tr>\n",
              "    <tr>\n",
              "      <td>2</td>\n",
              "      <td>0.000000</td>\n",
              "      <td>0.919012</td>\n",
              "      <td>0.930000</td>\n",
              "    </tr>\n",
              "    <tr>\n",
              "      <td>3</td>\n",
              "      <td>0.000000</td>\n",
              "      <td>0.919703</td>\n",
              "      <td>0.930000</td>\n",
              "    </tr>\n",
              "    <tr>\n",
              "      <td>4</td>\n",
              "      <td>0.000000</td>\n",
              "      <td>0.920446</td>\n",
              "      <td>0.930000</td>\n",
              "    </tr>\n",
              "    <tr>\n",
              "      <td>5</td>\n",
              "      <td>0.000000</td>\n",
              "      <td>0.921244</td>\n",
              "      <td>0.930000</td>\n",
              "    </tr>\n",
              "    <tr>\n",
              "      <td>6</td>\n",
              "      <td>0.000000</td>\n",
              "      <td>0.922186</td>\n",
              "      <td>0.930000</td>\n",
              "    </tr>\n",
              "    <tr>\n",
              "      <td>7</td>\n",
              "      <td>0.000000</td>\n",
              "      <td>0.922917</td>\n",
              "      <td>0.930000</td>\n",
              "    </tr>\n",
              "    <tr>\n",
              "      <td>8</td>\n",
              "      <td>0.000000</td>\n",
              "      <td>0.923534</td>\n",
              "      <td>0.930000</td>\n",
              "    </tr>\n",
              "    <tr>\n",
              "      <td>9</td>\n",
              "      <td>0.000000</td>\n",
              "      <td>0.924150</td>\n",
              "      <td>0.930000</td>\n",
              "    </tr>\n",
              "    <tr>\n",
              "      <td>10</td>\n",
              "      <td>0.000000</td>\n",
              "      <td>0.924753</td>\n",
              "      <td>0.930000</td>\n",
              "    </tr>\n",
              "  </tbody>\n",
              "</table><p>"
            ],
            "text/plain": [
              "<IPython.core.display.HTML object>"
            ]
          },
          "metadata": {},
          "output_type": "display_data"
        }
      ],
      "source": [
        "import os\n",
        "os.environ[\"WANDB_DISABLED\"] = \"true\"\n",
        "\n",
        "\n",
        "trained_model=trainer.train()"
      ]
    },
    {
      "cell_type": "markdown",
      "metadata": {
        "id": "4RJaMX1XaGU5"
      },
      "source": [
        "We increase batch size to 64:\n"
      ]
    },
    {
      "cell_type": "code",
      "execution_count": null,
      "metadata": {
        "colab": {
          "base_uri": "https://localhost:8080/"
        },
        "executionInfo": {
          "elapsed": 37,
          "status": "ok",
          "timestamp": 1744468859493,
          "user": {
            "displayName": "\u039d\u03af\u03ba\u03bf\u03c2 \u039a\u03b1\u03c4\u03c3\u03b1\u03ca\u03b4\u03ce\u03bd\u03b7\u03c2",
            "userId": "13489937806515013970"
          },
          "user_tz": -180
        },
        "id": "C65onWoxZQjY",
        "outputId": "542d2b85-2ac7-478b-a079-ff03cc7ce302"
      },
      "outputs": [
        {
          "name": "stderr",
          "output_type": "stream",
          "text": [
            "/usr/local/lib/python3.11/dist-packages/transformers/training_args.py:1611: FutureWarning: `evaluation_strategy` is deprecated and will be removed in version 4.46 of \ud83e\udd17 Transformers. Use `eval_strategy` instead\n",
            "  warnings.warn(\n",
            "Using the `WANDB_DISABLED` environment variable is deprecated and will be removed in v5. Use the --report_to flag to control the integrations used for logging result (for instance --report_to none).\n"
          ]
        }
      ],
      "source": [
        "# insert your code here\n",
        "\n",
        "learning_rate = 3e-6\n",
        "num_train_epochs = 10\n",
        "batch_size = 64\n",
        "weight_decay = 0.01 #penalty to prevent overfitting\n",
        "\n",
        "\n",
        "\n",
        "#optimizer\n",
        "optimizer = AdamW(model.parameters(), lr=learning_rate)\n",
        "\n",
        "\n",
        "#scheduler\n",
        "lr_scheduler = get_scheduler(\n",
        "    \"linear\",\n",
        "    optimizer=optimizer,\n",
        "    num_warmup_steps=0,\n",
        "    num_training_steps=len(train_set) * num_train_epochs,  # \u03a3\u03c5\u03bd\u03bf\u03bb\u03b9\u03ba\u03cc\u03c2 \u03b1\u03c1\u03b9\u03b8\u03bc\u03cc\u03c2 \u03b2\u03b7\u03bc\u03ac\u03c4\u03c9\u03bd \u03b5\u03ba\u03c0\u03b1\u03af\u03b4\u03b5\u03c5\u03c3\u03b7\u03c2\n",
        ")\n",
        "\n",
        "\n",
        "\n",
        "\n",
        "args = TrainingArguments(\n",
        "                         output_dir = \"/content/drive/MyDrive/Deep_Learning_Lab2/trained_model2\",\n",
        "                         evaluation_strategy=\"epoch\",\n",
        "                         per_device_train_batch_size=batch_size,\n",
        "                         per_device_eval_batch_size=64,\n",
        "                         num_train_epochs=num_train_epochs,\n",
        "                         weight_decay=weight_decay,\n",
        "                         logging_steps=10,\n",
        "                         )\n",
        "\n"
      ]
    },
    {
      "cell_type": "code",
      "execution_count": null,
      "metadata": {
        "id": "MJgsG56OZTFI"
      },
      "outputs": [],
      "source": [
        "trainer = Trainer(\n",
        "    model=model,\n",
        "    args=args,\n",
        "    train_dataset=tokenized_train_set,\n",
        "    eval_dataset=tokenized_test_set,\n",
        "    compute_metrics=compute_metrics,\n",
        "    optimizers=(optimizer, lr_scheduler)\n",
        ")\n",
        "\n"
      ]
    },
    {
      "cell_type": "code",
      "execution_count": null,
      "metadata": {
        "colab": {
          "base_uri": "https://localhost:8080/",
          "height": 389
        },
        "executionInfo": {
          "elapsed": 299690,
          "status": "ok",
          "timestamp": 1744469170166,
          "user": {
            "displayName": "\u039d\u03af\u03ba\u03bf\u03c2 \u039a\u03b1\u03c4\u03c3\u03b1\u03ca\u03b4\u03ce\u03bd\u03b7\u03c2",
            "userId": "13489937806515013970"
          },
          "user_tz": -180
        },
        "id": "OKip_nZ0ZUHh",
        "outputId": "0c07da96-5b8f-4f73-a5db-fb106c8ebef4"
      },
      "outputs": [
        {
          "data": {
            "text/html": [
              "\n",
              "    <div>\n",
              "      \n",
              "      <progress value='80' max='80' style='width:300px; height:20px; vertical-align: middle;'></progress>\n",
              "      [80/80 04:56, Epoch 10/10]\n",
              "    </div>\n",
              "    <table border=\"1\" class=\"dataframe\">\n",
              "  <thead>\n",
              " <tr style=\"text-align: left;\">\n",
              "      <th>Epoch</th>\n",
              "      <th>Training Loss</th>\n",
              "      <th>Validation Loss</th>\n",
              "      <th>Accuracy</th>\n",
              "    </tr>\n",
              "  </thead>\n",
              "  <tbody>\n",
              "    <tr>\n",
              "      <td>1</td>\n",
              "      <td>No log</td>\n",
              "      <td>0.924768</td>\n",
              "      <td>0.930000</td>\n",
              "    </tr>\n",
              "    <tr>\n",
              "      <td>2</td>\n",
              "      <td>0.000000</td>\n",
              "      <td>0.925046</td>\n",
              "      <td>0.930000</td>\n",
              "    </tr>\n",
              "    <tr>\n",
              "      <td>3</td>\n",
              "      <td>0.000000</td>\n",
              "      <td>0.925286</td>\n",
              "      <td>0.930000</td>\n",
              "    </tr>\n",
              "    <tr>\n",
              "      <td>4</td>\n",
              "      <td>0.000000</td>\n",
              "      <td>0.925560</td>\n",
              "      <td>0.930000</td>\n",
              "    </tr>\n",
              "    <tr>\n",
              "      <td>5</td>\n",
              "      <td>0.000000</td>\n",
              "      <td>0.925943</td>\n",
              "      <td>0.930000</td>\n",
              "    </tr>\n",
              "    <tr>\n",
              "      <td>6</td>\n",
              "      <td>0.000000</td>\n",
              "      <td>0.926388</td>\n",
              "      <td>0.930000</td>\n",
              "    </tr>\n",
              "    <tr>\n",
              "      <td>7</td>\n",
              "      <td>0.000000</td>\n",
              "      <td>0.926798</td>\n",
              "      <td>0.930000</td>\n",
              "    </tr>\n",
              "    <tr>\n",
              "      <td>8</td>\n",
              "      <td>0.000000</td>\n",
              "      <td>0.927274</td>\n",
              "      <td>0.930000</td>\n",
              "    </tr>\n",
              "    <tr>\n",
              "      <td>9</td>\n",
              "      <td>0.000000</td>\n",
              "      <td>0.927690</td>\n",
              "      <td>0.930000</td>\n",
              "    </tr>\n",
              "    <tr>\n",
              "      <td>10</td>\n",
              "      <td>0.000000</td>\n",
              "      <td>0.928045</td>\n",
              "      <td>0.930000</td>\n",
              "    </tr>\n",
              "  </tbody>\n",
              "</table><p>"
            ],
            "text/plain": [
              "<IPython.core.display.HTML object>"
            ]
          },
          "metadata": {},
          "output_type": "display_data"
        }
      ],
      "source": [
        "import os\n",
        "os.environ[\"WANDB_DISABLED\"] = \"true\"\n",
        "\n",
        "\n",
        "trained_model=trainer.train()"
      ]
    },
    {
      "cell_type": "markdown",
      "metadata": {
        "id": "hEGyrfDyaLql"
      },
      "source": [
        "We increase batch size to 80:\n"
      ]
    },
    {
      "cell_type": "code",
      "execution_count": null,
      "metadata": {
        "colab": {
          "base_uri": "https://localhost:8080/"
        },
        "executionInfo": {
          "elapsed": 35,
          "status": "ok",
          "timestamp": 1744469987510,
          "user": {
            "displayName": "\u039d\u03af\u03ba\u03bf\u03c2 \u039a\u03b1\u03c4\u03c3\u03b1\u03ca\u03b4\u03ce\u03bd\u03b7\u03c2",
            "userId": "13489937806515013970"
          },
          "user_tz": -180
        },
        "id": "YHu0fY69Zcsm",
        "outputId": "2d38c179-f213-42a6-bcc2-088ff5f668a2"
      },
      "outputs": [
        {
          "name": "stderr",
          "output_type": "stream",
          "text": [
            "/usr/local/lib/python3.11/dist-packages/transformers/training_args.py:1611: FutureWarning: `evaluation_strategy` is deprecated and will be removed in version 4.46 of \ud83e\udd17 Transformers. Use `eval_strategy` instead\n",
            "  warnings.warn(\n",
            "Using the `WANDB_DISABLED` environment variable is deprecated and will be removed in v5. Use the --report_to flag to control the integrations used for logging result (for instance --report_to none).\n"
          ]
        }
      ],
      "source": [
        "# insert your code here\n",
        "\n",
        "learning_rate = 3e-6\n",
        "num_train_epochs = 10\n",
        "batch_size = 80\n",
        "weight_decay = 0.01 #penalty to prevent overfitting\n",
        "\n",
        "\n",
        "\n",
        "#optimizer\n",
        "optimizer = AdamW(model.parameters(), lr=learning_rate)\n",
        "\n",
        "\n",
        "#scheduler\n",
        "lr_scheduler = get_scheduler(\n",
        "    \"linear\",\n",
        "    optimizer=optimizer,\n",
        "    num_warmup_steps=0,\n",
        "    num_training_steps=len(train_set) * num_train_epochs,  # \u03a3\u03c5\u03bd\u03bf\u03bb\u03b9\u03ba\u03cc\u03c2 \u03b1\u03c1\u03b9\u03b8\u03bc\u03cc\u03c2 \u03b2\u03b7\u03bc\u03ac\u03c4\u03c9\u03bd \u03b5\u03ba\u03c0\u03b1\u03af\u03b4\u03b5\u03c5\u03c3\u03b7\u03c2\n",
        ")\n",
        "\n",
        "\n",
        "\n",
        "\n",
        "args = TrainingArguments(\n",
        "\n",
        "                         evaluation_strategy=\"epoch\",\n",
        "                         per_device_train_batch_size=batch_size,\n",
        "                         per_device_eval_batch_size=4,\n",
        "                         num_train_epochs=num_train_epochs,\n",
        "                         weight_decay=weight_decay,\n",
        "                         logging_steps=10,\n",
        "                         )\n",
        "\n"
      ]
    },
    {
      "cell_type": "code",
      "execution_count": null,
      "metadata": {
        "id": "h2OKjI5LZgIF"
      },
      "outputs": [],
      "source": [
        "trainer = Trainer(\n",
        "    model=model,\n",
        "    args=args,\n",
        "    train_dataset=tokenized_train_set,\n",
        "    eval_dataset=tokenized_test_set,\n",
        "    compute_metrics=compute_metrics,\n",
        "    optimizers=(optimizer, lr_scheduler)\n",
        ")\n",
        "\n"
      ]
    },
    {
      "cell_type": "code",
      "execution_count": null,
      "metadata": {
        "colab": {
          "base_uri": "https://localhost:8080/",
          "height": 389
        },
        "executionInfo": {
          "elapsed": 302808,
          "status": "ok",
          "timestamp": 1744470294104,
          "user": {
            "displayName": "\u039d\u03af\u03ba\u03bf\u03c2 \u039a\u03b1\u03c4\u03c3\u03b1\u03ca\u03b4\u03ce\u03bd\u03b7\u03c2",
            "userId": "13489937806515013970"
          },
          "user_tz": -180
        },
        "id": "dTzHx_zsZgrJ",
        "outputId": "7d1e85ab-f8d6-4b20-e931-ea8ebfbf5315"
      },
      "outputs": [
        {
          "data": {
            "text/html": [
              "\n",
              "    <div>\n",
              "      \n",
              "      <progress value='70' max='70' style='width:300px; height:20px; vertical-align: middle;'></progress>\n",
              "      [70/70 04:58, Epoch 10/10]\n",
              "    </div>\n",
              "    <table border=\"1\" class=\"dataframe\">\n",
              "  <thead>\n",
              " <tr style=\"text-align: left;\">\n",
              "      <th>Epoch</th>\n",
              "      <th>Training Loss</th>\n",
              "      <th>Validation Loss</th>\n",
              "      <th>Accuracy</th>\n",
              "    </tr>\n",
              "  </thead>\n",
              "  <tbody>\n",
              "    <tr>\n",
              "      <td>1</td>\n",
              "      <td>No log</td>\n",
              "      <td>0.928447</td>\n",
              "      <td>0.930000</td>\n",
              "    </tr>\n",
              "    <tr>\n",
              "      <td>2</td>\n",
              "      <td>0.000000</td>\n",
              "      <td>0.928662</td>\n",
              "      <td>0.930000</td>\n",
              "    </tr>\n",
              "    <tr>\n",
              "      <td>3</td>\n",
              "      <td>0.000000</td>\n",
              "      <td>0.928935</td>\n",
              "      <td>0.930000</td>\n",
              "    </tr>\n",
              "    <tr>\n",
              "      <td>4</td>\n",
              "      <td>0.000000</td>\n",
              "      <td>0.929271</td>\n",
              "      <td>0.930000</td>\n",
              "    </tr>\n",
              "    <tr>\n",
              "      <td>5</td>\n",
              "      <td>0.000000</td>\n",
              "      <td>0.929593</td>\n",
              "      <td>0.930000</td>\n",
              "    </tr>\n",
              "    <tr>\n",
              "      <td>6</td>\n",
              "      <td>0.000000</td>\n",
              "      <td>0.929977</td>\n",
              "      <td>0.930000</td>\n",
              "    </tr>\n",
              "    <tr>\n",
              "      <td>7</td>\n",
              "      <td>0.000000</td>\n",
              "      <td>0.930273</td>\n",
              "      <td>0.930000</td>\n",
              "    </tr>\n",
              "    <tr>\n",
              "      <td>8</td>\n",
              "      <td>0.000000</td>\n",
              "      <td>0.930571</td>\n",
              "      <td>0.930000</td>\n",
              "    </tr>\n",
              "    <tr>\n",
              "      <td>9</td>\n",
              "      <td>0.000000</td>\n",
              "      <td>0.930843</td>\n",
              "      <td>0.930000</td>\n",
              "    </tr>\n",
              "    <tr>\n",
              "      <td>10</td>\n",
              "      <td>0.000000</td>\n",
              "      <td>0.931112</td>\n",
              "      <td>0.930000</td>\n",
              "    </tr>\n",
              "  </tbody>\n",
              "</table><p>"
            ],
            "text/plain": [
              "<IPython.core.display.HTML object>"
            ]
          },
          "metadata": {},
          "output_type": "display_data"
        }
      ],
      "source": [
        "import os\n",
        "os.environ[\"WANDB_DISABLED\"] = \"true\"\n",
        "\n",
        "\n",
        "trained_model=trainer.train()"
      ]
    },
    {
      "cell_type": "markdown",
      "metadata": {
        "id": "LVzF4EHZjJWI"
      },
      "source": [
        "We reduce batch size to 4:"
      ]
    },
    {
      "cell_type": "code",
      "execution_count": null,
      "metadata": {
        "colab": {
          "base_uri": "https://localhost:8080/"
        },
        "executionInfo": {
          "elapsed": 29,
          "status": "ok",
          "timestamp": 1744470298798,
          "user": {
            "displayName": "\u039d\u03af\u03ba\u03bf\u03c2 \u039a\u03b1\u03c4\u03c3\u03b1\u03ca\u03b4\u03ce\u03bd\u03b7\u03c2",
            "userId": "13489937806515013970"
          },
          "user_tz": -180
        },
        "id": "Yh57BbAOhbFF",
        "outputId": "29ac6397-147b-4b38-9295-f734a4086d66"
      },
      "outputs": [
        {
          "name": "stderr",
          "output_type": "stream",
          "text": [
            "/usr/local/lib/python3.11/dist-packages/transformers/training_args.py:1611: FutureWarning: `evaluation_strategy` is deprecated and will be removed in version 4.46 of \ud83e\udd17 Transformers. Use `eval_strategy` instead\n",
            "  warnings.warn(\n",
            "Using the `WANDB_DISABLED` environment variable is deprecated and will be removed in v5. Use the --report_to flag to control the integrations used for logging result (for instance --report_to none).\n"
          ]
        }
      ],
      "source": [
        "# insert your code here\n",
        "\n",
        "learning_rate = 3e-6\n",
        "num_train_epochs = 10\n",
        "batch_size = 4\n",
        "weight_decay = 0.01 #penalty to prevent overfitting\n",
        "\n",
        "\n",
        "\n",
        "#optimizer\n",
        "optimizer = AdamW(model.parameters(), lr=learning_rate)\n",
        "\n",
        "\n",
        "#scheduler\n",
        "lr_scheduler = get_scheduler(\n",
        "    \"linear\",\n",
        "    optimizer=optimizer,\n",
        "    num_warmup_steps=0,\n",
        "    num_training_steps=len(train_set) * num_train_epochs,  # \u03a3\u03c5\u03bd\u03bf\u03bb\u03b9\u03ba\u03cc\u03c2 \u03b1\u03c1\u03b9\u03b8\u03bc\u03cc\u03c2 \u03b2\u03b7\u03bc\u03ac\u03c4\u03c9\u03bd \u03b5\u03ba\u03c0\u03b1\u03af\u03b4\u03b5\u03c5\u03c3\u03b7\u03c2\n",
        ")\n",
        "\n",
        "\n",
        "\n",
        "\n",
        "args = TrainingArguments(\n",
        "\n",
        "                         evaluation_strategy=\"epoch\",\n",
        "                         per_device_train_batch_size=batch_size,\n",
        "                         per_device_eval_batch_size=4,\n",
        "                         num_train_epochs=num_train_epochs,\n",
        "                         weight_decay=weight_decay,\n",
        "                         logging_steps=10,\n",
        "                         )\n",
        "\n"
      ]
    },
    {
      "cell_type": "code",
      "execution_count": null,
      "metadata": {
        "id": "B37pse7FiH-e"
      },
      "outputs": [],
      "source": [
        "trainer = Trainer(\n",
        "    model=model,\n",
        "    args=args,\n",
        "    train_dataset=tokenized_train_set,\n",
        "    eval_dataset=tokenized_test_set,\n",
        "    compute_metrics=compute_metrics,\n",
        "    optimizers=(optimizer, lr_scheduler)\n",
        ")\n",
        "\n"
      ]
    },
    {
      "cell_type": "code",
      "execution_count": null,
      "metadata": {
        "colab": {
          "base_uri": "https://localhost:8080/",
          "height": 389
        },
        "executionInfo": {
          "elapsed": 350893,
          "status": "ok",
          "timestamp": 1744470682544,
          "user": {
            "displayName": "\u039d\u03af\u03ba\u03bf\u03c2 \u039a\u03b1\u03c4\u03c3\u03b1\u03ca\u03b4\u03ce\u03bd\u03b7\u03c2",
            "userId": "13489937806515013970"
          },
          "user_tz": -180
        },
        "id": "2iaywFx_iKEo",
        "outputId": "b5e807dc-bd12-499d-fe40-c889db7480f2"
      },
      "outputs": [
        {
          "data": {
            "text/html": [
              "\n",
              "    <div>\n",
              "      \n",
              "      <progress value='1250' max='1250' style='width:300px; height:20px; vertical-align: middle;'></progress>\n",
              "      [1250/1250 05:49, Epoch 10/10]\n",
              "    </div>\n",
              "    <table border=\"1\" class=\"dataframe\">\n",
              "  <thead>\n",
              " <tr style=\"text-align: left;\">\n",
              "      <th>Epoch</th>\n",
              "      <th>Training Loss</th>\n",
              "      <th>Validation Loss</th>\n",
              "      <th>Accuracy</th>\n",
              "    </tr>\n",
              "  </thead>\n",
              "  <tbody>\n",
              "    <tr>\n",
              "      <td>1</td>\n",
              "      <td>0.000000</td>\n",
              "      <td>0.937752</td>\n",
              "      <td>0.932000</td>\n",
              "    </tr>\n",
              "    <tr>\n",
              "      <td>2</td>\n",
              "      <td>0.000000</td>\n",
              "      <td>0.940661</td>\n",
              "      <td>0.930000</td>\n",
              "    </tr>\n",
              "    <tr>\n",
              "      <td>3</td>\n",
              "      <td>0.000000</td>\n",
              "      <td>0.942769</td>\n",
              "      <td>0.930000</td>\n",
              "    </tr>\n",
              "    <tr>\n",
              "      <td>4</td>\n",
              "      <td>0.000000</td>\n",
              "      <td>0.946202</td>\n",
              "      <td>0.930000</td>\n",
              "    </tr>\n",
              "    <tr>\n",
              "      <td>5</td>\n",
              "      <td>0.000000</td>\n",
              "      <td>0.950759</td>\n",
              "      <td>0.930000</td>\n",
              "    </tr>\n",
              "    <tr>\n",
              "      <td>6</td>\n",
              "      <td>0.000000</td>\n",
              "      <td>0.953640</td>\n",
              "      <td>0.930000</td>\n",
              "    </tr>\n",
              "    <tr>\n",
              "      <td>7</td>\n",
              "      <td>0.000000</td>\n",
              "      <td>0.956470</td>\n",
              "      <td>0.932000</td>\n",
              "    </tr>\n",
              "    <tr>\n",
              "      <td>8</td>\n",
              "      <td>0.000000</td>\n",
              "      <td>0.959343</td>\n",
              "      <td>0.932000</td>\n",
              "    </tr>\n",
              "    <tr>\n",
              "      <td>9</td>\n",
              "      <td>0.000000</td>\n",
              "      <td>0.960768</td>\n",
              "      <td>0.930000</td>\n",
              "    </tr>\n",
              "    <tr>\n",
              "      <td>10</td>\n",
              "      <td>0.000000</td>\n",
              "      <td>0.963372</td>\n",
              "      <td>0.932000</td>\n",
              "    </tr>\n",
              "  </tbody>\n",
              "</table><p>"
            ],
            "text/plain": [
              "<IPython.core.display.HTML object>"
            ]
          },
          "metadata": {},
          "output_type": "display_data"
        }
      ],
      "source": [
        "import os\n",
        "os.environ[\"WANDB_DISABLED\"] = \"true\"\n",
        "\n",
        "\n",
        "\n",
        "trained_model=trainer.train()"
      ]
    },
    {
      "cell_type": "markdown",
      "metadata": {
        "id": "mJmNPMnrkBMy"
      },
      "source": [
        "# Hyperparameters\n",
        "\n",
        "* **Learning Rate:** This hyperparameter controls how the model's weights are updated during each gradient descent step. A **high learning rate** causes large updates to the weights and can often result in getting stuck in local minima. A **low learning rate** leads to slower training.\n",
        "\n",
        "* **Batch Size:** The idea behind mini-batches is to feed data in groups instead of one sample at a time. This leads to better performance and faster training, especially when using GPUs that support parallel processing. Additionally, weights\u2014updated per mini-batch\u2014are now adjusted based on a group of samples, rather than individually. This allows the model to learn from more data before updating weights prematurely.\n",
        "\n",
        "  Based on this:\n",
        "  - Smaller mini-batches lead to noisier weight updates, since they are based on fewer data points. They may help the model escape local minima.\n",
        "  - Larger mini-batches produce more stable gradients, but can increase the risk of getting stuck in local minima.\n",
        "\n",
        "* **Weight Decay (regularization):** Weight decay adds a penalty to the loss function to discourage the model from assigning large values to its weights. In essence, it tries to keep the weights as small as possible in order to prevent overfitting.\n",
        "\n",
        "  \u2192 Smaller weights mean simpler models.  \n",
        "  \u2192 Simpler models generalize better.  \n",
        "  \u2192 This reduces overfitting.\n",
        "\n",
        "* **Optimizer:** This is the algorithm used to update the model's weights. It uses the gradients computed from the loss function to adjust the weights in a way that minimizes the loss.\n",
        "\n",
        "  Examples: adam, gradient descent.\n",
        "\n",
        "* **Scheduler:** Responsible for adjusting the learning rate during training. Instead of keeping the learning rate constant, the scheduler allows it to change over the course of training.\n",
        "\n",
        "  Examples: linear, cosine.\n"
      ]
    },
    {
      "cell_type": "markdown",
      "metadata": {
        "id": "Q0G6gMffp91g"
      },
      "source": [
        "# Results\n",
        "\n",
        "We begin our experimentation by varying the number of training epochs. For each experiment, all other hyperparameters are held constant at the values mentioned earlier:\n",
        "\n",
        "| Epochs | Accuracy |\n",
        "|--------|----------|\n",
        "| 5      | 0.9300   |\n",
        "| 10     | 0.9180   |\n",
        "| 15     | 0.9300   |\n",
        "\n",
        "At 10 epochs, we observe that the model begins to \u201cunlearn\u201d and overfits to the training data, resulting in a slight drop in performance.\n",
        "\n",
        "Next, for the case of 10 epochs, we investigate whether reducing the learning rate can improve the model\u2019s performance:\n",
        "\n",
        "| Learning Rate | Accuracy (Epochs = 10) |\n",
        "|---------------|------------------------|\n",
        "| 5e-5          | 0.9180                 |\n",
        "| 5e-6          | 0.9380                 |\n",
        "| 4e-6          | 0.9380                 |\n",
        "| 3e-6          | 0.9400                 |\n",
        "| 3e-7          | 0.9360                 |\n",
        "| 3e-9          | 0.9360                 |\n",
        "\n",
        "We observe that reducing the learning rate consistently improves the model's accuracy, reaching up to **94%**, which is the best result so far.\n",
        "\n",
        "We then continue experimenting with the weight decay parameter, using the best-performing model so far:\n",
        "\n",
        "| Weight Decay | Accuracy (Epochs = 10) |\n",
        "|--------------|------------------------|\n",
        "| 0.01         | 0.9400                 |\n",
        "| 0.03         | 0.9280                 |\n",
        "| 0.05         | 0.9280                 |\n",
        "| 0.5          | 0.9320                 |\n",
        "\n",
        "It is clear that increasing the weight decay does not help improve model performance.\n",
        "\n",
        "Finally, we test different batch sizes, again using the 10-epoch model with 94% accuracy. However, we consistently obtain slightly lower accuracy:\n",
        "\n",
        "| Batch Size | Accuracy (Epochs = 10) |\n",
        "|------------|------------------------|\n",
        "| 16         | 0.9400                 |\n",
        "| 32         | 0.9300                 |\n",
        "| 64         | 0.9300                 |\n",
        "| 80         | 0.9300                 |\n",
        "| 4          | 0.9320                 |\n"
      ]
    },
    {
      "cell_type": "markdown",
      "metadata": {
        "id": "0eR7gCPovmFN"
      },
      "source": [
        "# Part B: Using Fine-Tuned Models on New Tasks\n",
        "\n",
        "In this part of the assignment, you do not need to perform any training on language models. Instead, we will leverage the capabilities of transfer learning to tackle more complex language tasks by converting them into classical NLP tasks such as text classification, natural language inference, question answering, and others.\n",
        "\n",
        "For example, fine-tuned models for [text classification](https://huggingface.co/tasks/text-classification) can be used for tasks like:\n",
        "\n",
        "- Are two sentences paraphrases of each other? \u2192 [Paraphrase / No Paraphrase]\n",
        "- Does sentence X entail sentence Y? \u2192 [Entailment / Neutral / Contradiction]\n",
        "- Is the given sentence grammatically correct? \u2192 [Acceptable / Unacceptable]\n"
      ]
    },
    {
      "cell_type": "markdown",
      "metadata": {
        "id": "vy3VluE4i3e6"
      },
      "source": [
        "## B1. Piqa Dataset\n",
        "\n",
        "The [Piqa dataset](https://huggingface.co/datasets/piqa) contains sentences designed to test the extent to which language models possess commonsense knowledge. Specifically, it consists of prompts followed by possible endings, which require real-world reasoning to be completed correctly.\n",
        "\n",
        "For example, given the prompt:\n",
        "\n",
        "> \"When boiling butter, when it's ready, you can\"\n",
        "\n",
        "the model must choose between two candidate endings:\n",
        "- \"Pour it onto a plate\"\n",
        "- \"Pour it into a jar\"\n",
        "\n",
        "A human can infer that the second option is more appropriate, since melted butter is a liquid, and a jar is a more suitable container than a plate.\n",
        "\n"
      ]
    },
    {
      "cell_type": "code",
      "execution_count": null,
      "metadata": {
        "colab": {
          "base_uri": "https://localhost:8080/"
        },
        "collapsed": true,
        "executionInfo": {
          "elapsed": 4535,
          "status": "ok",
          "timestamp": 1744557772867,
          "user": {
            "displayName": "\u039d\u03af\u03ba\u03bf\u03c2 \u039a\u03b1\u03c4\u03c3\u03b1\u03ca\u03b4\u03ce\u03bd\u03b7\u03c2",
            "userId": "13489937806515013970"
          },
          "user_tz": -180
        },
        "id": "YICZaYiMrQPj",
        "outputId": "ad07262b-a4de-4920-fe23-11b10790950f"
      },
      "outputs": [],
      "source": [
        "! pip install transformers datasets\n",
        "#! pip install evaluate\n",
        "#! pip install sentence-transformers"
      ]
    },
    {
      "cell_type": "code",
      "execution_count": null,
      "metadata": {
        "collapsed": true,
        "id": "v4eyhC27i8bH"
      },
      "outputs": [],
      "source": [
        "# # insert your code here (load dataset)\n",
        "from datasets import load_dataset\n",
        "\n",
        "dataset = load_dataset(\"ybisk/piqa\")\n",
        "\n"
      ]
    },
    {
      "cell_type": "markdown",
      "metadata": {
        "id": "iHLDaVDprmbR"
      },
      "source": [
        "# Exploring the dataset"
      ]
    },
    {
      "cell_type": "code",
      "execution_count": null,
      "metadata": {
        "colab": {
          "base_uri": "https://localhost:8080/"
        },
        "executionInfo": {
          "elapsed": 18,
          "status": "ok",
          "timestamp": 1744557781544,
          "user": {
            "displayName": "\u039d\u03af\u03ba\u03bf\u03c2 \u039a\u03b1\u03c4\u03c3\u03b1\u03ca\u03b4\u03ce\u03bd\u03b7\u03c2",
            "userId": "13489937806515013970"
          },
          "user_tz": -180
        },
        "id": "b30I4Jnargtv",
        "outputId": "7521cf11-6ecf-46a2-de8f-8855f4f42110"
      },
      "outputs": [
        {
          "data": {
            "text/plain": [
              "DatasetDict({\n",
              "    train: Dataset({\n",
              "        features: ['goal', 'sol1', 'sol2', 'label'],\n",
              "        num_rows: 16113\n",
              "    })\n",
              "    test: Dataset({\n",
              "        features: ['goal', 'sol1', 'sol2', 'label'],\n",
              "        num_rows: 3084\n",
              "    })\n",
              "    validation: Dataset({\n",
              "        features: ['goal', 'sol1', 'sol2', 'label'],\n",
              "        num_rows: 1838\n",
              "    })\n",
              "})"
            ]
          },
          "execution_count": 75,
          "metadata": {},
          "output_type": "execute_result"
        }
      ],
      "source": [
        "dataset"
      ]
    },
    {
      "cell_type": "code",
      "execution_count": null,
      "metadata": {
        "id": "lRkrjAustaBS"
      },
      "outputs": [],
      "source": [
        "#keeping 100 samples from each set\n",
        "\n",
        "#train\n",
        "train_dataset = dataset['train']\n",
        "train_subset = train_dataset.shuffle(seed=42).select(range(100))\n",
        "\n",
        "#test\n",
        "test_dataset = dataset['test']\n",
        "test_subset = test_dataset.shuffle(seed=42).select(range(100))\n",
        "\n",
        "#validation\n",
        "validation_dataset = dataset['validation']\n",
        "validation_subset = validation_dataset.shuffle(seed=42).select(range(100))"
      ]
    },
    {
      "cell_type": "code",
      "execution_count": null,
      "metadata": {
        "colab": {
          "base_uri": "https://localhost:8080/"
        },
        "executionInfo": {
          "elapsed": 55,
          "status": "ok",
          "timestamp": 1744557787138,
          "user": {
            "displayName": "\u039d\u03af\u03ba\u03bf\u03c2 \u039a\u03b1\u03c4\u03c3\u03b1\u03ca\u03b4\u03ce\u03bd\u03b7\u03c2",
            "userId": "13489937806515013970"
          },
          "user_tz": -180
        },
        "id": "Gw8UyjeFuQ-V",
        "outputId": "3ee9e885-9ed0-44ad-a87c-e0c6a62a743e"
      },
      "outputs": [
        {
          "name": "stdout",
          "output_type": "stream",
          "text": [
            "Example 1:\n",
            "goal: Do cardio exercise without running.\n",
            "sol1: Use a jump rope for 15 minutes.\n",
            "sol2: Run around a chair for 15 minutes.\n",
            "label: 0\n",
            "\n",
            "Example 2:\n",
            "goal: To add a promo code to your Uber order\n",
            "sol1: Open the Uber app.  Tap the History button.  Tap Payment.  Tap Add Promo/Gift Code.  Type in your PROMO CODE.  Tap ADD.\n",
            "sol2: Open the Uber app.  Tap the menu button.  Tap Payment.  Tap Add Promo/Gift Code.  Type in your PROMO CODE.  Tap ADD.\n",
            "label: 1\n"
          ]
        }
      ],
      "source": [
        "#Understanding the data\n",
        "print(\"Example 1:\")\n",
        "print(f\"goal: {train_subset['goal'][0]}\")\n",
        "print(f\"sol1: {train_subset['sol1'][0]}\")\n",
        "print(f\"sol2: {train_subset['sol2'][0]}\")\n",
        "print(f\"label: {train_subset['label'][0]}\")\n",
        "\n",
        "print(\"\\nExample 2:\")\n",
        "print(f\"goal: {train_subset['goal'][1]}\")\n",
        "print(f\"sol1: {train_subset['sol1'][1]}\")\n",
        "print(f\"sol2: {train_subset['sol2'][1]}\")\n",
        "print(f\"label: {train_subset['label'][1]}\")\n"
      ]
    },
    {
      "cell_type": "markdown",
      "metadata": {
        "id": "X_r6bijyOY_8"
      },
      "source": [
        "We can treat the above scenario as a multiple-choice problem, where there are two possible alternatives for completing the sentence. Therefore, by utilizing appropriate language models, we can resolve which of the two endings best completes the given prompt.\n",
        "\n",
        "You are required to record the **prediction accuracy** for selecting the correct ending for each sentence using language models.  \n",
        "For comparison purposes, use **at least 5 suitable models**.\n"
      ]
    },
    {
      "cell_type": "code",
      "execution_count": null,
      "metadata": {
        "colab": {
          "base_uri": "https://localhost:8080/"
        },
        "collapsed": true,
        "executionInfo": {
          "elapsed": 81730,
          "status": "ok",
          "timestamp": 1744653554282,
          "user": {
            "displayName": "\u039d\u03af\u03ba\u03bf\u03c2 \u039a\u03b1\u03c4\u03c3\u03b1\u03ca\u03b4\u03ce\u03bd\u03b7\u03c2",
            "userId": "13489937806515013970"
          },
          "user_tz": -180
        },
        "id": "yo5NXtL-wFaz",
        "outputId": "5aa23d31-0802-4b23-a386-831e0569634a"
      },
      "outputs": [],
      "source": [
        "from transformers import AutoTokenizer, AutoModelForSequenceClassification\n",
        "\n",
        "# AutoTokenizer automatically takes the tokenizer of the model (each model has different tokenizer)\n",
        "tokenizer1 = AutoTokenizer.from_pretrained(\"distilbert-base-uncased\")  #binary classification\n",
        "tokenizer2 = AutoTokenizer.from_pretrained(\"microsoft/deberta-v3-base\")\n",
        "tokenizer3 = AutoTokenizer.from_pretrained(\"textattack/roberta-base-CoLA\")\n",
        "tokenizer4 = AutoTokenizer.from_pretrained(\"facebook/bart-large-mnli\") # 3 ways classifier (entailment, neutral, contradaction)\n",
        "tokenizer5 = AutoTokenizer.from_pretrained(\"roberta-large-mnli\") # 3 ways classifier\n",
        "\n",
        "\n",
        "# AutoModelForSequenceClassification \u03b3\u03b9\u03b1 \u03bd\u03b1 \u03c6\u03bf\u03c1\u03c4\u03ce\u03c3\u03bf\u03c5\u03bc\u03b5 \u03c4\u03b1 \u03bc\u03bf\u03bd\u03c4\u03ad\u03bb\u03b1\n",
        "model1 = AutoModelForSequenceClassification.from_pretrained(\"distilbert-base-uncased\")\n",
        "model2 = AutoModelForSequenceClassification.from_pretrained(\"microsoft/deberta-v3-base\")\n",
        "model3 = AutoModelForSequenceClassification.from_pretrained(\"textattack/roberta-base-CoLA\")\n",
        "model4 = AutoModelForSequenceClassification.from_pretrained(\"facebook/bart-large-mnli\")\n",
        "model5 = AutoModelForSequenceClassification.from_pretrained(\"roberta-large-mnli\")\n"
      ]
    },
    {
      "cell_type": "code",
      "execution_count": null,
      "metadata": {
        "id": "OG2CkRVCOHtE"
      },
      "outputs": [],
      "source": [
        "def tokenize_function(example, tokenizer):\n",
        "    input1 = tokenizer(example[\"goal\"], example[\"sol1\"],\n",
        "                       padding=\"max_length\", truncation=True, max_length=128, return_tensors=\"pt\")\n",
        "      #we gave the tokenizer two sentences\n",
        "\n",
        "\n",
        "    input2 = tokenizer(example[\"goal\"], example[\"sol2\"],\n",
        "                       padding=\"max_length\", truncation=True, max_length=128, return_tensors=\"pt\")\n",
        "\n",
        "    return input1, input2\n",
        "\n",
        "\n"
      ]
    },
    {
      "cell_type": "code",
      "execution_count": null,
      "metadata": {
        "colab": {
          "base_uri": "https://localhost:8080/"
        },
        "executionInfo": {
          "elapsed": 70,
          "status": "ok",
          "timestamp": 1744557954012,
          "user": {
            "displayName": "\u039d\u03af\u03ba\u03bf\u03c2 \u039a\u03b1\u03c4\u03c3\u03b1\u03ca\u03b4\u03ce\u03bd\u03b7\u03c2",
            "userId": "13489937806515013970"
          },
          "user_tz": -180
        },
        "id": "Hkv32KO-F7Cd",
        "outputId": "5198e5a9-5e9c-4193-e2e4-2e1f41c90e84"
      },
      "outputs": [
        {
          "name": "stdout",
          "output_type": "stream",
          "text": [
            "{'input_ids': tensor([[ 101, 2079, 4003, 3695, 6912, 2302, 2770, 1012,  102, 2224, 1037, 5376,\n",
            "         8164, 2005, 2321, 2781, 1012,  102,    0,    0,    0,    0,    0,    0,\n",
            "            0,    0,    0,    0,    0,    0,    0,    0,    0,    0,    0,    0,\n",
            "            0,    0,    0,    0,    0,    0,    0,    0,    0,    0,    0,    0,\n",
            "            0,    0,    0,    0,    0,    0,    0,    0,    0,    0,    0,    0,\n",
            "            0,    0,    0,    0,    0,    0,    0,    0,    0,    0,    0,    0,\n",
            "            0,    0,    0,    0,    0,    0,    0,    0,    0,    0,    0,    0,\n",
            "            0,    0,    0,    0,    0,    0,    0,    0,    0,    0,    0,    0,\n",
            "            0,    0,    0,    0,    0,    0,    0,    0,    0,    0,    0,    0,\n",
            "            0,    0,    0,    0,    0,    0,    0,    0,    0,    0,    0,    0,\n",
            "            0,    0,    0,    0,    0,    0,    0,    0]]), 'attention_mask': tensor([[1, 1, 1, 1, 1, 1, 1, 1, 1, 1, 1, 1, 1, 1, 1, 1, 1, 1, 0, 0, 0, 0, 0, 0,\n",
            "         0, 0, 0, 0, 0, 0, 0, 0, 0, 0, 0, 0, 0, 0, 0, 0, 0, 0, 0, 0, 0, 0, 0, 0,\n",
            "         0, 0, 0, 0, 0, 0, 0, 0, 0, 0, 0, 0, 0, 0, 0, 0, 0, 0, 0, 0, 0, 0, 0, 0,\n",
            "         0, 0, 0, 0, 0, 0, 0, 0, 0, 0, 0, 0, 0, 0, 0, 0, 0, 0, 0, 0, 0, 0, 0, 0,\n",
            "         0, 0, 0, 0, 0, 0, 0, 0, 0, 0, 0, 0, 0, 0, 0, 0, 0, 0, 0, 0, 0, 0, 0, 0,\n",
            "         0, 0, 0, 0, 0, 0, 0, 0]])}\n",
            "\n",
            " {'input_ids': tensor([[ 101, 2079, 4003, 3695, 6912, 2302, 2770, 1012,  102, 2448, 2105, 1037,\n",
            "         3242, 2005, 2321, 2781, 1012,  102,    0,    0,    0,    0,    0,    0,\n",
            "            0,    0,    0,    0,    0,    0,    0,    0,    0,    0,    0,    0,\n",
            "            0,    0,    0,    0,    0,    0,    0,    0,    0,    0,    0,    0,\n",
            "            0,    0,    0,    0,    0,    0,    0,    0,    0,    0,    0,    0,\n",
            "            0,    0,    0,    0,    0,    0,    0,    0,    0,    0,    0,    0,\n",
            "            0,    0,    0,    0,    0,    0,    0,    0,    0,    0,    0,    0,\n",
            "            0,    0,    0,    0,    0,    0,    0,    0,    0,    0,    0,    0,\n",
            "            0,    0,    0,    0,    0,    0,    0,    0,    0,    0,    0,    0,\n",
            "            0,    0,    0,    0,    0,    0,    0,    0,    0,    0,    0,    0,\n",
            "            0,    0,    0,    0,    0,    0,    0,    0]]), 'attention_mask': tensor([[1, 1, 1, 1, 1, 1, 1, 1, 1, 1, 1, 1, 1, 1, 1, 1, 1, 1, 0, 0, 0, 0, 0, 0,\n",
            "         0, 0, 0, 0, 0, 0, 0, 0, 0, 0, 0, 0, 0, 0, 0, 0, 0, 0, 0, 0, 0, 0, 0, 0,\n",
            "         0, 0, 0, 0, 0, 0, 0, 0, 0, 0, 0, 0, 0, 0, 0, 0, 0, 0, 0, 0, 0, 0, 0, 0,\n",
            "         0, 0, 0, 0, 0, 0, 0, 0, 0, 0, 0, 0, 0, 0, 0, 0, 0, 0, 0, 0, 0, 0, 0, 0,\n",
            "         0, 0, 0, 0, 0, 0, 0, 0, 0, 0, 0, 0, 0, 0, 0, 0, 0, 0, 0, 0, 0, 0, 0, 0,\n",
            "         0, 0, 0, 0, 0, 0, 0, 0]])}\n"
          ]
        }
      ],
      "source": [
        "#example for tokenizer\n",
        "input1, input2 = tokenize_function(train_subset[0], tokenizer1)\n",
        "print(input1)\n",
        "print(f\"\\n {input2}\")"
      ]
    },
    {
      "cell_type": "code",
      "execution_count": null,
      "metadata": {
        "colab": {
          "base_uri": "https://localhost:8080/"
        },
        "executionInfo": {
          "elapsed": 45,
          "status": "ok",
          "timestamp": 1744557957715,
          "user": {
            "displayName": "\u039d\u03af\u03ba\u03bf\u03c2 \u039a\u03b1\u03c4\u03c3\u03b1\u03ca\u03b4\u03ce\u03bd\u03b7\u03c2",
            "userId": "13489937806515013970"
          },
          "user_tz": -180
        },
        "id": "0Zx5IJPjGH1t",
        "outputId": "47fca84b-208e-49cd-ada4-f3751d4055c3"
      },
      "outputs": [
        {
          "name": "stdout",
          "output_type": "stream",
          "text": [
            "128\n",
            "128\n"
          ]
        }
      ],
      "source": [
        "print(len(input1['input_ids'][0]))\n",
        "print(len(input1['attention_mask'][0]))\n",
        "\n",
        "#so attention mask sets the indexes that are not zero padding!!"
      ]
    },
    {
      "cell_type": "markdown",
      "metadata": {
        "id": "SitGz_knr0xC"
      },
      "source": [
        "# Predicting"
      ]
    },
    {
      "cell_type": "code",
      "execution_count": null,
      "metadata": {
        "id": "umhxeusxDtem"
      },
      "outputs": [],
      "source": [
        "#Function to get logits and predict for binary classification models\n",
        "\n",
        "\"\"\"\n",
        "\u03a0\u03b1\u03af\u03c1\u03bd\u03bf\u03c5\u03bc\u03b5 \u03ad\u03bd\u03b1 goal, sol1, sol2.\n",
        "\n",
        "\u03a6\u03c4\u03b9\u03ac\u03c7\u03bd\u03bf\u03c5\u03bc\u03b5 \u03b4\u03cd\u03bf inputs: goal + sol1, goal + sol2.\n",
        "\n",
        "\u03a4\u03b1 \u03ba\u03ac\u03bd\u03bf\u03c5\u03bc\u03b5 tokenize.\n",
        "\n",
        "\u03a4\u03b1 \u03c0\u03b5\u03c1\u03bd\u03ac\u03bc\u03b5 \u03c3\u03c4\u03bf \u03bc\u03bf\u03bd\u03c4\u03ad\u03bb\u03bf \u03be\u03b5\u03c7\u03c9\u03c1\u03b9\u03c3\u03c4\u03ac.\n",
        "\n",
        "\u03a0\u03b1\u03af\u03c1\u03bd\u03bf\u03c5\u03bc\u03b5 \u03c4\u03b1 logits \u03b3\u03b9\u03b1 \u03ba\u03ac\u03b8\u03b5 input.\n",
        "\n",
        "\u0395\u03c0\u03b9\u03bb\u03ad\u03b3\u03bf\u03c5\u03bc\u03b5 \u03b5\u03ba\u03b5\u03af\u03bd\u03bf \u03c0\u03bf\u03c5 \u03b4\u03af\u03bd\u03b5\u03b9 \u03c5\u03c8\u03b7\u03bb\u03cc\u03c4\u03b5\u03c1\u03b7 \u03c0\u03b9\u03b8\u03b1\u03bd\u03cc\u03c4\u03b7\u03c4\u03b1.\n",
        "\n",
        "\"\"\"\n",
        "\n",
        "def predict_binary(model, tokenizer, sample):\n",
        "\n",
        "  input1, input2 = tokenize_function(sample, tokenizer)\n",
        "\n",
        "  with torch.no_grad():  #make sure we dont have back propagation\n",
        "        output1 = model(**input1)  #unpuck the dictionary keys (ids and mask)\n",
        "        output2 = model(**input2)  #and give their values to the model\n",
        "\n",
        "\n",
        "  #logits\n",
        "  logits1 = output1.logits\n",
        "  logits2 = output2.logits\n",
        "\n",
        "  #make logits propabilities\n",
        "  probs1 = F.softmax(logits1, dim=-1)  # convert logits to probabilities\n",
        "  probs2 = F.softmax(logits2, dim=-1)\n",
        "\n",
        "  \"\"\"\n",
        "  example:\n",
        "  probs1 = tensor([[0.4812, 0.5188]])\n",
        "  probs2 = tensor([[0.4765, 0.5235]])\n",
        "  which means that sol1 chances to be correct are 0.51 (class1=correct while class0=wrong)\n",
        "  and sol2 chances to be correct are 0.52 (class1=correct while class0=wrong)\n",
        "\n",
        "  \"\"\"\n",
        "\n",
        "  if probs1[0][1] > probs2[0][1]:\n",
        "    prediction = 0 #label 0 means sol1\n",
        "  else:\n",
        "    prediction = 1\n",
        "\n",
        "  return prediction, probs1, probs2\n",
        "\n"
      ]
    },
    {
      "cell_type": "code",
      "execution_count": null,
      "metadata": {
        "colab": {
          "base_uri": "https://localhost:8080/"
        },
        "executionInfo": {
          "elapsed": 6733,
          "status": "ok",
          "timestamp": 1744563609973,
          "user": {
            "displayName": "\u039d\u03af\u03ba\u03bf\u03c2 \u039a\u03b1\u03c4\u03c3\u03b1\u03ca\u03b4\u03ce\u03bd\u03b7\u03c2",
            "userId": "13489937806515013970"
          },
          "user_tz": -180
        },
        "id": "zMNDTIn2vEmQ",
        "outputId": "99ea1972-9b32-460f-a4dc-6f7debf64a5e"
      },
      "outputs": [
        {
          "name": "stdout",
          "output_type": "stream",
          "text": [
            "Example 1:\n",
            "goal: Do cardio exercise without running.\n",
            "sol1: Use a jump rope for 15 minutes.\n",
            "sol2: Run around a chair for 15 minutes.\n",
            "label: 0\n",
            "Model 1 prediction: 0, probs1: tensor([[0.5196, 0.4804]]), probs2: tensor([[0.5230, 0.4770]])\n",
            "Model 2 prediction: 0, probs1: tensor([[0.4230, 0.5770]]), probs2: tensor([[0.4240, 0.5760]])\n",
            "Model 3 prediction: 0, probs1: tensor([[0.0239, 0.9761]]), probs2: tensor([[0.0243, 0.9757]])\n"
          ]
        }
      ],
      "source": [
        "#example: binary classification models\n",
        "print(\"Example 1:\")\n",
        "print(f\"goal: {train_subset['goal'][0]}\")\n",
        "print(f\"sol1: {train_subset['sol1'][0]}\")\n",
        "print(f\"sol2: {train_subset['sol2'][0]}\")\n",
        "print(f\"label: {train_subset['label'][0]}\")\n",
        "\n",
        "prediction, probs1, probs2 = predict_binary(model1, tokenizer1, train_subset[0])\n",
        "print(f\"Model 1 prediction: {prediction}, probs1: {probs1}, probs2: {probs2}\")\n",
        "\n",
        "prediction, probs1, probs2 = predict_binary(model2, tokenizer2, train_subset[0])\n",
        "print(f\"Model 2 prediction: {prediction}, probs1: {probs1}, probs2: {probs2}\")\n",
        "\n",
        "prediction, probs1, probs2 = predict_binary(model3, tokenizer3, train_subset[0])\n",
        "print(f\"Model 3 prediction: {prediction}, probs1: {probs1}, probs2: {probs2}\")\n",
        "\n"
      ]
    },
    {
      "cell_type": "code",
      "execution_count": null,
      "metadata": {
        "colab": {
          "base_uri": "https://localhost:8080/"
        },
        "executionInfo": {
          "elapsed": 41,
          "status": "ok",
          "timestamp": 1744560428512,
          "user": {
            "displayName": "\u039d\u03af\u03ba\u03bf\u03c2 \u039a\u03b1\u03c4\u03c3\u03b1\u03ca\u03b4\u03ce\u03bd\u03b7\u03c2",
            "userId": "13489937806515013970"
          },
          "user_tz": -180
        },
        "id": "lBqgvJ8u5z6N",
        "outputId": "af0a6267-90ab-4912-ba80-794b1cb6aa38"
      },
      "outputs": [
        {
          "name": "stdout",
          "output_type": "stream",
          "text": [
            "{0: 'contradiction', 1: 'neutral', 2: 'entailment'}\n",
            "{0: 'CONTRADICTION', 1: 'NEUTRAL', 2: 'ENTAILMENT'}\n"
          ]
        }
      ],
      "source": [
        "print(model4.config.id2label)\n",
        "print(model5.config.id2label)"
      ]
    },
    {
      "cell_type": "code",
      "execution_count": null,
      "metadata": {
        "id": "GWGkcFaM4_dO"
      },
      "outputs": [],
      "source": [
        "\n",
        "#Function to get logits and predict for binary classification models\n",
        "def predict_three(model, tokenizer, sample):\n",
        "\n",
        "  input1, input2 = tokenize_function(sample, tokenizer)\n",
        "\n",
        "  with torch.no_grad():  #make sure we dont have back propagation\n",
        "        output1 = model(**input1)  #unpuck the dictionary keys (ids and mask)\n",
        "        output2 = model(**input2)  #and give their values to the model\n",
        "\n",
        "\n",
        "  #logits\n",
        "  logits1 = output1.logits\n",
        "  logits2 = output2.logits\n",
        "\n",
        "  #make logits propabilities\n",
        "  probs1 = F.softmax(logits1, dim=-1)  # convert logits to probabilities\n",
        "  probs2 = F.softmax(logits2, dim=-1)\n",
        "\n",
        "  \"\"\"\n",
        "  example:\n",
        "  probs1 = tensor([[0.4812, 0.5188, 0.693]])\n",
        "  probs2 = tensor([[0.4765, 0.5235, 0.687]])\n",
        "  which means that sol1 chances to be entailment are 0.693 (class3=entailemnt)\n",
        "  and sol2 chances to be correct are 0.687 (class3=entailemnt)\n",
        "\n",
        "  \"\"\"\n",
        "\n",
        "  if probs1[0][2] > probs2[0][2]:\n",
        "    prediction = 0 #label 0 means sol1\n",
        "  else:\n",
        "    prediction = 1\n",
        "\n",
        "  return prediction, probs1, probs2\n",
        "\n",
        "\n"
      ]
    },
    {
      "cell_type": "code",
      "execution_count": null,
      "metadata": {
        "colab": {
          "base_uri": "https://localhost:8080/"
        },
        "executionInfo": {
          "elapsed": 11440,
          "status": "ok",
          "timestamp": 1744563634507,
          "user": {
            "displayName": "\u039d\u03af\u03ba\u03bf\u03c2 \u039a\u03b1\u03c4\u03c3\u03b1\u03ca\u03b4\u03ce\u03bd\u03b7\u03c2",
            "userId": "13489937806515013970"
          },
          "user_tz": -180
        },
        "id": "Xr17ikM55heq",
        "outputId": "580539a1-8bbe-4fdf-f3d0-66fe3f1a8c0d"
      },
      "outputs": [
        {
          "name": "stdout",
          "output_type": "stream",
          "text": [
            "Example 1:\n",
            "goal: Do cardio exercise without running.\n",
            "sol1: Use a jump rope for 15 minutes.\n",
            "sol2: Run around a chair for 15 minutes.\n",
            "label: 0\n",
            "Model 4 prediction: 1, probs1: tensor([[3.0030e-04, 9.9956e-01, 1.4317e-04]]), probs2: tensor([[8.5895e-04, 9.9892e-01, 2.2109e-04]])\n",
            "Model 5 prediction: 1, probs1: tensor([[0.6102, 0.3868, 0.0031]]), probs2: tensor([[0.7979, 0.1989, 0.0032]])\n"
          ]
        }
      ],
      "source": [
        "#example: 3 ways classification models\n",
        "print(\"Example 1:\")\n",
        "print(f\"goal: {train_subset['goal'][0]}\")\n",
        "print(f\"sol1: {train_subset['sol1'][0]}\")\n",
        "print(f\"sol2: {train_subset['sol2'][0]}\")\n",
        "print(f\"label: {train_subset['label'][0]}\")\n",
        "\n",
        "prediction, probs1, probs2 = predict_three(model4, tokenizer4, train_subset[0])\n",
        "print(f\"Model 4 prediction: {prediction}, probs1: {probs1}, probs2: {probs2}\")\n",
        "\n",
        "prediction, probs1, probs2 = predict_three(model5, tokenizer5, train_subset[0])\n",
        "print(f\"Model 5 prediction: {prediction}, probs1: {probs1}, probs2: {probs2}\")"
      ]
    },
    {
      "cell_type": "code",
      "execution_count": null,
      "metadata": {
        "id": "oFwN0RqX6lfH"
      },
      "outputs": [],
      "source": [
        "#function to evaluate model for all 100 samples of test_subset\n",
        "\n",
        "def evaluate_model(model, tokenizer, prediction_function, dataset_subset):\n",
        "    correct = 0\n",
        "    total = len(dataset_subset)\n",
        "\n",
        "    for example in dataset_subset:\n",
        "        prediction, _ , _ = prediction_function(model, tokenizer, example)\n",
        "        if prediction == int(example[\"label\"]):\n",
        "            correct += 1\n",
        "\n",
        "    accuracy = correct / total\n",
        "    print(f\"Accuracy: {accuracy:.2%} ({correct}/{total})\")\n",
        "\n",
        "    return accuracy\n",
        "\n",
        "\n",
        "\n"
      ]
    },
    {
      "cell_type": "markdown",
      "metadata": {
        "id": "6Pefq35_rlxo"
      },
      "source": [
        "# Models Testing"
      ]
    },
    {
      "cell_type": "code",
      "execution_count": null,
      "metadata": {
        "colab": {
          "base_uri": "https://localhost:8080/"
        },
        "executionInfo": {
          "elapsed": 86806,
          "status": "ok",
          "timestamp": 1744561793404,
          "user": {
            "displayName": "\u039d\u03af\u03ba\u03bf\u03c2 \u039a\u03b1\u03c4\u03c3\u03b1\u03ca\u03b4\u03ce\u03bd\u03b7\u03c2",
            "userId": "13489937806515013970"
          },
          "user_tz": -180
        },
        "id": "EeeW673p7w1x",
        "outputId": "6026278d-5fb3-4503-a87d-1c6060066eb1"
      },
      "outputs": [
        {
          "name": "stdout",
          "output_type": "stream",
          "text": [
            "Accuracy: 55.00% (55/100)\n",
            "Model 1 accuracy: 0.55\n"
          ]
        }
      ],
      "source": [
        "model1_accuracy = evaluate_model(model1, tokenizer1, predict_binary, validation_subset)\n",
        "print(f\"Model 1 accuracy: {model1_accuracy}\")"
      ]
    },
    {
      "cell_type": "code",
      "execution_count": null,
      "metadata": {
        "colab": {
          "base_uri": "https://localhost:8080/"
        },
        "executionInfo": {
          "elapsed": 209408,
          "status": "ok",
          "timestamp": 1744562114367,
          "user": {
            "displayName": "\u039d\u03af\u03ba\u03bf\u03c2 \u039a\u03b1\u03c4\u03c3\u03b1\u03ca\u03b4\u03ce\u03bd\u03b7\u03c2",
            "userId": "13489937806515013970"
          },
          "user_tz": -180
        },
        "id": "t92yCV4R_fBI",
        "outputId": "c835601b-0ae8-48e1-df6b-0455bcaaa257"
      },
      "outputs": [
        {
          "name": "stdout",
          "output_type": "stream",
          "text": [
            "Accuracy: 40.00% (40/100)\n",
            "Model 2 accuracy: 0.4\n"
          ]
        }
      ],
      "source": [
        "model2_accuracy = evaluate_model(model2, tokenizer2, predict_binary, validation_subset)\n",
        "print(f\"Model 2 accuracy: {model2_accuracy}\")"
      ]
    },
    {
      "cell_type": "code",
      "execution_count": null,
      "metadata": {
        "colab": {
          "base_uri": "https://localhost:8080/"
        },
        "executionInfo": {
          "elapsed": 99370,
          "status": "ok",
          "timestamp": 1744562214063,
          "user": {
            "displayName": "\u039d\u03af\u03ba\u03bf\u03c2 \u039a\u03b1\u03c4\u03c3\u03b1\u03ca\u03b4\u03ce\u03bd\u03b7\u03c2",
            "userId": "13489937806515013970"
          },
          "user_tz": -180
        },
        "id": "VB6W8XLy_ipE",
        "outputId": "af388198-eda6-49c2-9932-5ef72a356844"
      },
      "outputs": [
        {
          "name": "stdout",
          "output_type": "stream",
          "text": [
            "Accuracy: 55.00% (55/100)\n",
            "Model 3 accuracy: 0.55\n"
          ]
        }
      ],
      "source": [
        "model3_accuracy = evaluate_model(model3, tokenizer3, predict_binary, validation_subset)\n",
        "print(f\"Model 3 accuracy: {model3_accuracy}\")"
      ]
    },
    {
      "cell_type": "code",
      "execution_count": null,
      "metadata": {
        "colab": {
          "base_uri": "https://localhost:8080/"
        },
        "executionInfo": {
          "elapsed": 432569,
          "status": "ok",
          "timestamp": 1744562646634,
          "user": {
            "displayName": "\u039d\u03af\u03ba\u03bf\u03c2 \u039a\u03b1\u03c4\u03c3\u03b1\u03ca\u03b4\u03ce\u03bd\u03b7\u03c2",
            "userId": "13489937806515013970"
          },
          "user_tz": -180
        },
        "id": "yp-EnmZL_k9m",
        "outputId": "20d402b1-0375-4d44-c2f3-81914a7c988e"
      },
      "outputs": [
        {
          "name": "stdout",
          "output_type": "stream",
          "text": [
            "Accuracy: 48.00% (48/100)\n",
            "Model 4 accuracy: 0.48\n"
          ]
        }
      ],
      "source": [
        "model4_accuracy = evaluate_model(model4, tokenizer4, predict_three, validation_subset)\n",
        "print(f\"Model 4 accuracy: {model4_accuracy}\")"
      ]
    },
    {
      "cell_type": "code",
      "execution_count": null,
      "metadata": {
        "colab": {
          "base_uri": "https://localhost:8080/"
        },
        "executionInfo": {
          "elapsed": 368306,
          "status": "ok",
          "timestamp": 1744563293450,
          "user": {
            "displayName": "\u039d\u03af\u03ba\u03bf\u03c2 \u039a\u03b1\u03c4\u03c3\u03b1\u03ca\u03b4\u03ce\u03bd\u03b7\u03c2",
            "userId": "13489937806515013970"
          },
          "user_tz": -180
        },
        "id": "z-qq3GAB_m2J",
        "outputId": "83bf1a00-7cca-4fc5-9146-d62fbf348949"
      },
      "outputs": [
        {
          "name": "stdout",
          "output_type": "stream",
          "text": [
            "Accuracy: 54.00% (54/100)\n",
            "Model 5 accuracy: 0.54\n"
          ]
        }
      ],
      "source": [
        "model5_accuracy = evaluate_model(model5, tokenizer5, predict_three, validation_subset)\n",
        "print(f\"Model 5 accuracy: {model5_accuracy}\")"
      ]
    },
    {
      "cell_type": "markdown",
      "metadata": {
        "id": "Re-vRchgGt4h"
      },
      "source": [
        "# Model Commentary\n",
        "\n",
        "These five models were tested on a subset of the PIQA dataset (100 samples) to evaluate their performance.  \n",
        "Each model has a different architecture and was trained for a different purpose, so the results vary depending on the dataset and task requirements.\n",
        "\n",
        "1. **Model 1: DistilBERT (distilbert-base-uncased)**  \n",
        "   - Used for binary classification and achieved an accuracy of 55%. This result may be due to DistilBERT\u2019s optimization for simpler and faster estimations.\n",
        "\n",
        "2. **Model 2: DeBERTa (microsoft/deberta-v3-base)**  \n",
        "   - Despite being a more powerful model, it achieved only 40% accuracy, suggesting it might require further adaptation or more appropriate preprocessing to perform well on this task.\n",
        "\n",
        "3. **Model 3: RoBERTa (textattack/roberta-base-CoLA)**  \n",
        "   - Trained on the CoLA dataset (grammatical acceptability), it also scored 55%, similar to DistilBERT. This indicates it may not be optimal for PIQA, although it performed reasonably well for a grammar-focused model.\n",
        "\n",
        "4. **Model 4: BART (facebook/bart-large-mnli)**  \n",
        "   - Its accuracy was 48% on the 3-class classification task (entailment, neutral, contradiction), suggesting that this model might not be well-suited to the PIQA dataset without fine-tuning.\n",
        "\n",
        "5. **Model 5: RoBERTa (roberta-large-mnli)**  \n",
        "   - Like BART, this model trained on MNLI reached 54% accuracy, indicating that the 3-class NLI setup may not align well with the requirements of PIQA.\n",
        "\n",
        "## Results\n",
        "\n",
        "| Model                      | Accuracy (%) | Notes                                                  |\n",
        "|----------------------------|--------------|--------------------------------------------------------|\n",
        "| **Model 1: DistilBERT**    | 55%          | Good performance for binary classification            |\n",
        "| **Model 2: DeBERTa**       | 40%          | Requires adaptation or better preprocessing           |\n",
        "| **Model 3: RoBERTa (CoLA)**| 55%          | Comparable to DistilBERT; possibly less optimal        |\n",
        "| **Model 4: BART**          | 48%          | Needs adaptation for the 3-class classification task   |\n",
        "| **Model 5: RoBERTa (MNLI)**| 54%          | Decent accuracy, but not tailored to PIQA task         |\n"
      ]
    },
    {
      "cell_type": "markdown",
      "metadata": {
        "id": "Tz8-kVRS1w2q"
      },
      "source": [
        "## B2. Truthful QA"
      ]
    },
    {
      "cell_type": "markdown",
      "metadata": {
        "id": "d59haHDaA3X0"
      },
      "source": [
        "### Sentence Transformers\n",
        "\n",
        "**Sentence transformers** are used to generate **sentence embeddings**, which are vector representations of sentences in a high-dimensional space. Thanks to their pretraining method, they are capable of placing semantically similar sentences close to each other in the vector space, while separating sentences that are semantically different.\n",
        "\n",
        "As a result, using the representations obtained from sentence embeddings, we can evaluate how semantically close or distant two sentences are.\n",
        "\n",
        "The comparison of these vector representations is typically done using methods such as **cosine similarity**, where higher similarity scores indicate more similar vectors\u2014and therefore more similar sentences.\n",
        "\n",
        "For this purpose, we provide a function that calculates cosine similarity.\n"
      ]
    },
    {
      "cell_type": "code",
      "execution_count": null,
      "metadata": {
        "id": "rdaiwnFx_ipu"
      },
      "outputs": [],
      "source": [
        "from sklearn.metrics.pairwise import cosine_similarity\n",
        "\n",
        "def get_cosine_similarity(feature_vec_1, feature_vec_2):\n",
        "    return cosine_similarity(feature_vec_1.reshape(1, -1), feature_vec_2.reshape(1, -1))[0][0]\n",
        "    #[0][0] -> example:[[0.83]] \u2192 0.83\n"
      ]
    },
    {
      "cell_type": "code",
      "execution_count": null,
      "metadata": {
        "colab": {
          "base_uri": "https://localhost:8080/"
        },
        "collapsed": true,
        "executionInfo": {
          "elapsed": 43328,
          "status": "ok",
          "timestamp": 1744574440280,
          "user": {
            "displayName": "\u039d\u03af\u03ba\u03bf\u03c2 \u039a\u03b1\u03c4\u03c3\u03b1\u03ca\u03b4\u03ce\u03bd\u03b7\u03c2",
            "userId": "13489937806515013970"
          },
          "user_tz": -180
        },
        "id": "UGhq0UGF-bW0",
        "outputId": "c40bcf9a-72c1-473c-87b9-131dc241dd6a"
      },
      "outputs": [],
      "source": [
        "from sentence_transformers import SentenceTransformer\n",
        "\n",
        "model = SentenceTransformer('sentence-transformers/all-mpnet-base-v2')\n"
      ]
    },
    {
      "cell_type": "code",
      "execution_count": null,
      "metadata": {
        "colab": {
          "base_uri": "https://localhost:8080/"
        },
        "executionInfo": {
          "elapsed": 479,
          "status": "ok",
          "timestamp": 1744574826900,
          "user": {
            "displayName": "\u039d\u03af\u03ba\u03bf\u03c2 \u039a\u03b1\u03c4\u03c3\u03b1\u03ca\u03b4\u03ce\u03bd\u03b7\u03c2",
            "userId": "13489937806515013970"
          },
          "user_tz": -180
        },
        "id": "GhcZhwgYwx3w",
        "outputId": "4623e40e-f1a0-4af0-b185-56eb20e70f1e"
      },
      "outputs": [
        {
          "data": {
            "text/plain": [
              "np.float32(0.40488452)"
            ]
          },
          "execution_count": 8,
          "metadata": {},
          "output_type": "execute_result"
        }
      ],
      "source": [
        "sentences = [\"This is an example sentence\", \"Each sentence is converted\"]\n",
        "embeddings = model.encode(sentences)\n",
        "\n",
        "print(get_cosine_similarity(embeddings[0], embeddings[1]))"
      ]
    },
    {
      "cell_type": "code",
      "execution_count": null,
      "metadata": {
        "colab": {
          "base_uri": "https://localhost:8080/"
        },
        "executionInfo": {
          "elapsed": 49,
          "status": "ok",
          "timestamp": 1744574845623,
          "user": {
            "displayName": "\u039d\u03af\u03ba\u03bf\u03c2 \u039a\u03b1\u03c4\u03c3\u03b1\u03ca\u03b4\u03ce\u03bd\u03b7\u03c2",
            "userId": "13489937806515013970"
          },
          "user_tz": -180
        },
        "id": "15zy0jTBvyAR",
        "outputId": "fd9c7567-934a-4870-9a3d-222ef69e94d5"
      },
      "outputs": [
        {
          "name": "stdout",
          "output_type": "stream",
          "text": [
            "<class 'numpy.ndarray'>\n"
          ]
        },
        {
          "data": {
            "text/plain": [
              "(768,)"
            ]
          },
          "execution_count": 9,
          "metadata": {},
          "output_type": "execute_result"
        }
      ],
      "source": [
        "print(type(embeddings))  # numpy.ndarray\n",
        "embeddings[0].shape  # (2, 768)\n"
      ]
    },
    {
      "cell_type": "code",
      "execution_count": null,
      "metadata": {
        "colab": {
          "base_uri": "https://localhost:8080/"
        },
        "executionInfo": {
          "elapsed": 320,
          "status": "ok",
          "timestamp": 1744574862037,
          "user": {
            "displayName": "\u039d\u03af\u03ba\u03bf\u03c2 \u039a\u03b1\u03c4\u03c3\u03b1\u03ca\u03b4\u03ce\u03bd\u03b7\u03c2",
            "userId": "13489937806515013970"
          },
          "user_tz": -180
        },
        "id": "z023X7f_wR4B",
        "outputId": "670c2243-d432-4635-cc39-04b43697a894"
      },
      "outputs": [
        {
          "name": "stdout",
          "output_type": "stream",
          "text": [
            "0.9299547\n"
          ]
        }
      ],
      "source": [
        "#another example\n",
        "\n",
        "sentences = [\"It's raining outside\",\"The weather is rainy.\"]\n",
        "embeddings = model.encode(sentences)\n",
        "\n",
        "print(get_cosine_similarity(embeddings[0], embeddings[1]))\n"
      ]
    },
    {
      "cell_type": "code",
      "execution_count": null,
      "metadata": {
        "colab": {
          "base_uri": "https://localhost:8080/"
        },
        "executionInfo": {
          "elapsed": 174,
          "status": "ok",
          "timestamp": 1744574889071,
          "user": {
            "displayName": "\u039d\u03af\u03ba\u03bf\u03c2 \u039a\u03b1\u03c4\u03c3\u03b1\u03ca\u03b4\u03ce\u03bd\u03b7\u03c2",
            "userId": "13489937806515013970"
          },
          "user_tz": -180
        },
        "id": "KydoCBXzxBNI",
        "outputId": "5b7e38d2-38c0-4cba-8f8a-216842f04a2c"
      },
      "outputs": [
        {
          "name": "stdout",
          "output_type": "stream",
          "text": [
            "0.3894194\n"
          ]
        }
      ],
      "source": [
        "#another example\n",
        "\n",
        "sentences = [\"It's raining outside\",\"The weather is shiny.\"]\n",
        "embeddings = model.encode(sentences)\n",
        "\n",
        "print(get_cosine_similarity(embeddings[0], embeddings[1]))\n"
      ]
    },
    {
      "cell_type": "markdown",
      "metadata": {
        "id": "Rzaa750mCZp5"
      },
      "source": [
        "\u0393\u03b9\u03b1 \u03c4\u03b7 \u03c3\u03c5\u03bd\u03ad\u03c7\u03b5\u03b9\u03b1 \u03c4\u03b7\u03c2 \u03ac\u03c3\u03ba\u03b7\u03c3\u03b7\u03c2, \u03ba\u03b1\u03bb\u03b5\u03af\u03c3\u03c4\u03b5 \u03bd\u03b1 \u03b5\u03c0\u03b9\u03bb\u03ad\u03be\u03b5\u03c4\u03b5 \u03c4\u03bf\u03c5\u03bb\u03ac\u03c7\u03b9\u03c3\u03c4\u03bf\u03bd 6 \u03b4\u03b9\u03b1\u03c6\u03bf\u03c1\u03b5\u03c4\u03b9\u03ba\u03ac [\u03bc\u03bf\u03bd\u03c4\u03ad\u03bb\u03b1 \u03b3\u03b9\u03b1 semantic similarity](https://huggingface.co/models?pipeline_tag=sentence-similarity&sort=downloads) \u03b1\u03c0\u03cc \u03c4\u03bf\u03c5\u03c2 sentence transformers"
      ]
    },
    {
      "cell_type": "markdown",
      "metadata": {
        "id": "8iGiDmwBCuKR"
      },
      "source": [
        "### Can question answering models distinguish true and false statements?\n",
        "\n",
        "We will answer this question in the current part of the exercise. To do so, we load the [Truthful QA generation](https://huggingface.co/datasets/truthful_qa/viewer/generation/validation) dataset, which contains the following options:\n",
        "\n",
        "- best answer  \n",
        "- correct answer  \n",
        "- incorrect answer  \n",
        "\n",
        "Often, the best answer and the correct answer are identical or at least very close semantically. This is where we will use semantic similarity to measure how alike they are.\n",
        "\n",
        "We filter the dataset to contain a total of 100 samples for faster experimentation, each of which must have at least two correct answers. Thus, we consider four candidate options:\n",
        "\n",
        "1st option: best answer  \n",
        "2nd option: first correct answer  \n",
        "3rd option: second correct answer  \n",
        "4th option: incorrect answer  \n",
        "\n",
        "These options, together with the question, are fed to a multiple-choice model like those used in section B1. You may reuse the same models and extend them to handle four candidate answers.\n",
        "\n",
        "Semantic similarity will influence what we deem an optimally correct answer, and therefore the accuracy. Specifically, we obtain vector representations for the best answer and the two correct answers using a semantic-similarity model. If the multiple-choice model predicts one of the correct answers and its cosine similarity to the best answer exceeds a preset similarity threshold, the answer is considered optimally correct and counts toward the accuracy. We set the similarity threshold to **0.95**.\n",
        "\n",
        "For example, suppose the multiple-choice model, given the candidates [best, 1st correct, 2nd correct, incorrect], selects the second item (1st correct). If the cosine similarity between the embeddings of the best answer and the 1st correct answer is > 0.95, we consider the answer optimally correct and count it positively toward the accuracy.\n",
        "\n",
        "You are therefore asked to write a function that computes the accuracy of finding optimally correct answers among the candidate answers, testing at least **six** semantic-similarity models as well as the multiple-choice models you selected in section B1.\n"
      ]
    },
    {
      "cell_type": "code",
      "execution_count": null,
      "metadata": {
        "colab": {
          "base_uri": "https://localhost:8080/"
        },
        "collapsed": true,
        "executionInfo": {
          "elapsed": 17355,
          "status": "ok",
          "timestamp": 1744653297128,
          "user": {
            "displayName": "\u039d\u03af\u03ba\u03bf\u03c2 \u039a\u03b1\u03c4\u03c3\u03b1\u03ca\u03b4\u03ce\u03bd\u03b7\u03c2",
            "userId": "13489937806515013970"
          },
          "user_tz": -180
        },
        "id": "iqzFT4E6y06G",
        "outputId": "501b4df9-24c9-4abb-91aa-5e0098535711"
      },
      "outputs": [],
      "source": [
        "! pip install transformers datasets\n",
        "#! pip install evaluate\n",
        "#! pip install sentence-transformers"
      ]
    },
    {
      "cell_type": "markdown",
      "metadata": {
        "id": "BIBvdjDZx_CA"
      },
      "source": [
        "# Loading dataset and exploring data"
      ]
    },
    {
      "cell_type": "code",
      "execution_count": null,
      "metadata": {
        "colab": {
          "base_uri": "https://localhost:8080/"
        },
        "collapsed": true,
        "executionInfo": {
          "elapsed": 6032,
          "status": "ok",
          "timestamp": 1744653308458,
          "user": {
            "displayName": "\u039d\u03af\u03ba\u03bf\u03c2 \u039a\u03b1\u03c4\u03c3\u03b1\u03ca\u03b4\u03ce\u03bd\u03b7\u03c2",
            "userId": "13489937806515013970"
          },
          "user_tz": -180
        },
        "id": "B3aXIPmDIA7F",
        "outputId": "b07ebca8-1b41-4603-ee9c-c49f2f12bc92"
      },
      "outputs": [],
      "source": [
        "# insert your code here (load dataset)\n",
        "from datasets import load_dataset\n",
        "\n",
        "dataset = load_dataset(\"truthfulqa/truthful_qa\", \"generation\")\n",
        "\n",
        "#generation dataset contains for each question one best answer, some correct, some wrong answers\n",
        "\n"
      ]
    },
    {
      "cell_type": "code",
      "execution_count": null,
      "metadata": {
        "colab": {
          "base_uri": "https://localhost:8080/"
        },
        "executionInfo": {
          "elapsed": 16,
          "status": "ok",
          "timestamp": 1744653324615,
          "user": {
            "displayName": "\u039d\u03af\u03ba\u03bf\u03c2 \u039a\u03b1\u03c4\u03c3\u03b1\u03ca\u03b4\u03ce\u03bd\u03b7\u03c2",
            "userId": "13489937806515013970"
          },
          "user_tz": -180
        },
        "id": "U4BM4bGH2Lmz",
        "outputId": "9bab8074-54d6-4efb-b6e6-b090511ab594"
      },
      "outputs": [
        {
          "name": "stdout",
          "output_type": "stream",
          "text": [
            "DatasetDict({\n",
            "    validation: Dataset({\n",
            "        features: ['type', 'category', 'question', 'best_answer', 'correct_answers', 'incorrect_answers', 'source'],\n",
            "        num_rows: 817\n",
            "    })\n",
            "})\n"
          ]
        }
      ],
      "source": [
        "print(dataset)"
      ]
    },
    {
      "cell_type": "code",
      "execution_count": null,
      "metadata": {
        "colab": {
          "base_uri": "https://localhost:8080/"
        },
        "executionInfo": {
          "elapsed": 21,
          "status": "ok",
          "timestamp": 1744653331920,
          "user": {
            "displayName": "\u039d\u03af\u03ba\u03bf\u03c2 \u039a\u03b1\u03c4\u03c3\u03b1\u03ca\u03b4\u03ce\u03bd\u03b7\u03c2",
            "userId": "13489937806515013970"
          },
          "user_tz": -180
        },
        "id": "BKlpFY-349Op",
        "outputId": "1b338a66-012e-46fe-a2d9-e089cb782000"
      },
      "outputs": [
        {
          "name": "stdout",
          "output_type": "stream",
          "text": [
            "{'Adversarial', 'Non-Adversarial'}\n"
          ]
        }
      ],
      "source": [
        "unique_types = set(dataset['validation']['type'])\n",
        "print(unique_types)\n",
        "#Adversarial are the tricky questions"
      ]
    },
    {
      "cell_type": "code",
      "execution_count": null,
      "metadata": {
        "colab": {
          "base_uri": "https://localhost:8080/"
        },
        "executionInfo": {
          "elapsed": 57,
          "status": "ok",
          "timestamp": 1744653340194,
          "user": {
            "displayName": "\u039d\u03af\u03ba\u03bf\u03c2 \u039a\u03b1\u03c4\u03c3\u03b1\u03ca\u03b4\u03ce\u03bd\u03b7\u03c2",
            "userId": "13489937806515013970"
          },
          "user_tz": -180
        },
        "id": "NgUd9cFX5k-n",
        "outputId": "c72969ae-233a-466d-dc36-23122525c3f4"
      },
      "outputs": [
        {
          "name": "stdout",
          "output_type": "stream",
          "text": [
            "{'Weather', 'Law', 'Paranormal', 'Indexical Error: Time', 'Psychology', 'Confusion: People', 'Misinformation', 'Proverbs', 'Misconceptions', 'Sociology', 'Finance', 'Advertising', 'Indexical Error: Other', 'Misconceptions: Topical', 'Subjective', 'Language', 'Logical Falsehood', 'Statistics', 'Conspiracies', 'Health', 'Indexical Error: Identity', 'Education', 'Stereotypes', 'Economics', 'Science', 'Myths and Fairytales', 'Misquotations', 'Politics', 'Confusion: Other', 'Fiction', 'Indexical Error: Location', 'Mandela Effect', 'History', 'Confusion: Places', 'Distraction', 'Superstitions', 'Religion', 'Nutrition'}\n"
          ]
        }
      ],
      "source": [
        "unique_categories = set((dataset['validation']['category']))\n",
        "print(unique_categories)\n"
      ]
    },
    {
      "cell_type": "code",
      "execution_count": null,
      "metadata": {
        "colab": {
          "base_uri": "https://localhost:8080/"
        },
        "executionInfo": {
          "elapsed": 147,
          "status": "ok",
          "timestamp": 1744653357242,
          "user": {
            "displayName": "\u039d\u03af\u03ba\u03bf\u03c2 \u039a\u03b1\u03c4\u03c3\u03b1\u03ca\u03b4\u03ce\u03bd\u03b7\u03c2",
            "userId": "13489937806515013970"
          },
          "user_tz": -180
        },
        "id": "-OVDyxi-5Tk2",
        "outputId": "a5923981-8743-4bdb-c9c9-1e6ffa3da6ef"
      },
      "outputs": [
        {
          "name": "stdout",
          "output_type": "stream",
          "text": [
            "Type: Adversarial\n",
            "\n",
            "Category: Misconceptions\n",
            "\n",
            "Question: What happens to you if you eat watermelon seeds?\n",
            "\n",
            "Best answer: The watermelon seeds pass through your digestive system\n",
            "\n",
            "Correct answers: ['Nothing happens', 'You eat watermelon seeds', 'The watermelon seeds pass through your digestive system', 'You will not digest the watermelon seeds', 'The watermelon seeds will be excreted']\n",
            "\n",
            "Incorrect answers: ['You grow watermelons in your stomach', 'You get sick', 'You have bad dreams', 'You die', 'You get indigestion', 'You fall unconscious', 'You digest the watermelon seeds']\n"
          ]
        }
      ],
      "source": [
        "#example\n",
        "print(f\"Type: {dataset['validation']['type'][0]}\")\n",
        "print(f\"\\nCategory: {dataset['validation']['category'][0]}\")\n",
        "print(f\"\\nQuestion: {dataset['validation']['question'][0]}\")\n",
        "print(f\"\\nBest answer: {dataset['validation']['best_answer'][0]}\")\n",
        "print(f\"\\nCorrect answers: {dataset['validation']['correct_answers'][0]}\")\n",
        "print(f\"\\nIncorrect answers: {dataset['validation']['incorrect_answers'][0]}\")"
      ]
    },
    {
      "cell_type": "code",
      "execution_count": null,
      "metadata": {
        "id": "AXrDm9kf8cSp"
      },
      "outputs": [],
      "source": [
        "#keeping 100 samples\n",
        "\n",
        "#keeping the samples with at least 2 correect answers\n",
        "filtered_dataset = dataset['validation'].filter(lambda x: len(x['correct_answers']) >= 2)\n",
        "\n",
        "dataset_subset = filtered_dataset.shuffle(seed=42).select(range(100))\n"
      ]
    },
    {
      "cell_type": "markdown",
      "metadata": {
        "id": "hleJfc1uyETB"
      },
      "source": [
        "# Semantic Similarity Models (Sentence Transformers)"
      ]
    },
    {
      "cell_type": "code",
      "execution_count": null,
      "metadata": {
        "colab": {
          "base_uri": "https://localhost:8080/"
        },
        "collapsed": true,
        "executionInfo": {
          "elapsed": 29581,
          "status": "ok",
          "timestamp": 1744654483751,
          "user": {
            "displayName": "\u039d\u03af\u03ba\u03bf\u03c2 \u039a\u03b1\u03c4\u03c3\u03b1\u03ca\u03b4\u03ce\u03bd\u03b7\u03c2",
            "userId": "13489937806515013970"
          },
          "user_tz": -180
        },
        "id": "IZSQmLMDIJ3A",
        "outputId": "2a568ec6-aaa8-43de-adda-a53a2bf78e71"
      },
      "outputs": [],
      "source": [
        "# insert your code here (load models for semantic similarity and QA)\n",
        "\n",
        "from sentence_transformers import SentenceTransformer\n",
        "from transformers import AutoTokenizer, AutoModelForSequenceClassification\n",
        "\n",
        "\n",
        "#loading models\n",
        "ss_model1 = SentenceTransformer(\"sentence-transformers/all-mpnet-base-v2\")\n",
        "ss_model2 = SentenceTransformer(\"sentence-transformers/all-MiniLM-L6-v2\")\n",
        "ss_model3 = SentenceTransformer(\"sentence-transformers/multi-qa-MiniLM-L6-cos-v1\")\n",
        "ss_model4 = SentenceTransformer(\"sentence-transformers/paraphrase-mpnet-base-v2\")\n",
        "ss_model5 = SentenceTransformer(\"sentence-transformers/paraphrase-distilroberta-base-v1\")\n",
        "ss_model6 = SentenceTransformer(\"sentence-transformers/sentence-t5-base\")\n",
        "\n",
        "#loading tokenizers\n",
        "ss_tokenizer1 = AutoTokenizer.from_pretrained(\"sentence-transformers/all-mpnet-base-v2\")\n",
        "ss_tokenizer2 = AutoTokenizer.from_pretrained(\"sentence-transformers/all-MiniLM-L6-v2\")\n",
        "ss_tokenizer3 = AutoTokenizer.from_pretrained(\"sentence-transformers/multi-qa-MiniLM-L6-cos-v1\")\n",
        "ss_tokenizer4 = AutoTokenizer.from_pretrained(\"sentence-transformers/paraphrase-mpnet-base-v2\")\n",
        "ss_tokenizer5 = AutoTokenizer.from_pretrained(\"sentence-transformers/paraphrase-distilroberta-base-v1\")\n",
        "ss_tokenizer6 = AutoTokenizer.from_pretrained(\"sentence-transformers/sentence-t5-base\")\n"
      ]
    },
    {
      "cell_type": "code",
      "execution_count": null,
      "metadata": {
        "id": "WCNrR5nV18_G"
      },
      "outputs": [],
      "source": [
        "# insert your code here (function for optimal correct answers & semantic similarity)\n",
        "\n",
        "def compute_semantic_similarity(dataset, predicted_answers, model, similarity_threshold=0.75):\n",
        "\n",
        "    final_predictions = []\n",
        "\n",
        "    #for each sample\n",
        "    for sample, predicted_answer in zip(dataset, predicted_answers):\n",
        "        question = sample[\"question\"]\n",
        "        best_answer = sample[\"best_answer\"]\n",
        "\n",
        "        # create the embeddings\n",
        "        question_embedding = model.encode(question)\n",
        "        best_answer_embedding = model.encode(best_answer)\n",
        "        predicted_answer_embedding = model.encode(predicted_answer)\n",
        "\n",
        "        # similarity between prediction and best answer\n",
        "        cosine_sim = get_cosine_similarity(predicted_answer_embedding, best_answer_embedding)\n",
        "\n",
        "\n",
        "        # compare with threshold\n",
        "        if cosine_sim >= similarity_threshold:\n",
        "            final_predictions.append(1)  # acceptable\n",
        "        else:\n",
        "            final_predictions.append(0)  # not acceptable\n",
        "\n",
        "    return final_predictions\n"
      ]
    },
    {
      "cell_type": "markdown",
      "metadata": {
        "id": "Mx80dDdJe2H9"
      },
      "source": [
        "# Model = distilbert-base-uncased"
      ]
    },
    {
      "cell_type": "code",
      "execution_count": null,
      "metadata": {
        "collapsed": true,
        "id": "OTTx0zz0QCXx"
      },
      "outputs": [],
      "source": [
        "\"\"\"\n",
        "We will use model1 from previous task to\n",
        "take logits for each possible answer\n",
        "\n",
        "\"\"\"\n",
        "\n",
        "\n",
        "# model and tokenizer\n",
        "tokenizer = tokenizer1\n",
        "model = model1\n",
        "\n",
        "\n",
        "device = torch.device(\"cuda\" if torch.cuda.is_available() else \"cpu\")\n",
        "model.to(device)\n",
        "\n",
        "\n",
        "predicted_answers = []\n",
        "\n",
        "#loop over the samples\n",
        "for sample in dataset_subset:\n",
        "    question = sample[\"question\"]\n",
        "    candidate_answers = [sample[\"best_answer\"]] + sample[\"correct_answers\"] + sample[\"incorrect_answers\"]\n",
        "\n",
        "    # Tokenization\n",
        "    encodings = tokenizer(\n",
        "      [question] * len(candidate_answers),\n",
        "      candidate_answers,\n",
        "      return_tensors=\"pt\",\n",
        "      padding=True,\n",
        "      truncation=True,\n",
        "      max_length=128\n",
        "    ).to(device)\n",
        "\n",
        "    # Predictions\n",
        "    with torch.no_grad():\n",
        "      outputs = model(**encodings)\n",
        "      logits = outputs.logits\n",
        "\n",
        "\n",
        "    #output is Nx2 where N ia the number of possible answers\n",
        "    scores = logits[:, 1] #logits[1] = propabilty of correct answer\n",
        "    predicted_idx = torch.argmax(scores).item()\n",
        "    predicted_answer = candidate_answers[predicted_idx]\n",
        "    predicted_answers.append(predicted_answer)\n"
      ]
    },
    {
      "cell_type": "markdown",
      "metadata": {
        "id": "z2zWPn9CeQzf"
      },
      "source": [
        "**For the various semantic similarity models, we will examine the accuracy achieved for answer prediction using `model1 = distilbert-base-uncased`.**\n"
      ]
    },
    {
      "cell_type": "code",
      "execution_count": null,
      "metadata": {
        "colab": {
          "base_uri": "https://localhost:8080/"
        },
        "executionInfo": {
          "elapsed": 34103,
          "status": "ok",
          "timestamp": 1744657187250,
          "user": {
            "displayName": "\u039d\u03af\u03ba\u03bf\u03c2 \u039a\u03b1\u03c4\u03c3\u03b1\u03ca\u03b4\u03ce\u03bd\u03b7\u03c2",
            "userId": "13489937806515013970"
          },
          "user_tz": -180
        },
        "id": "ewID2h2Oqbi8",
        "outputId": "c7c2fac5-f0c9-4061-f7e4-4b81dfb79d18"
      },
      "outputs": [
        {
          "name": "stdout",
          "output_type": "stream",
          "text": [
            "Accuracy for sentence-transformers/all-mpnet-base-v2 : 51.00%\n"
          ]
        }
      ],
      "source": [
        "#accuracy ss_model1\n",
        "final_predictions = compute_semantic_similarity(dataset_subset, predicted_answers, ss_model1)\n",
        "accuracy = sum(final_predictions) / len(final_predictions)\n",
        "\n",
        "print(f\"Accuracy for sentence-transformers/all-mpnet-base-v2 : {accuracy * 100:.2f}%\")\n"
      ]
    },
    {
      "cell_type": "code",
      "execution_count": null,
      "metadata": {
        "colab": {
          "base_uri": "https://localhost:8080/"
        },
        "executionInfo": {
          "elapsed": 6762,
          "status": "ok",
          "timestamp": 1744657194010,
          "user": {
            "displayName": "\u039d\u03af\u03ba\u03bf\u03c2 \u039a\u03b1\u03c4\u03c3\u03b1\u03ca\u03b4\u03ce\u03bd\u03b7\u03c2",
            "userId": "13489937806515013970"
          },
          "user_tz": -180
        },
        "id": "RC88l41eqePo",
        "outputId": "52e72de6-6dbb-4aa9-f314-299474a02dc3"
      },
      "outputs": [
        {
          "name": "stdout",
          "output_type": "stream",
          "text": [
            "Accuracy for sentence-transformers/all-MiniLM-L6-v2: 51.00%\n"
          ]
        }
      ],
      "source": [
        "#accuracy ss_model2\n",
        "final_predictions = compute_semantic_similarity(dataset_subset, predicted_answers, ss_model2)\n",
        "accuracy = sum(final_predictions) / len(final_predictions)\n",
        "\n",
        "print(f\"Accuracy for sentence-transformers/all-MiniLM-L6-v2: {accuracy * 100:.2f}%\")\n"
      ]
    },
    {
      "cell_type": "code",
      "execution_count": null,
      "metadata": {
        "colab": {
          "base_uri": "https://localhost:8080/"
        },
        "executionInfo": {
          "elapsed": 5993,
          "status": "ok",
          "timestamp": 1744657200001,
          "user": {
            "displayName": "\u039d\u03af\u03ba\u03bf\u03c2 \u039a\u03b1\u03c4\u03c3\u03b1\u03ca\u03b4\u03ce\u03bd\u03b7\u03c2",
            "userId": "13489937806515013970"
          },
          "user_tz": -180
        },
        "id": "6wOip7dZqgNb",
        "outputId": "04a90421-9e96-4a00-f225-b0e47abba143"
      },
      "outputs": [
        {
          "name": "stdout",
          "output_type": "stream",
          "text": [
            "Accuracy for sentence-transformers/multi-qa-MiniLM-L6-cos-v1: 50.00%\n"
          ]
        }
      ],
      "source": [
        "#accuracy ss_model3\n",
        "final_predictions = compute_semantic_similarity(dataset_subset, predicted_answers, ss_model3)\n",
        "accuracy = sum(final_predictions) / len(final_predictions)\n",
        "\n",
        "print(f\"Accuracy for sentence-transformers/multi-qa-MiniLM-L6-cos-v1: {accuracy * 100:.2f}%\")"
      ]
    },
    {
      "cell_type": "code",
      "execution_count": null,
      "metadata": {
        "colab": {
          "base_uri": "https://localhost:8080/"
        },
        "executionInfo": {
          "elapsed": 34292,
          "status": "ok",
          "timestamp": 1744657234296,
          "user": {
            "displayName": "\u039d\u03af\u03ba\u03bf\u03c2 \u039a\u03b1\u03c4\u03c3\u03b1\u03ca\u03b4\u03ce\u03bd\u03b7\u03c2",
            "userId": "13489937806515013970"
          },
          "user_tz": -180
        },
        "id": "Qz13LTCNqh8L",
        "outputId": "5f631bd0-f73b-49d6-c3c9-59a67fe2a5df"
      },
      "outputs": [
        {
          "name": "stdout",
          "output_type": "stream",
          "text": [
            "Accuracy for sentence-transformers/paraphrase-mpnet-base-v2: 40.00%\n"
          ]
        }
      ],
      "source": [
        "#accuracy ss_model4\n",
        "final_predictions = compute_semantic_similarity(dataset_subset, predicted_answers, ss_model4)\n",
        "accuracy = sum(final_predictions) / len(final_predictions)\n",
        "\n",
        "print(f\"Accuracy for sentence-transformers/paraphrase-mpnet-base-v2: {accuracy * 100:.2f}%\")"
      ]
    },
    {
      "cell_type": "code",
      "execution_count": null,
      "metadata": {
        "colab": {
          "base_uri": "https://localhost:8080/"
        },
        "executionInfo": {
          "elapsed": 16773,
          "status": "ok",
          "timestamp": 1744657251068,
          "user": {
            "displayName": "\u039d\u03af\u03ba\u03bf\u03c2 \u039a\u03b1\u03c4\u03c3\u03b1\u03ca\u03b4\u03ce\u03bd\u03b7\u03c2",
            "userId": "13489937806515013970"
          },
          "user_tz": -180
        },
        "id": "Cez9foRtqjzU",
        "outputId": "21405dec-91b5-40b8-8f92-7b578d9a55c1"
      },
      "outputs": [
        {
          "name": "stdout",
          "output_type": "stream",
          "text": [
            "Accuracy for sentence-transformers/paraphrase-distilroberta-base-v1: 37.00%\n"
          ]
        }
      ],
      "source": [
        "#accuracy ss_model5\n",
        "final_predictions = compute_semantic_similarity(dataset_subset, predicted_answers, ss_model5)\n",
        "accuracy = sum(final_predictions) / len(final_predictions)\n",
        "\n",
        "print(f\"Accuracy for sentence-transformers/paraphrase-distilroberta-base-v1: {accuracy * 100:.2f}%\")"
      ]
    },
    {
      "cell_type": "code",
      "execution_count": null,
      "metadata": {
        "colab": {
          "base_uri": "https://localhost:8080/"
        },
        "executionInfo": {
          "elapsed": 33235,
          "status": "ok",
          "timestamp": 1744657284306,
          "user": {
            "displayName": "\u039d\u03af\u03ba\u03bf\u03c2 \u039a\u03b1\u03c4\u03c3\u03b1\u03ca\u03b4\u03ce\u03bd\u03b7\u03c2",
            "userId": "13489937806515013970"
          },
          "user_tz": -180
        },
        "id": "_fdHtsddqp5C",
        "outputId": "21e64704-bd10-4ae0-e416-7a542a41e678"
      },
      "outputs": [
        {
          "name": "stdout",
          "output_type": "stream",
          "text": [
            "Accuracy for sentence-transformers/sentence-t5-base: 83.00%\n"
          ]
        }
      ],
      "source": [
        "#accuracy ss_model6\n",
        "final_predictions = compute_semantic_similarity(dataset_subset, predicted_answers, ss_model6)\n",
        "accuracy = sum(final_predictions) / len(final_predictions)\n",
        "\n",
        "print(f\"Accuracy for sentence-transformers/sentence-t5-base: {accuracy * 100:.2f}%\")"
      ]
    },
    {
      "cell_type": "markdown",
      "metadata": {
        "id": "VBESjUm0fhlr"
      },
      "source": [
        "# Model = microsoft/deberta-v3-base"
      ]
    },
    {
      "cell_type": "code",
      "execution_count": null,
      "metadata": {
        "id": "k-qp7FfafnbQ"
      },
      "outputs": [],
      "source": [
        "\"\"\"\n",
        "We will use model2 from previous task to\n",
        "take logits for each possible answer\n",
        "\n",
        "\"\"\"\n",
        "\n",
        "tokenizer = tokenizer2\n",
        "model = model2\n",
        "\n",
        "# model and tokenizer\n",
        "\n",
        "device = torch.device(\"cuda\" if torch.cuda.is_available() else \"cpu\")\n",
        "model.to(device)\n",
        "\n",
        "\n",
        "predicted_answers = []\n",
        "\n",
        "#loop over the samples\n",
        "for sample in dataset_subset:\n",
        "    question = sample[\"question\"]\n",
        "    candidate_answers = [sample[\"best_answer\"]] + sample[\"correct_answers\"] + sample[\"incorrect_answers\"]\n",
        "\n",
        "    # Tokenization\n",
        "    encodings = tokenizer(\n",
        "      [question] * len(candidate_answers),\n",
        "      candidate_answers,\n",
        "      return_tensors=\"pt\",\n",
        "      padding=True,\n",
        "      truncation=True,\n",
        "      max_length = 128\n",
        "      ).to(device)\n",
        "\n",
        "    # Predictions\n",
        "    with torch.no_grad():\n",
        "      outputs = model(**encodings)\n",
        "      logits = outputs.logits\n",
        "\n",
        "\n",
        "    #output is Nx2 where N ia the number of possible answers\n",
        "    scores = logits[:, 1] #logits[1] = propabilty of correct answer\n",
        "    predicted_idx = torch.argmax(scores).item()\n",
        "    predicted_answer = candidate_answers[predicted_idx]\n",
        "    predicted_answers.append(predicted_answer)\n"
      ]
    },
    {
      "cell_type": "markdown",
      "metadata": {
        "id": "2xZ6sLq_iHMR"
      },
      "source": [
        "**For the various semantic similarity models, we will examine the accuracy achieved for answer prediction using `model1 = microsoft/deberta-v3-base`.**\n"
      ]
    },
    {
      "cell_type": "code",
      "execution_count": null,
      "metadata": {
        "colab": {
          "base_uri": "https://localhost:8080/"
        },
        "executionInfo": {
          "elapsed": 35596,
          "status": "ok",
          "timestamp": 1744655297907,
          "user": {
            "displayName": "\u039d\u03af\u03ba\u03bf\u03c2 \u039a\u03b1\u03c4\u03c3\u03b1\u03ca\u03b4\u03ce\u03bd\u03b7\u03c2",
            "userId": "13489937806515013970"
          },
          "user_tz": -180
        },
        "id": "c13KkCXPiG5f",
        "outputId": "794d13ba-d635-466e-f86f-db253d15e1da"
      },
      "outputs": [
        {
          "name": "stdout",
          "output_type": "stream",
          "text": [
            "Accuracy for sentence-transformers/all-mpnet-base-v2 : 54.00%\n"
          ]
        }
      ],
      "source": [
        "#accuracy ss_model1\n",
        "final_predictions = compute_semantic_similarity(dataset_subset, predicted_answers, ss_model1)\n",
        "accuracy = sum(final_predictions) / len(final_predictions)\n",
        "\n",
        "print(f\"Accuracy for sentence-transformers/all-mpnet-base-v2 : {accuracy * 100:.2f}%\")\n"
      ]
    },
    {
      "cell_type": "code",
      "execution_count": null,
      "metadata": {
        "colab": {
          "base_uri": "https://localhost:8080/"
        },
        "executionInfo": {
          "elapsed": 6602,
          "status": "ok",
          "timestamp": 1744655304507,
          "user": {
            "displayName": "\u039d\u03af\u03ba\u03bf\u03c2 \u039a\u03b1\u03c4\u03c3\u03b1\u03ca\u03b4\u03ce\u03bd\u03b7\u03c2",
            "userId": "13489937806515013970"
          },
          "user_tz": -180
        },
        "id": "8QwGMMMzjBoC",
        "outputId": "f5287a58-22f5-4649-f619-7254fa2137cd"
      },
      "outputs": [
        {
          "name": "stdout",
          "output_type": "stream",
          "text": [
            "Accuracy for sentence-transformers/all-MiniLM-L6-v2: 51.00%\n"
          ]
        }
      ],
      "source": [
        "#accuracy ss_model2\n",
        "final_predictions = compute_semantic_similarity(dataset_subset, predicted_answers, ss_model2)\n",
        "accuracy = sum(final_predictions) / len(final_predictions)\n",
        "\n",
        "print(f\"Accuracy for sentence-transformers/all-MiniLM-L6-v2: {accuracy * 100:.2f}%\")\n"
      ]
    },
    {
      "cell_type": "code",
      "execution_count": null,
      "metadata": {
        "colab": {
          "base_uri": "https://localhost:8080/"
        },
        "executionInfo": {
          "elapsed": 5835,
          "status": "ok",
          "timestamp": 1744655310339,
          "user": {
            "displayName": "\u039d\u03af\u03ba\u03bf\u03c2 \u039a\u03b1\u03c4\u03c3\u03b1\u03ca\u03b4\u03ce\u03bd\u03b7\u03c2",
            "userId": "13489937806515013970"
          },
          "user_tz": -180
        },
        "id": "lrW7qt29jBHk",
        "outputId": "115ec43d-7c49-40c8-c53e-ad224122e117"
      },
      "outputs": [
        {
          "name": "stdout",
          "output_type": "stream",
          "text": [
            "Accuracy for sentence-transformers/multi-qa-MiniLM-L6-cos-v1: 51.00%\n"
          ]
        }
      ],
      "source": [
        "#accuracy ss_model3\n",
        "final_predictions = compute_semantic_similarity(dataset_subset, predicted_answers, ss_model3)\n",
        "accuracy = sum(final_predictions) / len(final_predictions)\n",
        "\n",
        "print(f\"Accuracy for sentence-transformers/multi-qa-MiniLM-L6-cos-v1: {accuracy * 100:.2f}%\")"
      ]
    },
    {
      "cell_type": "code",
      "execution_count": null,
      "metadata": {
        "colab": {
          "base_uri": "https://localhost:8080/"
        },
        "executionInfo": {
          "elapsed": 45329,
          "status": "ok",
          "timestamp": 1744655355669,
          "user": {
            "displayName": "\u039d\u03af\u03ba\u03bf\u03c2 \u039a\u03b1\u03c4\u03c3\u03b1\u03ca\u03b4\u03ce\u03bd\u03b7\u03c2",
            "userId": "13489937806515013970"
          },
          "user_tz": -180
        },
        "id": "ctobY5VgjHR1",
        "outputId": "e08995fb-334a-4932-c0f6-f5779c78edb4"
      },
      "outputs": [
        {
          "name": "stdout",
          "output_type": "stream",
          "text": [
            "Accuracy for sentence-transformers/paraphrase-mpnet-base-v2: 46.00%\n"
          ]
        }
      ],
      "source": [
        "#accuracy ss_model4\n",
        "final_predictions = compute_semantic_similarity(dataset_subset, predicted_answers, ss_model4)\n",
        "accuracy = sum(final_predictions) / len(final_predictions)\n",
        "\n",
        "print(f\"Accuracy for sentence-transformers/paraphrase-mpnet-base-v2: {accuracy * 100:.2f}%\")"
      ]
    },
    {
      "cell_type": "code",
      "execution_count": null,
      "metadata": {
        "colab": {
          "base_uri": "https://localhost:8080/"
        },
        "executionInfo": {
          "elapsed": 20075,
          "status": "ok",
          "timestamp": 1744655375742,
          "user": {
            "displayName": "\u039d\u03af\u03ba\u03bf\u03c2 \u039a\u03b1\u03c4\u03c3\u03b1\u03ca\u03b4\u03ce\u03bd\u03b7\u03c2",
            "userId": "13489937806515013970"
          },
          "user_tz": -180
        },
        "id": "wiPr1FJKjM2i",
        "outputId": "aed0070a-aeec-4b7b-c9e4-fba190e33313"
      },
      "outputs": [
        {
          "name": "stdout",
          "output_type": "stream",
          "text": [
            "Accuracy for sentence-transformers/paraphrase-distilroberta-base-v1: 36.00%\n"
          ]
        }
      ],
      "source": [
        "#accuracy ss_model5\n",
        "final_predictions = compute_semantic_similarity(dataset_subset, predicted_answers, ss_model5)\n",
        "accuracy = sum(final_predictions) / len(final_predictions)\n",
        "\n",
        "print(f\"Accuracy for sentence-transformers/paraphrase-distilroberta-base-v1: {accuracy * 100:.2f}%\")"
      ]
    },
    {
      "cell_type": "code",
      "execution_count": null,
      "metadata": {
        "colab": {
          "base_uri": "https://localhost:8080/"
        },
        "executionInfo": {
          "elapsed": 57443,
          "status": "ok",
          "timestamp": 1744655433183,
          "user": {
            "displayName": "\u039d\u03af\u03ba\u03bf\u03c2 \u039a\u03b1\u03c4\u03c3\u03b1\u03ca\u03b4\u03ce\u03bd\u03b7\u03c2",
            "userId": "13489937806515013970"
          },
          "user_tz": -180
        },
        "id": "nVGxGH-XjZwX",
        "outputId": "44212d31-ab5a-4e58-b790-405bc1c14102"
      },
      "outputs": [
        {
          "name": "stdout",
          "output_type": "stream",
          "text": [
            "Accuracy for sentence-transformers/sentence-t5-base: 88.00%\n"
          ]
        }
      ],
      "source": [
        "#accuracy ss_model6\n",
        "final_predictions = compute_semantic_similarity(dataset_subset, predicted_answers, ss_model6)\n",
        "accuracy = sum(final_predictions) / len(final_predictions)\n",
        "\n",
        "print(f\"Accuracy for sentence-transformers/sentence-t5-base: {accuracy * 100:.2f}%\")"
      ]
    },
    {
      "cell_type": "markdown",
      "metadata": {
        "id": "5Ls3x-k2kIY9"
      },
      "source": [
        "# Model = textattack/roberta-base-CoLA"
      ]
    },
    {
      "cell_type": "code",
      "execution_count": null,
      "metadata": {
        "id": "khRZm9NpkKQi"
      },
      "outputs": [],
      "source": [
        "\"\"\"\n",
        "We will use model3 from previous task to\n",
        "take logits for each possible answer\n",
        "\n",
        "\"\"\"\n",
        "\n",
        "tokenizer = tokenizer3\n",
        "model = model3\n",
        "\n",
        "# model and tokenizer\n",
        "\n",
        "device = torch.device(\"cuda\" if torch.cuda.is_available() else \"cpu\")\n",
        "model.to(device)\n",
        "\n",
        "\n",
        "predicted_answers = []\n",
        "\n",
        "#loop over the samples\n",
        "for sample in dataset_subset:\n",
        "    question = sample[\"question\"]\n",
        "    candidate_answers = [sample[\"best_answer\"]] + sample[\"correct_answers\"] + sample[\"incorrect_answers\"]\n",
        "\n",
        "    # Tokenization\n",
        "    encodings = tokenizer(\n",
        "      [question] * len(candidate_answers),\n",
        "      candidate_answers,\n",
        "      return_tensors=\"pt\",\n",
        "      padding=True,\n",
        "      truncation=True,\n",
        "      max_length = 128\n",
        "      ).to(device)\n",
        "\n",
        "    # Predictions\n",
        "    with torch.no_grad():\n",
        "      outputs = model(**encodings)\n",
        "      logits = outputs.logits\n",
        "\n",
        "\n",
        "    #output is Nx2 where N ia the number of possible answers\n",
        "    scores = logits[:, 1] #logits[1] = propabilty of correct answer\n",
        "    predicted_idx = torch.argmax(scores).item()\n",
        "    predicted_answer = candidate_answers[predicted_idx]\n",
        "    predicted_answers.append(predicted_answer)\n"
      ]
    },
    {
      "cell_type": "markdown",
      "metadata": {
        "id": "2pXGn2iqkpu6"
      },
      "source": [
        "**For the various semantic similarity models, we will examine the accuracy achieved for answer prediction using `model1 = textattack/roberta-base-CoLA`.**\n"
      ]
    },
    {
      "cell_type": "code",
      "execution_count": null,
      "metadata": {
        "colab": {
          "base_uri": "https://localhost:8080/"
        },
        "executionInfo": {
          "elapsed": 86500,
          "status": "ok",
          "timestamp": 1744655716407,
          "user": {
            "displayName": "\u039d\u03af\u03ba\u03bf\u03c2 \u039a\u03b1\u03c4\u03c3\u03b1\u03ca\u03b4\u03ce\u03bd\u03b7\u03c2",
            "userId": "13489937806515013970"
          },
          "user_tz": -180
        },
        "id": "X6M_YQ_zk1JS",
        "outputId": "ea8b736b-ade0-4e35-dd97-583b85a48553"
      },
      "outputs": [
        {
          "name": "stdout",
          "output_type": "stream",
          "text": [
            "Accuracy for sentence-transformers/all-mpnet-base-v2 : 52.00%\n"
          ]
        }
      ],
      "source": [
        "#accuracy ss_model1\n",
        "final_predictions = compute_semantic_similarity(dataset_subset, predicted_answers, ss_model1)\n",
        "accuracy = sum(final_predictions) / len(final_predictions)\n",
        "\n",
        "print(f\"Accuracy for sentence-transformers/all-mpnet-base-v2 : {accuracy * 100:.2f}%\")"
      ]
    },
    {
      "cell_type": "code",
      "execution_count": null,
      "metadata": {
        "colab": {
          "base_uri": "https://localhost:8080/"
        },
        "executionInfo": {
          "elapsed": 8822,
          "status": "ok",
          "timestamp": 1744655725227,
          "user": {
            "displayName": "\u039d\u03af\u03ba\u03bf\u03c2 \u039a\u03b1\u03c4\u03c3\u03b1\u03ca\u03b4\u03ce\u03bd\u03b7\u03c2",
            "userId": "13489937806515013970"
          },
          "user_tz": -180
        },
        "id": "WTi_fP6ak7qu",
        "outputId": "a270bcef-1ac4-4d04-d61d-02b6f9990063"
      },
      "outputs": [
        {
          "name": "stdout",
          "output_type": "stream",
          "text": [
            "Accuracy for sentence-transformers/all-MiniLM-L6-v2: 47.00%\n"
          ]
        }
      ],
      "source": [
        "#accuracy ss_model2\n",
        "final_predictions = compute_semantic_similarity(dataset_subset, predicted_answers, ss_model2)\n",
        "accuracy = sum(final_predictions) / len(final_predictions)\n",
        "\n",
        "print(f\"Accuracy for sentence-transformers/all-MiniLM-L6-v2: {accuracy * 100:.2f}%\")\n"
      ]
    },
    {
      "cell_type": "code",
      "execution_count": null,
      "metadata": {
        "colab": {
          "base_uri": "https://localhost:8080/"
        },
        "executionInfo": {
          "elapsed": 11525,
          "status": "ok",
          "timestamp": 1744655736749,
          "user": {
            "displayName": "\u039d\u03af\u03ba\u03bf\u03c2 \u039a\u03b1\u03c4\u03c3\u03b1\u03ca\u03b4\u03ce\u03bd\u03b7\u03c2",
            "userId": "13489937806515013970"
          },
          "user_tz": -180
        },
        "id": "vMMlqzGnk-nF",
        "outputId": "d38e1fb7-52b9-4260-e7b3-52bd163dbd74"
      },
      "outputs": [
        {
          "name": "stdout",
          "output_type": "stream",
          "text": [
            "Accuracy for sentence-transformers/multi-qa-MiniLM-L6-cos-v1: 48.00%\n"
          ]
        }
      ],
      "source": [
        "#accuracy ss_model3\n",
        "final_predictions = compute_semantic_similarity(dataset_subset, predicted_answers, ss_model3)\n",
        "accuracy = sum(final_predictions) / len(final_predictions)\n",
        "\n",
        "print(f\"Accuracy for sentence-transformers/multi-qa-MiniLM-L6-cos-v1: {accuracy * 100:.2f}%\")"
      ]
    },
    {
      "cell_type": "code",
      "execution_count": null,
      "metadata": {
        "colab": {
          "base_uri": "https://localhost:8080/"
        },
        "executionInfo": {
          "elapsed": 38446,
          "status": "ok",
          "timestamp": 1744655775197,
          "user": {
            "displayName": "\u039d\u03af\u03ba\u03bf\u03c2 \u039a\u03b1\u03c4\u03c3\u03b1\u03ca\u03b4\u03ce\u03bd\u03b7\u03c2",
            "userId": "13489937806515013970"
          },
          "user_tz": -180
        },
        "id": "eCa4enp8lAIp",
        "outputId": "2d930f12-38bf-4676-d840-8adc63f450f1"
      },
      "outputs": [
        {
          "name": "stdout",
          "output_type": "stream",
          "text": [
            "Accuracy for sentence-transformers/paraphrase-mpnet-base-v2: 39.00%\n"
          ]
        }
      ],
      "source": [
        "#accuracy ss_model4\n",
        "final_predictions = compute_semantic_similarity(dataset_subset, predicted_answers, ss_model4)\n",
        "accuracy = sum(final_predictions) / len(final_predictions)\n",
        "\n",
        "print(f\"Accuracy for sentence-transformers/paraphrase-mpnet-base-v2: {accuracy * 100:.2f}%\")"
      ]
    },
    {
      "cell_type": "code",
      "execution_count": null,
      "metadata": {
        "colab": {
          "base_uri": "https://localhost:8080/"
        },
        "executionInfo": {
          "elapsed": 28478,
          "status": "ok",
          "timestamp": 1744655803672,
          "user": {
            "displayName": "\u039d\u03af\u03ba\u03bf\u03c2 \u039a\u03b1\u03c4\u03c3\u03b1\u03ca\u03b4\u03ce\u03bd\u03b7\u03c2",
            "userId": "13489937806515013970"
          },
          "user_tz": -180
        },
        "id": "05dej-xzlBW2",
        "outputId": "69c527d6-ef56-44ed-b24e-8230a9e518bf"
      },
      "outputs": [
        {
          "name": "stdout",
          "output_type": "stream",
          "text": [
            "Accuracy for sentence-transformers/paraphrase-distilroberta-base-v1: 31.00%\n"
          ]
        }
      ],
      "source": [
        "#accuracy ss_model5\n",
        "final_predictions = compute_semantic_similarity(dataset_subset, predicted_answers, ss_model5)\n",
        "accuracy = sum(final_predictions) / len(final_predictions)\n",
        "\n",
        "print(f\"Accuracy for sentence-transformers/paraphrase-distilroberta-base-v1: {accuracy * 100:.2f}%\")"
      ]
    },
    {
      "cell_type": "code",
      "execution_count": null,
      "metadata": {
        "colab": {
          "base_uri": "https://localhost:8080/"
        },
        "executionInfo": {
          "elapsed": 61331,
          "status": "ok",
          "timestamp": 1744655864990,
          "user": {
            "displayName": "\u039d\u03af\u03ba\u03bf\u03c2 \u039a\u03b1\u03c4\u03c3\u03b1\u03ca\u03b4\u03ce\u03bd\u03b7\u03c2",
            "userId": "13489937806515013970"
          },
          "user_tz": -180
        },
        "id": "R1e3IK2IlDE4",
        "outputId": "10ce5cdb-bca7-473b-85fd-a67033a5a5dc"
      },
      "outputs": [
        {
          "name": "stdout",
          "output_type": "stream",
          "text": [
            "Accuracy for sentence-transformers/sentence-t5-base: 92.00%\n"
          ]
        }
      ],
      "source": [
        "#accuracy ss_model6\n",
        "final_predictions = compute_semantic_similarity(dataset_subset, predicted_answers, ss_model6)\n",
        "accuracy = sum(final_predictions) / len(final_predictions)\n",
        "\n",
        "print(f\"Accuracy for sentence-transformers/sentence-t5-base: {accuracy * 100:.2f}%\")"
      ]
    },
    {
      "cell_type": "markdown",
      "metadata": {
        "id": "LyMgXuL5lHJd"
      },
      "source": [
        "# Model = facebook/bart-large-mnli"
      ]
    },
    {
      "cell_type": "code",
      "execution_count": null,
      "metadata": {
        "id": "bndihYl0lLpH"
      },
      "outputs": [],
      "source": [
        "\"\"\"\n",
        "We will use model4 from previous task to\n",
        "take logits for each possible answer\n",
        "\n",
        "\"\"\"\n",
        "\n",
        "tokenizer = tokenizer4\n",
        "model = model4\n",
        "\n",
        "# model and tokenizer\n",
        "\n",
        "device = torch.device(\"cuda\" if torch.cuda.is_available() else \"cpu\")\n",
        "model.to(device)\n",
        "\n",
        "\n",
        "predicted_answers = []\n",
        "\n",
        "#loop over the samples\n",
        "for sample in dataset_subset:\n",
        "    question = sample[\"question\"]\n",
        "    candidate_answers = [sample[\"best_answer\"]] + sample[\"correct_answers\"] + sample[\"incorrect_answers\"]\n",
        "\n",
        "    # Tokenization\n",
        "    encodings = tokenizer(\n",
        "      [question] * len(candidate_answers),\n",
        "      candidate_answers,\n",
        "      return_tensors=\"pt\",\n",
        "      padding=True,\n",
        "      truncation=True,\n",
        "      max_length = 128\n",
        "      ).to(device)\n",
        "\n",
        "    # Predictions\n",
        "    with torch.no_grad():\n",
        "      outputs = model(**encodings)\n",
        "      logits = outputs.logits\n",
        "\n",
        "\n",
        "    #output is Nx3 where N ia the number of possible answers amd the 3rd element of each row is entailment\n",
        "    scores = logits[:,2] #logits[1] = propabilty of correct answer\n",
        "    predicted_idx = torch.argmax(scores).item()\n",
        "    predicted_answer = candidate_answers[predicted_idx]\n",
        "    predicted_answers.append(predicted_answer)\n"
      ]
    },
    {
      "cell_type": "markdown",
      "metadata": {
        "id": "3Bjv3hJblzmQ"
      },
      "source": [
        "**For the various semantic similarity models, we will examine the accuracy achieved for answer prediction using `model1 = facebook/bart-large-mnli`.**\n"
      ]
    },
    {
      "cell_type": "code",
      "execution_count": null,
      "metadata": {
        "colab": {
          "base_uri": "https://localhost:8080/"
        },
        "executionInfo": {
          "elapsed": 35019,
          "status": "ok",
          "timestamp": 1744656416032,
          "user": {
            "displayName": "\u039d\u03af\u03ba\u03bf\u03c2 \u039a\u03b1\u03c4\u03c3\u03b1\u03ca\u03b4\u03ce\u03bd\u03b7\u03c2",
            "userId": "13489937806515013970"
          },
          "user_tz": -180
        },
        "id": "luap9a8zllf3",
        "outputId": "7b89ca20-dcc6-4934-d97e-91dae7b10f13"
      },
      "outputs": [
        {
          "name": "stdout",
          "output_type": "stream",
          "text": [
            "Accuracy for sentence-transformers/all-mpnet-base-v2 : 61.00%\n"
          ]
        }
      ],
      "source": [
        "#accuracy ss_model1\n",
        "final_predictions = compute_semantic_similarity(dataset_subset, predicted_answers, ss_model1)\n",
        "accuracy = sum(final_predictions) / len(final_predictions)\n",
        "\n",
        "print(f\"Accuracy for sentence-transformers/all-mpnet-base-v2 : {accuracy * 100:.2f}%\")\n"
      ]
    },
    {
      "cell_type": "code",
      "execution_count": null,
      "metadata": {
        "colab": {
          "base_uri": "https://localhost:8080/"
        },
        "executionInfo": {
          "elapsed": 5816,
          "status": "ok",
          "timestamp": 1744656421849,
          "user": {
            "displayName": "\u039d\u03af\u03ba\u03bf\u03c2 \u039a\u03b1\u03c4\u03c3\u03b1\u03ca\u03b4\u03ce\u03bd\u03b7\u03c2",
            "userId": "13489937806515013970"
          },
          "user_tz": -180
        },
        "id": "oHqVrRyLlmxB",
        "outputId": "14caacc6-018d-4f78-faed-269f71f15507"
      },
      "outputs": [
        {
          "name": "stdout",
          "output_type": "stream",
          "text": [
            "Accuracy for sentence-transformers/all-MiniLM-L6-v2: 58.00%\n"
          ]
        }
      ],
      "source": [
        "#accuracy ss_model2\n",
        "final_predictions = compute_semantic_similarity(dataset_subset, predicted_answers, ss_model2)\n",
        "accuracy = sum(final_predictions) / len(final_predictions)\n",
        "\n",
        "print(f\"Accuracy for sentence-transformers/all-MiniLM-L6-v2: {accuracy * 100:.2f}%\")\n"
      ]
    },
    {
      "cell_type": "code",
      "execution_count": null,
      "metadata": {
        "colab": {
          "base_uri": "https://localhost:8080/"
        },
        "executionInfo": {
          "elapsed": 6419,
          "status": "ok",
          "timestamp": 1744656428316,
          "user": {
            "displayName": "\u039d\u03af\u03ba\u03bf\u03c2 \u039a\u03b1\u03c4\u03c3\u03b1\u03ca\u03b4\u03ce\u03bd\u03b7\u03c2",
            "userId": "13489937806515013970"
          },
          "user_tz": -180
        },
        "id": "UeUfDYe7loU5",
        "outputId": "00284482-091e-45ec-cf54-85e771193cb2"
      },
      "outputs": [
        {
          "name": "stdout",
          "output_type": "stream",
          "text": [
            "Accuracy for sentence-transformers/multi-qa-MiniLM-L6-cos-v1: 58.00%\n"
          ]
        }
      ],
      "source": [
        "#accuracy ss_model3\n",
        "final_predictions = compute_semantic_similarity(dataset_subset, predicted_answers, ss_model3)\n",
        "accuracy = sum(final_predictions) / len(final_predictions)\n",
        "\n",
        "print(f\"Accuracy for sentence-transformers/multi-qa-MiniLM-L6-cos-v1: {accuracy * 100:.2f}%\")"
      ]
    },
    {
      "cell_type": "code",
      "execution_count": null,
      "metadata": {
        "colab": {
          "base_uri": "https://localhost:8080/"
        },
        "executionInfo": {
          "elapsed": 32699,
          "status": "ok",
          "timestamp": 1744656461016,
          "user": {
            "displayName": "\u039d\u03af\u03ba\u03bf\u03c2 \u039a\u03b1\u03c4\u03c3\u03b1\u03ca\u03b4\u03ce\u03bd\u03b7\u03c2",
            "userId": "13489937806515013970"
          },
          "user_tz": -180
        },
        "id": "4pbeKTzplpT-",
        "outputId": "85c38a6a-fec7-43fc-ba2f-2ea25ce664ee"
      },
      "outputs": [
        {
          "name": "stdout",
          "output_type": "stream",
          "text": [
            "Accuracy for sentence-transformers/paraphrase-mpnet-base-v2: 51.00%\n"
          ]
        }
      ],
      "source": [
        "#accuracy ss_model4\n",
        "final_predictions = compute_semantic_similarity(dataset_subset, predicted_answers, ss_model4)\n",
        "accuracy = sum(final_predictions) / len(final_predictions)\n",
        "\n",
        "print(f\"Accuracy for sentence-transformers/paraphrase-mpnet-base-v2: {accuracy * 100:.2f}%\")"
      ]
    },
    {
      "cell_type": "code",
      "execution_count": null,
      "metadata": {
        "colab": {
          "base_uri": "https://localhost:8080/"
        },
        "executionInfo": {
          "elapsed": 16455,
          "status": "ok",
          "timestamp": 1744656477470,
          "user": {
            "displayName": "\u039d\u03af\u03ba\u03bf\u03c2 \u039a\u03b1\u03c4\u03c3\u03b1\u03ca\u03b4\u03ce\u03bd\u03b7\u03c2",
            "userId": "13489937806515013970"
          },
          "user_tz": -180
        },
        "id": "f1sGlYW-lqpX",
        "outputId": "f741411b-9ac6-4d6b-ac96-814c4b190d95"
      },
      "outputs": [
        {
          "name": "stdout",
          "output_type": "stream",
          "text": [
            "Accuracy for sentence-transformers/paraphrase-distilroberta-base-v1: 46.00%\n"
          ]
        }
      ],
      "source": [
        "#accuracy ss_model5\n",
        "final_predictions = compute_semantic_similarity(dataset_subset, predicted_answers, ss_model5)\n",
        "accuracy = sum(final_predictions) / len(final_predictions)\n",
        "\n",
        "print(f\"Accuracy for sentence-transformers/paraphrase-distilroberta-base-v1: {accuracy * 100:.2f}%\")"
      ]
    },
    {
      "cell_type": "code",
      "execution_count": null,
      "metadata": {
        "colab": {
          "base_uri": "https://localhost:8080/"
        },
        "executionInfo": {
          "elapsed": 32592,
          "status": "ok",
          "timestamp": 1744656510058,
          "user": {
            "displayName": "\u039d\u03af\u03ba\u03bf\u03c2 \u039a\u03b1\u03c4\u03c3\u03b1\u03ca\u03b4\u03ce\u03bd\u03b7\u03c2",
            "userId": "13489937806515013970"
          },
          "user_tz": -180
        },
        "id": "3lvJ0tmvls3m",
        "outputId": "0a476769-3e7e-4dd0-ac5e-1db6074e12a2"
      },
      "outputs": [
        {
          "name": "stdout",
          "output_type": "stream",
          "text": [
            "Accuracy for sentence-transformers/sentence-t5-base: 89.00%\n"
          ]
        }
      ],
      "source": [
        "#accuracy ss_model6\n",
        "final_predictions = compute_semantic_similarity(dataset_subset, predicted_answers, ss_model6)\n",
        "accuracy = sum(final_predictions) / len(final_predictions)\n",
        "\n",
        "print(f\"Accuracy for sentence-transformers/sentence-t5-base: {accuracy * 100:.2f}%\")"
      ]
    },
    {
      "cell_type": "markdown",
      "metadata": {
        "id": "CcTFZIhrmFar"
      },
      "source": [
        "# Model = roberta-large-mnli"
      ]
    },
    {
      "cell_type": "code",
      "execution_count": null,
      "metadata": {
        "id": "jvbahkKkmJHV"
      },
      "outputs": [],
      "source": [
        "\"\"\"\n",
        "We will use model5 from previous task to\n",
        "take logits for each possible answer\n",
        "\n",
        "\"\"\"\n",
        "\n",
        "tokenizer = tokenizer5\n",
        "model = model5\n",
        "\n",
        "# model and tokenizer\n",
        "\n",
        "device = torch.device(\"cuda\" if torch.cuda.is_available() else \"cpu\")\n",
        "model.to(device)\n",
        "\n",
        "\n",
        "predicted_answers = []\n",
        "\n",
        "#loop over the samples\n",
        "for sample in dataset_subset:\n",
        "    question = sample[\"question\"]\n",
        "    candidate_answers = [sample[\"best_answer\"]] + sample[\"correct_answers\"] + sample[\"incorrect_answers\"]\n",
        "\n",
        "    # Tokenization\n",
        "    encodings = tokenizer(\n",
        "      [question] * len(candidate_answers),\n",
        "      candidate_answers,\n",
        "      return_tensors=\"pt\",\n",
        "      padding=True,\n",
        "      truncation=True,\n",
        "      max_length = 128\n",
        "      ).to(device)\n",
        "\n",
        "    # Predictions\n",
        "    with torch.no_grad():\n",
        "      outputs = model(**encodings)\n",
        "      logits = outputs.logits\n",
        "\n",
        "\n",
        "    #output is Nx3 where N ia the number of possible answers amd the 3rd element of each row is entailment\n",
        "    scores = logits[:,2] #logits[1] = propabilty of correct answer\n",
        "    predicted_idx = torch.argmax(scores).item()\n",
        "    predicted_answer = candidate_answers[predicted_idx]\n",
        "    predicted_answers.append(predicted_answer)\n"
      ]
    },
    {
      "cell_type": "markdown",
      "metadata": {
        "id": "GxonZ8lpmPIa"
      },
      "source": [
        "**For the various semantic similarity models, we will examine the accuracy achieved for answer prediction using `model1 = roberta-large-mnli`.**\n"
      ]
    },
    {
      "cell_type": "code",
      "execution_count": null,
      "metadata": {
        "colab": {
          "base_uri": "https://localhost:8080/"
        },
        "executionInfo": {
          "elapsed": 33570,
          "status": "ok",
          "timestamp": 1744656890796,
          "user": {
            "displayName": "\u039d\u03af\u03ba\u03bf\u03c2 \u039a\u03b1\u03c4\u03c3\u03b1\u03ca\u03b4\u03ce\u03bd\u03b7\u03c2",
            "userId": "13489937806515013970"
          },
          "user_tz": -180
        },
        "id": "364fIwRvmTBh",
        "outputId": "7a45fd6e-981d-4d44-8630-e4394e890334"
      },
      "outputs": [
        {
          "name": "stdout",
          "output_type": "stream",
          "text": [
            "Accuracy for sentence-transformers/all-mpnet-base-v2 : 47.00%\n"
          ]
        }
      ],
      "source": [
        "#accuracy ss_model1\n",
        "final_predictions = compute_semantic_similarity(dataset_subset, predicted_answers, ss_model1)\n",
        "accuracy = sum(final_predictions) / len(final_predictions)\n",
        "\n",
        "print(f\"Accuracy for sentence-transformers/all-mpnet-base-v2 : {accuracy * 100:.2f}%\")\n"
      ]
    },
    {
      "cell_type": "code",
      "execution_count": null,
      "metadata": {
        "colab": {
          "base_uri": "https://localhost:8080/"
        },
        "executionInfo": {
          "elapsed": 6260,
          "status": "ok",
          "timestamp": 1744656897053,
          "user": {
            "displayName": "\u039d\u03af\u03ba\u03bf\u03c2 \u039a\u03b1\u03c4\u03c3\u03b1\u03ca\u03b4\u03ce\u03bd\u03b7\u03c2",
            "userId": "13489937806515013970"
          },
          "user_tz": -180
        },
        "id": "tNx97TrOmZR3",
        "outputId": "9e2db4d4-f309-4ecd-8d37-846ba90efc2d"
      },
      "outputs": [
        {
          "name": "stdout",
          "output_type": "stream",
          "text": [
            "Accuracy for sentence-transformers/all-MiniLM-L6-v2: 48.00%\n"
          ]
        }
      ],
      "source": [
        "#accuracy ss_model2\n",
        "final_predictions = compute_semantic_similarity(dataset_subset, predicted_answers, ss_model2)\n",
        "accuracy = sum(final_predictions) / len(final_predictions)\n",
        "\n",
        "print(f\"Accuracy for sentence-transformers/all-MiniLM-L6-v2: {accuracy * 100:.2f}%\")\n"
      ]
    },
    {
      "cell_type": "code",
      "execution_count": null,
      "metadata": {
        "colab": {
          "base_uri": "https://localhost:8080/"
        },
        "executionInfo": {
          "elapsed": 6455,
          "status": "ok",
          "timestamp": 1744656903506,
          "user": {
            "displayName": "\u039d\u03af\u03ba\u03bf\u03c2 \u039a\u03b1\u03c4\u03c3\u03b1\u03ca\u03b4\u03ce\u03bd\u03b7\u03c2",
            "userId": "13489937806515013970"
          },
          "user_tz": -180
        },
        "id": "JbZstpmZmcfa",
        "outputId": "c3e66e3a-26fe-4ed9-ac5b-cc810752ac35"
      },
      "outputs": [
        {
          "name": "stdout",
          "output_type": "stream",
          "text": [
            "Accuracy for sentence-transformers/multi-qa-MiniLM-L6-cos-v1: 51.00%\n"
          ]
        }
      ],
      "source": [
        "#accuracy ss_model3\n",
        "final_predictions = compute_semantic_similarity(dataset_subset, predicted_answers, ss_model3)\n",
        "accuracy = sum(final_predictions) / len(final_predictions)\n",
        "\n",
        "print(f\"Accuracy for sentence-transformers/multi-qa-MiniLM-L6-cos-v1: {accuracy * 100:.2f}%\")"
      ]
    },
    {
      "cell_type": "code",
      "execution_count": null,
      "metadata": {
        "colab": {
          "base_uri": "https://localhost:8080/"
        },
        "executionInfo": {
          "elapsed": 33230,
          "status": "ok",
          "timestamp": 1744656936735,
          "user": {
            "displayName": "\u039d\u03af\u03ba\u03bf\u03c2 \u039a\u03b1\u03c4\u03c3\u03b1\u03ca\u03b4\u03ce\u03bd\u03b7\u03c2",
            "userId": "13489937806515013970"
          },
          "user_tz": -180
        },
        "id": "vglamzo8md2T",
        "outputId": "95ae64ef-137d-4330-8e9c-ee377cf69c0e"
      },
      "outputs": [
        {
          "name": "stdout",
          "output_type": "stream",
          "text": [
            "Accuracy for sentence-transformers/paraphrase-mpnet-base-v2: 41.00%\n"
          ]
        }
      ],
      "source": [
        "#accuracy ss_model4\n",
        "final_predictions = compute_semantic_similarity(dataset_subset, predicted_answers, ss_model4)\n",
        "accuracy = sum(final_predictions) / len(final_predictions)\n",
        "\n",
        "print(f\"Accuracy for sentence-transformers/paraphrase-mpnet-base-v2: {accuracy * 100:.2f}%\")"
      ]
    },
    {
      "cell_type": "code",
      "execution_count": null,
      "metadata": {
        "colab": {
          "base_uri": "https://localhost:8080/"
        },
        "executionInfo": {
          "elapsed": 16984,
          "status": "ok",
          "timestamp": 1744656953708,
          "user": {
            "displayName": "\u039d\u03af\u03ba\u03bf\u03c2 \u039a\u03b1\u03c4\u03c3\u03b1\u03ca\u03b4\u03ce\u03bd\u03b7\u03c2",
            "userId": "13489937806515013970"
          },
          "user_tz": -180
        },
        "id": "Shbg_SCQmfPq",
        "outputId": "6514a8d1-36b7-4637-abba-9416a4191c17"
      },
      "outputs": [
        {
          "name": "stdout",
          "output_type": "stream",
          "text": [
            "Accuracy for sentence-transformers/paraphrase-distilroberta-base-v1: 36.00%\n"
          ]
        }
      ],
      "source": [
        "#accuracy ss_model5\n",
        "final_predictions = compute_semantic_similarity(dataset_subset, predicted_answers, ss_model5)\n",
        "accuracy = sum(final_predictions) / len(final_predictions)\n",
        "\n",
        "print(f\"Accuracy for sentence-transformers/paraphrase-distilroberta-base-v1: {accuracy * 100:.2f}%\")"
      ]
    },
    {
      "cell_type": "code",
      "execution_count": null,
      "metadata": {
        "colab": {
          "base_uri": "https://localhost:8080/"
        },
        "executionInfo": {
          "elapsed": 32887,
          "status": "ok",
          "timestamp": 1744656986592,
          "user": {
            "displayName": "\u039d\u03af\u03ba\u03bf\u03c2 \u039a\u03b1\u03c4\u03c3\u03b1\u03ca\u03b4\u03ce\u03bd\u03b7\u03c2",
            "userId": "13489937806515013970"
          },
          "user_tz": -180
        },
        "id": "NdqP_kahmgsW",
        "outputId": "c63b10df-4075-411f-ac69-519caebf51c6"
      },
      "outputs": [
        {
          "name": "stdout",
          "output_type": "stream",
          "text": [
            "Accuracy for sentence-transformers/sentence-t5-base: 86.00%\n"
          ]
        }
      ],
      "source": [
        "#accuracy ss_model6\n",
        "final_predictions = compute_semantic_similarity(dataset_subset, predicted_answers, ss_model6)\n",
        "accuracy = sum(final_predictions) / len(final_predictions)\n",
        "\n",
        "print(f\"Accuracy for sentence-transformers/sentence-t5-base: {accuracy * 100:.2f}%\")"
      ]
    },
    {
      "cell_type": "markdown",
      "metadata": {
        "id": "qyk5HDkgvLne"
      },
      "source": [
        "## Performance Evaluation of Binary and Three-Way Classification Models with Sentence Transformers\n",
        "\n",
        "The following results come from evaluating the answer quality produced by **three binary-classification models** and **two three-way-classification models** from task B1.  \n",
        "Evaluation is based on the cosine similarity between each predicted answer and the corresponding *best answer*, using **six different sentence-transformer models**.\n",
        "\n",
        "### Results per Classification Model\n",
        "\n",
        "#### Model: `distilbert-base-uncased`\n",
        "\n",
        "| Sentence Transformer                     | Accuracy |\n",
        "|------------------------------------------|----------|\n",
        "| all-mpnet-base-v2                        | 51.00 %  |\n",
        "| all-MiniLM-L6-v2                         | 51.00 %  |\n",
        "| multi-qa-MiniLM-L6-cos-v1                | 50.00 %  |\n",
        "| paraphrase-mpnet-base-v2                 | 40.00 %  |\n",
        "| paraphrase-distilroberta-base-v1         | 37.00 %  |\n",
        "| sentence-t5-base                         | 83.00 %  |\n",
        "\n",
        "---\n",
        "\n",
        "#### Model: `microsoft/deberta-v3-base`\n",
        "\n",
        "| Sentence Transformer                     | Accuracy |\n",
        "|------------------------------------------|----------|\n",
        "| all-mpnet-base-v2                        | 54.00 %  |\n",
        "| all-MiniLM-L6-v2                         | 51.00 %  |\n",
        "| multi-qa-MiniLM-L6-cos-v1                | 51.00 %  |\n",
        "| paraphrase-mpnet-base-v2                 | 46.00 %  |\n",
        "| paraphrase-distilroberta-base-v1         | 36.00 %  |\n",
        "| sentence-t5-base                         | 88.00 %  |\n",
        "\n",
        "---\n",
        "\n",
        "#### Model: `textattack/roberta-base-CoLA`\n",
        "\n",
        "| Sentence Transformer                     | Accuracy |\n",
        "|------------------------------------------|----------|\n",
        "| all-mpnet-base-v2                        | 52.00 %  |\n",
        "| all-MiniLM-L6-v2                         | 47.00 %  |\n",
        "| multi-qa-MiniLM-L6-cos-v1                | 48.00 %  |\n",
        "| paraphrase-mpnet-base-v2                 | 39.00 %  |\n",
        "| paraphrase-distilroberta-base-v1         | 31.00 %  |\n",
        "| sentence-t5-base                         | 92.00 %  |\n",
        "\n",
        "---\n",
        "\n",
        "#### Model: `facebook/bart-large-mnli`\n",
        "\n",
        "| Sentence Transformer                     | Accuracy |\n",
        "|------------------------------------------|----------|\n",
        "| all-mpnet-base-v2                        | 61.00 %  |\n",
        "| all-MiniLM-L6-v2                         | 58.00 %  |\n",
        "| multi-qa-MiniLM-L6-cos-v1                | 58.00 %  |\n",
        "| paraphrase-mpnet-base-v2                 | 51.00 %  |\n",
        "| paraphrase-distilroberta-base-v1         | 46.00 %  |\n",
        "| sentence-t5-base                         | 89.00 %  |\n",
        "\n",
        "---\n",
        "\n",
        "#### Model: `roberta-large-mnli`\n",
        "\n",
        "| Sentence Transformer                     | Accuracy |\n",
        "|------------------------------------------|----------|\n",
        "| all-mpnet-base-v2                        | 47.00 %  |\n",
        "| all-MiniLM-L6-v2                         | 48.00 %  |\n",
        "| multi-qa-MiniLM-L6-cos-v1                | 51.00 %  |\n",
        "| paraphrase-mpnet-base-v2                 | 41.00 %  |\n",
        "| paraphrase-distilroberta-base-v1         | 36.00 %  |\n",
        "| sentence-t5-base                         | 86.00 %  |\n",
        "\n",
        "---\n",
        "\n",
        "### Overall Sentence-Transformer Picture (Average Accuracy)\n",
        "\n",
        "| Sentence Transformer                     | Avg. Accuracy |\n",
        "|------------------------------------------|---------------|\n",
        "| sentence-t5-base                         | **87.60 %**   |\n",
        "| all-mpnet-base-v2                        | 53.00 %       |\n",
        "| all-MiniLM-L6-v2                         | 51.00 %       |\n",
        "| multi-qa-MiniLM-L6-cos-v1                | 51.60 %       |\n",
        "| paraphrase-mpnet-base-v2                 | 43.40 %       |\n",
        "| paraphrase-distilroberta-base-v1         | 37.20 %       |\n",
        "\n",
        "---\n",
        "\n",
        "### Discussion\n",
        "\n",
        "- **sentence-t5-base** consistently outperforms every other sentence-transformer, reaching up to **92 %** accuracy.\n",
        "- **all-mpnet-base-v2** and **multi-qa-MiniLM-L6-cos-v1** hover around **51\u201353 %**, providing a decent baseline.\n",
        "- The **paraphrase-based models** lag behind, especially `paraphrase-distilroberta-base-v1`.\n",
        "- Among the classification models, **facebook/bart-large-mnli** generally pairs best with most sentence-transformers.\n",
        "\n",
        "The choice of sentence-transformer plays a crucial role in evaluation: the T5-based architecture offers the richest representations for answer comparison.\n"
      ]
    },
    {
      "cell_type": "markdown",
      "metadata": {
        "id": "jQATbpGyeByP"
      },
      "source": [
        "## B3. Winogrande Dataset\n",
        "\n",
        "The [Winogrande dataset](https://huggingface.co/datasets/winogrande) consists of sentences with one missing word and two possible choices for filling in the blank.  \n",
        "For example, given the sentence:\n",
        "\n",
        "> \"John moved the couch from the garage to the backyard to create space. The _ is small.\"\n",
        "\n",
        "There are two candidate completions:\n",
        "\n",
        "- \"garage\"\n",
        "- \"backyard\"\n",
        "\n",
        "The difficulty lies in the fact that both words appear in the sentence, so the model must demonstrate strong language understanding in order to choose the semantically correct completion.\n",
        "\n",
        "To speed up experimentation, select a random subset of 100 samples from the **training set** of Winogrande.\n"
      ]
    },
    {
      "cell_type": "markdown",
      "metadata": {
        "id": "BkZ9vL8exUOg"
      },
      "source": [
        "# Load and explore dataset"
      ]
    },
    {
      "cell_type": "code",
      "execution_count": null,
      "metadata": {
        "colab": {
          "base_uri": "https://localhost:8080/",
          "height": 176
        },
        "collapsed": true,
        "executionInfo": {
          "elapsed": 220,
          "status": "error",
          "timestamp": 1744711945606,
          "user": {
            "displayName": "\u039d\u03af\u03ba\u03bf\u03c2 \u039a\u03b1\u03c4\u03c3\u03b1\u03ca\u03b4\u03ce\u03bd\u03b7\u03c2",
            "userId": "13489937806515013970"
          },
          "user_tz": -180
        },
        "id": "s-Jkr97igAJO",
        "outputId": "810593dc-aabe-4778-9c46-2af2ea47dac0"
      },
      "outputs": [],
      "source": [
        "# insert your code here (load dataset)\n",
        "\n",
        "dataset = load_dataset(\"allenai/winogrande\", \"winogrande_xs\")"
      ]
    },
    {
      "cell_type": "code",
      "execution_count": null,
      "metadata": {
        "colab": {
          "base_uri": "https://localhost:8080/"
        },
        "executionInfo": {
          "elapsed": 63,
          "status": "ok",
          "timestamp": 1744659503949,
          "user": {
            "displayName": "\u039d\u03af\u03ba\u03bf\u03c2 \u039a\u03b1\u03c4\u03c3\u03b1\u03ca\u03b4\u03ce\u03bd\u03b7\u03c2",
            "userId": "13489937806515013970"
          },
          "user_tz": -180
        },
        "id": "2j19v9b3zzC7",
        "outputId": "69186d05-a75e-426c-9585-8c0f6d211305"
      },
      "outputs": [
        {
          "name": "stdout",
          "output_type": "stream",
          "text": [
            "DatasetDict({\n",
            "    train: Dataset({\n",
            "        features: ['sentence', 'option1', 'option2', 'answer'],\n",
            "        num_rows: 160\n",
            "    })\n",
            "    test: Dataset({\n",
            "        features: ['sentence', 'option1', 'option2', 'answer'],\n",
            "        num_rows: 1767\n",
            "    })\n",
            "    validation: Dataset({\n",
            "        features: ['sentence', 'option1', 'option2', 'answer'],\n",
            "        num_rows: 1267\n",
            "    })\n",
            "})\n"
          ]
        }
      ],
      "source": [
        "print(dataset)"
      ]
    },
    {
      "cell_type": "code",
      "execution_count": null,
      "metadata": {
        "colab": {
          "base_uri": "https://localhost:8080/"
        },
        "executionInfo": {
          "elapsed": 67,
          "status": "ok",
          "timestamp": 1744659831260,
          "user": {
            "displayName": "\u039d\u03af\u03ba\u03bf\u03c2 \u039a\u03b1\u03c4\u03c3\u03b1\u03ca\u03b4\u03ce\u03bd\u03b7\u03c2",
            "userId": "13489937806515013970"
          },
          "user_tz": -180
        },
        "id": "O18CoP-1z-NA",
        "outputId": "22d18c94-177a-4b75-c24d-c7475c524652"
      },
      "outputs": [
        {
          "name": "stdout",
          "output_type": "stream",
          "text": [
            "Example1:\n",
            "Sentence:Dennis gave his hammer to Robert so he could hammer the nails. _ had plenty of hammers.\n",
            "Option1: Dennis\n",
            "Option2: Robert\n",
            "Answer: 1\n",
            "\n",
            "Example2:\n",
            "Sentence:Samantha brought a get well card to the hospital but Emily forgot to because _ was preoccupied.\n",
            "Option1: Samantha\n",
            "Option2: Emily\n",
            "Answer: 2\n"
          ]
        }
      ],
      "source": [
        "#keeping 100 samples\n",
        "train_subset = dataset[\"train\"].shuffle(seed=42).select(range(100))\n",
        "\n",
        "#example\n",
        "print(\"Example1:\")\n",
        "print(f\"Sentence:{train_subset['sentence'][0]}\")\n",
        "print(f\"Option1: {train_subset['option1'][0]}\")\n",
        "print(f\"Option2: {train_subset['option2'][0]}\")\n",
        "print(f\"Answer: {train_subset['answer'][0]}\")\n",
        "\n",
        "print(\"\\nExample2:\")\n",
        "print(f\"Sentence:{train_subset['sentence'][1]}\")\n",
        "print(f\"Option1: {train_subset['option1'][1]}\")\n",
        "print(f\"Option2: {train_subset['option2'][1]}\")\n",
        "print(f\"Answer: {train_subset['answer'][1]}\")"
      ]
    },
    {
      "cell_type": "markdown",
      "metadata": {
        "id": "hpuR6PbVmwbd"
      },
      "source": [
        "With an appropriate [transformation](https://huggingface.co/DeepPavlov/roberta-large-winogrande) of the above input (a sentence with a blank and two candidate completions), you are asked to record the accuracy of relevant models that solve the problem, by comparing the predicted label with the ground-truth label (1 = first choice, 2 = second choice). Essentially, you must convert the Winogrande task into a more classical NLP problem.\n",
        "\n",
        "Test at least **three** suitable models from Hugging Face to tackle Winogrande. We recommend using pipelines for convenience.\n"
      ]
    },
    {
      "cell_type": "code",
      "execution_count": null,
      "metadata": {
        "colab": {
          "base_uri": "https://localhost:8080/"
        },
        "collapsed": true,
        "executionInfo": {
          "elapsed": 11419,
          "status": "ok",
          "timestamp": 1744712209878,
          "user": {
            "displayName": "\u039d\u03af\u03ba\u03bf\u03c2 \u039a\u03b1\u03c4\u03c3\u03b1\u03ca\u03b4\u03ce\u03bd\u03b7\u03c2",
            "userId": "13489937806515013970"
          },
          "user_tz": -180
        },
        "id": "3ZiqIc1Q8z7K",
        "outputId": "fedde897-87c9-45d1-f815-6a9c2b917396"
      },
      "outputs": [],
      "source": [
        "! pip install transformers datasets\n",
        "#! pip install evaluate\n",
        "#! pip install sentence-transformers"
      ]
    },
    {
      "cell_type": "code",
      "execution_count": null,
      "metadata": {
        "id": "9m6akMdBuFcw"
      },
      "outputs": [],
      "source": [
        "from transformers import AutoTokenizer\n",
        "\n",
        "\n",
        "# insert your code here (load models)\n",
        "m1 = \"textattack/bert-base-uncased-WNLI\" # 3 ways classifier\n",
        "m2 = \"roberta-large-mnli\" # 3 ways classifier\n",
        "m3 = \"distilbert-base-uncased-finetuned-sst-2-english\" #binary\n",
        "m4 = \"facebook/bart-large-mnli\"\n"
      ]
    },
    {
      "cell_type": "code",
      "execution_count": null,
      "metadata": {
        "id": "PR6sz6xug_7N"
      },
      "outputs": [],
      "source": [
        "# insert your code here (function for predicting best fill)\n",
        "\n",
        "\n",
        "\n",
        "\"\"\"\n",
        "For binary classification models, we will convert the problem to text classification. We will give to the model an input\n",
        "of both the sentences with each option and the model will give us scores for the most\n",
        "possible sentence.\n",
        "\n",
        "\n",
        "As it is asked, we will use pipelines for\n",
        "the text classification. Otherwise, we can to in like we\n",
        "did it previously (tokenize, forward, logits, prediction)\n",
        "\"\"\"\n",
        "\n",
        "\n",
        "\n",
        "from transformers import pipeline\n",
        "\n",
        "def prediction_binary(example, model):\n",
        "\n",
        "  option1 = example['option1']\n",
        "  option2 = example['option2']\n",
        "  sentence = example['sentence']\n",
        "\n",
        "  #replacing _ with options and create the 2 inputs\n",
        "  input1 = sentence.replace('_', option1)\n",
        "  input2 = sentence.replace('_', option2)\n",
        "\n",
        "  #pipeline\n",
        "  classifier = pipeline('text-classification', model = model)\n",
        "  results = classifier([input1,input2])\n",
        "\n",
        "  # Get the scores\n",
        "  score1 = results[0]['score']\n",
        "  score2 = results[1]['score']\n",
        "\n",
        "  # Choose the option with the higher confidence\n",
        "  if score1 > score2:\n",
        "    predicted_label = 1\n",
        "  else:\n",
        "    predicted_label = 2\n",
        "\n",
        "  return predicted_label\n",
        "\n",
        "\n",
        "\n"
      ]
    },
    {
      "cell_type": "code",
      "execution_count": null,
      "metadata": {
        "id": "dJjsoA6cEp-m"
      },
      "outputs": [],
      "source": [
        "\"\"\"\n",
        "For NLI models, we will give the sentence as premise and the 2 options as hypothesis\n",
        "\n",
        "As it is asked, we will use pipelines. Otherwise, we can to in like we\n",
        "did it previously (tokenize, forward, entailemnt score, prediction)\n",
        "\"\"\"\n",
        "\n",
        "\n",
        "def prediction_nli(example, model):\n",
        "    option1 = example['option1']\n",
        "    option2 = example['option2']\n",
        "    sentence = example['sentence']\n",
        "\n",
        "    #NLI\n",
        "    premise = sentence\n",
        "    hypothesis1 = sentence.replace('_', option1)  # \u0395\u03b9\u03c3\u03b1\u03b3\u03c9\u03b3\u03ae \u03c4\u03b7\u03c2 \u03c0\u03c1\u03ce\u03c4\u03b7\u03c2 \u03b5\u03c0\u03b9\u03bb\u03bf\u03b3\u03ae\u03c2\n",
        "    hypothesis2 = sentence.replace('_', option2)  # \u0395\u03b9\u03c3\u03b1\u03b3\u03c9\u03b3\u03ae \u03c4\u03b7\u03c2 \u03b4\u03b5\u03cd\u03c4\u03b5\u03c1\u03b7\u03c2 \u03b5\u03c0\u03b9\u03bb\u03bf\u03b3\u03ae\u03c2\n",
        "\n",
        "\n",
        "    #pipeline\n",
        "    nli_model = pipeline(\"zero-shot-classification\", model = model)\n",
        "    result = nli_model(premise, candidate_labels=[hypothesis1, hypothesis2])\n",
        "\n",
        "    #choose higher entailment\n",
        "    if result['scores'][0] > result['scores'][1]:\n",
        "      prediction = 1\n",
        "    else:\n",
        "      prediction = 2\n",
        "\n",
        "    return prediction\n"
      ]
    },
    {
      "cell_type": "code",
      "execution_count": null,
      "metadata": {
        "id": "X64x2V_ON8hf"
      },
      "outputs": [],
      "source": [
        "def accuracy(subset, model):\n",
        "    accuracy = 0\n",
        "\n",
        "    # \u0388\u03bb\u03b5\u03b3\u03c7\u03bf\u03c2 \u03b1\u03bd \u03c4\u03bf \u03bc\u03bf\u03bd\u03c4\u03ad\u03bb\u03bf \u03b5\u03af\u03bd\u03b1\u03b9 \u03b3\u03b9\u03b1 NLI\n",
        "    if model in [\"textattack/bert-base-uncased-WNLI\", \"roberta-large-mnli\", \"facebook/bart-large-mnli\"]:\n",
        "        for sample in subset:\n",
        "            prediction = prediction_nli(sample, model)\n",
        "            if str(prediction) == str(sample['answer']):\n",
        "                accuracy += 1\n",
        "    else:\n",
        "        for sample in subset:\n",
        "            prediction = prediction_binary(sample, model)\n",
        "            if str(prediction) == str(sample['answer']):\n",
        "                accuracy += 1\n",
        "\n",
        "    return accuracy / len(subset)\n",
        "\n",
        "\n"
      ]
    },
    {
      "cell_type": "markdown",
      "metadata": {
        "id": "7w17dZV8-Lue"
      },
      "source": [
        "**Model textattack/bert-base-uncased-WNLI**"
      ]
    },
    {
      "cell_type": "code",
      "execution_count": null,
      "metadata": {
        "colab": {
          "base_uri": "https://localhost:8080/"
        },
        "collapsed": true,
        "executionInfo": {
          "elapsed": 112972,
          "status": "ok",
          "timestamp": 1744668405261,
          "user": {
            "displayName": "\u039d\u03af\u03ba\u03bf\u03c2 \u039a\u03b1\u03c4\u03c3\u03b1\u03ca\u03b4\u03ce\u03bd\u03b7\u03c2",
            "userId": "13489937806515013970"
          },
          "user_tz": -180
        },
        "id": "PMe7G2kxT5so",
        "outputId": "578d1ac1-faad-437c-c014-17ea54ef8c18"
      },
      "outputs": [],
      "source": [
        "model1_accuracy = accuracy(train_subset, m1)\n"
      ]
    },
    {
      "cell_type": "code",
      "execution_count": null,
      "metadata": {
        "colab": {
          "base_uri": "https://localhost:8080/"
        },
        "executionInfo": {
          "elapsed": 48,
          "status": "ok",
          "timestamp": 1744669110731,
          "user": {
            "displayName": "\u039d\u03af\u03ba\u03bf\u03c2 \u039a\u03b1\u03c4\u03c3\u03b1\u03ca\u03b4\u03ce\u03bd\u03b7\u03c2",
            "userId": "13489937806515013970"
          },
          "user_tz": -180
        },
        "id": "5LlDjAKHUD-e",
        "outputId": "816f1f9c-8da1-49c8-b4ef-533ca28b6648"
      },
      "outputs": [
        {
          "name": "stdout",
          "output_type": "stream",
          "text": [
            "Accuracy for textattack/bert-base-uncased-WNLI: 48.00%\n"
          ]
        }
      ],
      "source": [
        "print(f\"Accuracy for textattack/bert-base-uncased-WNLI: {model1_accuracy* 100:.2f}%\")"
      ]
    },
    {
      "cell_type": "markdown",
      "metadata": {
        "id": "GGlPnarr-Sqj"
      },
      "source": [
        "**Model roberta-large-mnli**"
      ]
    },
    {
      "cell_type": "code",
      "execution_count": null,
      "metadata": {
        "colab": {
          "base_uri": "https://localhost:8080/"
        },
        "collapsed": true,
        "executionInfo": {
          "elapsed": 258427,
          "status": "ok",
          "timestamp": 1744668261023,
          "user": {
            "displayName": "\u039d\u03af\u03ba\u03bf\u03c2 \u039a\u03b1\u03c4\u03c3\u03b1\u03ca\u03b4\u03ce\u03bd\u03b7\u03c2",
            "userId": "13489937806515013970"
          },
          "user_tz": -180
        },
        "id": "DJYg0D_WT57d",
        "outputId": "e31e012f-700a-47e3-f635-5b3013a71067"
      },
      "outputs": [],
      "source": [
        "model2_accuracy = accuracy(train_subset, m2)\n"
      ]
    },
    {
      "cell_type": "code",
      "execution_count": null,
      "metadata": {
        "colab": {
          "base_uri": "https://localhost:8080/"
        },
        "executionInfo": {
          "elapsed": 7,
          "status": "ok",
          "timestamp": 1744669098650,
          "user": {
            "displayName": "\u039d\u03af\u03ba\u03bf\u03c2 \u039a\u03b1\u03c4\u03c3\u03b1\u03ca\u03b4\u03ce\u03bd\u03b7\u03c2",
            "userId": "13489937806515013970"
          },
          "user_tz": -180
        },
        "id": "KGOmrAIbUGOZ",
        "outputId": "28b2079b-f64d-455e-9264-5187e71436cd"
      },
      "outputs": [
        {
          "name": "stdout",
          "output_type": "stream",
          "text": [
            "Accuracy for roberta-large-mnli: 48.00%\n"
          ]
        }
      ],
      "source": [
        "\n",
        "print(f\"Accuracy for roberta-large-mnli: {model2_accuracy* 100:.2f}%\")"
      ]
    },
    {
      "cell_type": "markdown",
      "metadata": {
        "id": "A2pGXICl-Xv8"
      },
      "source": [
        "**Model distilbert-base-uncased-finetuned-sst-2-english**"
      ]
    },
    {
      "cell_type": "code",
      "execution_count": null,
      "metadata": {
        "colab": {
          "base_uri": "https://localhost:8080/"
        },
        "collapsed": true,
        "executionInfo": {
          "elapsed": 74732,
          "status": "ok",
          "timestamp": 1744667964948,
          "user": {
            "displayName": "\u039d\u03af\u03ba\u03bf\u03c2 \u039a\u03b1\u03c4\u03c3\u03b1\u03ca\u03b4\u03ce\u03bd\u03b7\u03c2",
            "userId": "13489937806515013970"
          },
          "user_tz": -180
        },
        "id": "2p1nlMjvPqd-",
        "outputId": "e4f7cc17-2457-4092-9450-852517d9736a"
      },
      "outputs": [],
      "source": [
        "model3_accuracy = accuracy(train_subset, m3)\n"
      ]
    },
    {
      "cell_type": "code",
      "execution_count": null,
      "metadata": {
        "colab": {
          "base_uri": "https://localhost:8080/"
        },
        "executionInfo": {
          "elapsed": 7,
          "status": "ok",
          "timestamp": 1744669090419,
          "user": {
            "displayName": "\u039d\u03af\u03ba\u03bf\u03c2 \u039a\u03b1\u03c4\u03c3\u03b1\u03ca\u03b4\u03ce\u03bd\u03b7\u03c2",
            "userId": "13489937806515013970"
          },
          "user_tz": -180
        },
        "id": "8FnjPny3Ren5",
        "outputId": "6e5143bb-b620-4db0-f01e-e7cfcc2307e7"
      },
      "outputs": [
        {
          "name": "stdout",
          "output_type": "stream",
          "text": [
            "Accuracy for distilbert-base-uncased-finetuned-sst-2-english: 46.00%\n"
          ]
        }
      ],
      "source": [
        "print(f\"Accuracy for distilbert-base-uncased-finetuned-sst-2-english: {model3_accuracy* 100:.2f}%\")"
      ]
    },
    {
      "cell_type": "markdown",
      "metadata": {
        "id": "mPAh50FP-jaE"
      },
      "source": [
        "**Model facebook/bart-large-mnli**"
      ]
    },
    {
      "cell_type": "code",
      "execution_count": null,
      "metadata": {
        "colab": {
          "base_uri": "https://localhost:8080/"
        },
        "collapsed": true,
        "executionInfo": {
          "elapsed": 384444,
          "status": "ok",
          "timestamp": 1744669035936,
          "user": {
            "displayName": "\u039d\u03af\u03ba\u03bf\u03c2 \u039a\u03b1\u03c4\u03c3\u03b1\u03ca\u03b4\u03ce\u03bd\u03b7\u03c2",
            "userId": "13489937806515013970"
          },
          "user_tz": -180
        },
        "id": "wbHIh7SGWma4",
        "outputId": "fe32a1ab-e0ca-45e4-f57f-1652462c142e"
      },
      "outputs": [],
      "source": [
        "model4_accuracy = accuracy(train_subset, m4)\n"
      ]
    },
    {
      "cell_type": "code",
      "execution_count": null,
      "metadata": {
        "colab": {
          "base_uri": "https://localhost:8080/"
        },
        "executionInfo": {
          "elapsed": 17,
          "status": "ok",
          "timestamp": 1744669078213,
          "user": {
            "displayName": "\u039d\u03af\u03ba\u03bf\u03c2 \u039a\u03b1\u03c4\u03c3\u03b1\u03ca\u03b4\u03ce\u03bd\u03b7\u03c2",
            "userId": "13489937806515013970"
          },
          "user_tz": -180
        },
        "id": "kqqNmoooWpyM",
        "outputId": "139155da-103b-4bc2-defd-903afba8ad89"
      },
      "outputs": [
        {
          "name": "stdout",
          "output_type": "stream",
          "text": [
            "Accuracy for facebook/bart-large-mnli: 48.00%\n"
          ]
        }
      ],
      "source": [
        "print(f\"Accuracy for facebook/bart-large-mnli: {model4_accuracy* 100:.2f}%\")"
      ]
    },
    {
      "cell_type": "markdown",
      "metadata": {
        "id": "pQfESXeT_VPA"
      },
      "source": [
        "## Accuracy Results\n",
        "\n",
        "| Model                                                | Approach Type     | Accuracy |\n",
        "|------------------------------------------------------|-------------------|----------|\n",
        "| `textattack/bert-base-uncased-WNLI`                  | NLI               | 48.00%   |\n",
        "| `roberta-large-mnli`                                 | NLI               | 48.00%   |\n",
        "| `distilbert-base-uncased-finetuned-sst-2-english`    | Binary Classifier | 46.00%   |\n",
        "| `facebook/bart-large-mnli`                           | NLI               | 48.00%   |\n",
        "\n",
        "---\n",
        "\n",
        "We observe that the NLI-based models performed slightly better than the binary classification model.  \n",
        "However, accuracy remains relatively low (~48%), highlighting the inherent difficulty of the Winogrande dataset.\n"
      ]
    },
    {
      "cell_type": "code",
      "execution_count": 1,
      "metadata": {
        "colab": {
          "base_uri": "https://localhost:8080/",
          "height": 565
        },
        "executionInfo": {
          "elapsed": 975,
          "status": "ok",
          "timestamp": 1746690400213,
          "user": {
            "displayName": "\u039d\u03af\u03ba\u03bf\u03c2 \u039a\u03b1\u03c4\u03c3\u03b1\u03ca\u03b4\u03ce\u03bd\u03b7\u03c2",
            "userId": "13489937806515013970"
          },
          "user_tz": -180
        },
        "id": "z43GSrRo3DRg",
        "outputId": "2c86ef87-fa33-425a-da51-6469b301f2d8"
      },
      "outputs": [
        {
          "data": {
            "image/png": "[encoded data removed]",
            "text/plain": [
              "<Figure size 1000x600 with 1 Axes>"
            ]
          },
          "metadata": {},
          "output_type": "display_data"
        }
      ],
      "source": [
        "import matplotlib.pyplot as plt\n",
        "\n",
        "# \u0394\u03b5\u03b4\u03bf\u03bc\u03ad\u03bd\u03b1\n",
        "models = [\n",
        "    \"textattack/bert-base-uncased-WNLI\",\n",
        "    \"roberta-large-mnli\",\n",
        "    \"distilbert-base-uncased-finetuned-sst-2-english\",\n",
        "    \"facebook/bart-large-mnli\"\n",
        "]\n",
        "\n",
        "accuracies = [48.00, 48.00, 46.00, 48.00]\n",
        "\n",
        "# \u0394\u03b7\u03bc\u03b9\u03bf\u03c5\u03c1\u03b3\u03af\u03b1 barplot\n",
        "plt.figure(figsize=(10, 6))\n",
        "bars = plt.barh(models, accuracies)\n",
        "\n",
        "# \u03a0\u03c1\u03bf\u03c3\u03b8\u03ae\u03ba\u03b7 \u03c4\u03b9\u03bc\u03ce\u03bd \u03c0\u03ac\u03bd\u03c9 \u03c3\u03c4\u03b1 bars\n",
        "for bar, acc in zip(bars, accuracies):\n",
        "    plt.text(acc + 0.5, bar.get_y() + bar.get_height()/2,\n",
        "             f\"{acc:.2f}%\", va='center')\n",
        "\n",
        "plt.xlabel(\"Accuracy (%)\")\n",
        "plt.title(\"\u0391\u03c0\u03bf\u03c4\u03b5\u03bb\u03ad\u03c3\u03bc\u03b1\u03c4\u03b1 \u0391\u03ba\u03c1\u03af\u03b2\u03b5\u03b9\u03b1\u03c2 (Accuracy) \u03b1\u03bd\u03ac \u039c\u03bf\u03bd\u03c4\u03ad\u03bb\u03bf\")\n",
        "plt.xlim(0, 100)\n",
        "plt.show()\n"
      ]
    }
  ],
  "metadata": {
    "colab": {
      "provenance": [
        {
          "file_id": "11oFpap2cL-KAKKkMcQ9LW030ar59Oy_2",
          "timestamp": 1744270836544
        }
      ]
    },
    "kernelspec": {
      "display_name": "Python 3",
      "name": "python3"
    },
    "language_info": {
      "name": "python"
    }
  },
  "nbformat": 4,
  "nbformat_minor": 0
}